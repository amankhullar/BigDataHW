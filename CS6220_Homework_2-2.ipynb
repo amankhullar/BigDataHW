{
  "nbformat": 4,
  "nbformat_minor": 0,
  "metadata": {
    "colab": {
      "name": "CS6220_Homework 2.ipynb",
      "provenance": [],
      "collapsed_sections": []
    },
    "kernelspec": {
      "name": "python3",
      "display_name": "Python 3"
    },
    "language_info": {
      "name": "python"
    },
    "accelerator": "GPU"
  },
  "cells": [
    {
      "cell_type": "markdown",
      "metadata": {
        "id": "wozJM7ALRiu3"
      },
      "source": [
        "# Problem 2.  Understanding Performance Tunning for Training High Accuracy Deep or Shallow Models\n",
        "\n",
        "## Problem 1.1 Performance Tunning for Deep or Shallow Learning \n",
        "\n",
        "- Framework used TensorFlow and the library I used was Keras\n",
        "- Machine Learning Model: Bidirectional LSTM\n",
        "- Dataset: [IMDB Large Movie Review Dataset](http://ai.stanford.edu/~amaas/data/sentiment/)\n"
      ]
    },
    {
      "cell_type": "markdown",
      "metadata": {
        "id": "6rJwZnn3Y6IH"
      },
      "source": [
        "### Import the Libraries"
      ]
    },
    {
      "cell_type": "code",
      "metadata": {
        "id": "6Y7RsM4nRYvm"
      },
      "source": [
        "import os\n",
        "import sys\n",
        "import time\n",
        "\n",
        "import numpy as np\n",
        "\n",
        "import matplotlib.pyplot as plt\n",
        "\n",
        "import tensorflow_datasets as tfds\n",
        "import tensorflow as tf\n",
        "\n",
        "tfds.disable_progress_bar()"
      ],
      "execution_count": 2,
      "outputs": []
    },
    {
      "cell_type": "markdown",
      "metadata": {
        "id": "p86E6X6MauEO"
      },
      "source": [
        "## Data loading"
      ]
    },
    {
      "cell_type": "code",
      "metadata": {
        "colab": {
          "base_uri": "https://localhost:8080/"
        },
        "id": "PnSka9yBaxQ7",
        "outputId": "a51d7a98-7ad0-4c3e-e824-032d938c7d25"
      },
      "source": [
        "dataset, info = tfds.load('imdb_reviews', with_info=True,\n",
        "                          as_supervised=True)\n",
        "train_dataset, test_dataset = dataset['train'], dataset['test']\n",
        "\n",
        "train_dataset.element_spec"
      ],
      "execution_count": 3,
      "outputs": [
        {
          "output_type": "stream",
          "name": "stdout",
          "text": [
            "\u001b[1mDownloading and preparing dataset imdb_reviews/plain_text/1.0.0 (download: 80.23 MiB, generated: Unknown size, total: 80.23 MiB) to /root/tensorflow_datasets/imdb_reviews/plain_text/1.0.0...\u001b[0m\n",
            "Shuffling and writing examples to /root/tensorflow_datasets/imdb_reviews/plain_text/1.0.0.incompleteQWOXLA/imdb_reviews-train.tfrecord\n",
            "Shuffling and writing examples to /root/tensorflow_datasets/imdb_reviews/plain_text/1.0.0.incompleteQWOXLA/imdb_reviews-test.tfrecord\n",
            "Shuffling and writing examples to /root/tensorflow_datasets/imdb_reviews/plain_text/1.0.0.incompleteQWOXLA/imdb_reviews-unsupervised.tfrecord\n"
          ]
        },
        {
          "output_type": "stream",
          "name": "stderr",
          "text": [
            "WARNING:absl:Dataset is using deprecated text encoder API which will be removed soon. Please use the plain_text version of the dataset and migrate to `tensorflow_text`.\n"
          ]
        },
        {
          "output_type": "stream",
          "name": "stdout",
          "text": [
            "\u001b[1mDataset imdb_reviews downloaded and prepared to /root/tensorflow_datasets/imdb_reviews/plain_text/1.0.0. Subsequent calls will reuse this data.\u001b[0m\n"
          ]
        },
        {
          "output_type": "execute_result",
          "data": {
            "text/plain": [
              "(TensorSpec(shape=(), dtype=tf.string, name=None),\n",
              " TensorSpec(shape=(), dtype=tf.int64, name=None))"
            ]
          },
          "metadata": {},
          "execution_count": 3
        }
      ]
    },
    {
      "cell_type": "code",
      "metadata": {
        "colab": {
          "base_uri": "https://localhost:8080/"
        },
        "id": "ySMsE3jEfK9S",
        "outputId": "42f536ee-d51d-4212-8d52-286bc87d8dbf"
      },
      "source": [
        "print(len(list(train_dataset)))\n",
        "print(len(list(test_dataset)))"
      ],
      "execution_count": 46,
      "outputs": [
        {
          "output_type": "stream",
          "name": "stdout",
          "text": [
            "391\n",
            "391\n"
          ]
        }
      ]
    },
    {
      "cell_type": "markdown",
      "metadata": {
        "id": "HWSWfgqRbBVv"
      },
      "source": [
        "### Example datapoints"
      ]
    },
    {
      "cell_type": "code",
      "metadata": {
        "colab": {
          "base_uri": "https://localhost:8080/"
        },
        "id": "SJsbKuiDbkva",
        "outputId": "8120f046-dacf-45c0-d2fd-5b6f07a6cc27"
      },
      "source": [
        "for example, label in train_dataset.take(1):\n",
        "  print('text: ', example.numpy())\n",
        "  print('label: ', label.numpy())"
      ],
      "execution_count": 4,
      "outputs": [
        {
          "output_type": "stream",
          "name": "stdout",
          "text": [
            "text:  b\"This was an absolutely terrible movie. Don't be lured in by Christopher Walken or Michael Ironside. Both are great actors, but this must simply be their worst role in history. Even their great acting could not redeem this movie's ridiculous storyline. This movie is an early nineties US propaganda piece. The most pathetic scenes were those when the Columbian rebels were making their cases for revolutions. Maria Conchita Alonso appeared phony, and her pseudo-love affair with Walken was nothing but a pathetic emotional plug in a movie that was devoid of any real meaning. I am disappointed that there are movies like this, ruining actor's like Christopher Walken's good name. I could barely sit through it.\"\n",
            "label:  0\n"
          ]
        }
      ]
    },
    {
      "cell_type": "code",
      "metadata": {
        "id": "ZAL_ktNdbtZf"
      },
      "source": [
        "# Shuffle the data\n",
        "\n",
        "BUFFER_SIZE = 10000\n",
        "BATCH_SIZE = 64\n",
        "\n",
        "train_dataset = train_dataset.shuffle(BUFFER_SIZE).batch(BATCH_SIZE).prefetch(tf.data.AUTOTUNE)\n",
        "test_dataset = test_dataset.batch(BATCH_SIZE).prefetch(tf.data.AUTOTUNE)"
      ],
      "execution_count": 5,
      "outputs": []
    },
    {
      "cell_type": "code",
      "metadata": {
        "colab": {
          "base_uri": "https://localhost:8080/"
        },
        "id": "XA6tIAdJcnIQ",
        "outputId": "59916089-056d-47a7-c655-0ffceae0645b"
      },
      "source": [
        "for example, label in train_dataset.take(1):\n",
        "  print('text: ', example.numpy()[:3])\n",
        "  print('label: ', label.numpy()[:3])"
      ],
      "execution_count": 193,
      "outputs": [
        {
          "output_type": "stream",
          "name": "stdout",
          "text": [
            "text:  [b\"Kirk and crew land on a lonely planet where the sun is about to explode. They intend to evacuate the inhabitants but find the place deserted except for a Mr. Atoz who operates some sort of high-tech library. Despite trying to get a straight answer from him about everyone's whereabouts, Atoz is indifferent to their questions and insist they must quickly 'make a selection while there is still time'. They have no idea what he's talking about but wander about looking at the hand mirror-like disks on the viewers and they see images of the planet's past. Then, while a disk is in the viewer, Kirk runs through the doorway and is magically transported back in time to what on Earth would look like the time of Louis XIV (the 1660s). When McCoy and Spock follow, a different disk is in the viewer and they are sent to an ice age hell. All too late they realize that the library is a time travel machine and repository.<br /><br />While Kirk's visit is pretty short and not all that exciting, Spock and McCoy's is much more eventful, as Spock falls head over heels for Mariette Hartley--who was sent to this awful place as a punishment. The scenes with Spock are exceptionally interesting and very atypical of the normally logical guy.<br /><br />Spock's departure from the norm, the wildly inventive script and very diverse locales make this an exceptional episode--one well worth seeing.<br /><br />FYI--Ian Wolfe, the excellent character actor, played Mr. Atoz. I am a huge fan of older films and have seen him as a supporting and bit player in countless films in the 30s and 40s and he looked almost exactly like he did in this episode from 1969. Interestingly enough, despite looking ancient, he lived on another 23 years--dying at over 95 years of age!!\"\n",
            " b\"I have loved this movie since I first saw it in 1979. I'm still amazed at how accurately Kurt Russell portrays Elvis, right down to how he moves and the expressions on his face. Sometimes its scary how much he looks, acts, and talks like the real Elvis. Thankfully this is being released on DVD, so all of us that have been waiting can finally have an excellent quality version of the full length film. I have heard the detractors, who say that there are some inaccuracies, or some things left out, but I think that keeping in mind that John Carpenter only had about 2 1/2 hours to work with, and that this was being shown on television (just two years after Elvis's death!) that he did a fine job with this. In fact I haven't seen another Elvis movie that even comes close to this one. Highly recommended.\"\n",
            " b\"There aren't enough gay-themed movies and there aren't enough `coming out' movies. Every one is a welcome addition to the genre. Although the production values are high(the movie `looks' good, Matthias Freihof (Philipp) looks REAL good in a pair of jeans) this is a bad one. It is a period piece: gay life under an oppressive regime(East Berlin, 1989) a life that seems 40 years behind the west. In a way we're seeing our own history; what it might have been like for gays in the 40's and 50's here(it often reminded me of `Last Exit to Brooklyn :the book not the film).But it is unremittingly depressing and SLOW in a contrived way that evoked an old SCTV send up of Ingmar Bergman. It is so sloppily edited I wonder if the director just didn't hack at random. Yes, it is a miracle that this was filmed and released before The Wall came down and yes, life behind the `Curtain' was hard for gay people. A good director could have shown all that without stupefying the audience. A good director would have had me mark this one as one of the great coming-out movies and not one of the misses.\"]\n",
            "label:  [1 1 0]\n"
          ]
        }
      ]
    },
    {
      "cell_type": "markdown",
      "metadata": {
        "id": "d5MZ2henc6GI"
      },
      "source": [
        "### Data Preprocessing and text encoding"
      ]
    },
    {
      "cell_type": "code",
      "metadata": {
        "id": "fpjS0iRvc5Z1"
      },
      "source": [
        "VOCAB_SIZE = 1000\n",
        "encoder = tf.keras.layers.experimental.preprocessing.TextVectorization(\n",
        "    max_tokens=VOCAB_SIZE)\n",
        "encoder.adapt(train_dataset.map(lambda text, label: text))"
      ],
      "execution_count": 10,
      "outputs": []
    },
    {
      "cell_type": "code",
      "metadata": {
        "colab": {
          "base_uri": "https://localhost:8080/"
        },
        "id": "yspRx8V0d6rx",
        "outputId": "75f29d0b-63fd-4e28-97fc-1965d1314a64"
      },
      "source": [
        "vocab = np.array(encoder.get_vocabulary())\n",
        "vocab[:20]"
      ],
      "execution_count": 11,
      "outputs": [
        {
          "output_type": "execute_result",
          "data": {
            "text/plain": [
              "array(['', '[UNK]', 'the', 'and', 'a', 'of', 'to', 'is', 'in', 'it', 'i',\n",
              "       'this', 'that', 'br', 'was', 'as', 'for', 'with', 'movie', 'but'],\n",
              "      dtype='<U14')"
            ]
          },
          "metadata": {},
          "execution_count": 11
        }
      ]
    },
    {
      "cell_type": "code",
      "metadata": {
        "colab": {
          "base_uri": "https://localhost:8080/"
        },
        "id": "1VyXerONeDZO",
        "outputId": "55d710e2-d3e8-45d7-cd4c-8e9764e1062e"
      },
      "source": [
        "encoded_example = encoder(example)[:5].numpy()\n",
        "encoded_example.shape"
      ],
      "execution_count": 12,
      "outputs": [
        {
          "output_type": "execute_result",
          "data": {
            "text/plain": [
              "(5, 953)"
            ]
          },
          "metadata": {},
          "execution_count": 12
        }
      ]
    },
    {
      "cell_type": "markdown",
      "metadata": {
        "id": "WTPQ359UfmIG"
      },
      "source": [
        "### Create the LSTM Model"
      ]
    },
    {
      "cell_type": "code",
      "metadata": {
        "id": "b0gtlx2ffloS"
      },
      "source": [
        "model_base = tf.keras.Sequential([\n",
        "    encoder,\n",
        "    tf.keras.layers.Embedding(\n",
        "        input_dim=len(encoder.get_vocabulary()),\n",
        "        output_dim=64,\n",
        "        # Use masking to handle the variable sequence lengths\n",
        "        mask_zero=True),\n",
        "    tf.keras.layers.Bidirectional(tf.keras.layers.LSTM(64)),\n",
        "    tf.keras.layers.Dense(64, activation='relu'),\n",
        "    tf.keras.layers.Dropout(0.5),\n",
        "    tf.keras.layers.Dense(1)\n",
        "])  # Can change the embedding initializer and in fact\n",
        "    #all the other hyperparameters in the various layers"
      ],
      "execution_count": 13,
      "outputs": []
    },
    {
      "cell_type": "code",
      "metadata": {
        "id": "u6idEUrkhqek"
      },
      "source": [
        "model_base.compile(loss=tf.keras.losses.BinaryCrossentropy(from_logits=True),\n",
        "              optimizer=tf.keras.optimizers.Adam(1e-4),\n",
        "              metrics=['accuracy'])"
      ],
      "execution_count": 14,
      "outputs": []
    },
    {
      "cell_type": "markdown",
      "metadata": {
        "id": "Z88k0Fxfhvep"
      },
      "source": [
        "### Train the model"
      ]
    },
    {
      "cell_type": "code",
      "metadata": {
        "id": "21rQhx5jhtve"
      },
      "source": [
        "def train_model(model_inst):\n",
        "    start_time = time.time()\n",
        "\n",
        "    history = model_inst.fit(train_dataset, epochs=10,\n",
        "                        validation_data=test_dataset,\n",
        "                        validation_steps=30)\n",
        "\n",
        "    end_time = time.time()\n",
        "\n",
        "    mins = (end_time-start_time)/60\n",
        "    secs = (end_time-start_time)%60\n",
        "\n",
        "    print(\"Time taken to train: {} minutes and {} seconds\".format(mins, secs))\n",
        "    return model_inst, history"
      ],
      "execution_count": 15,
      "outputs": []
    },
    {
      "cell_type": "code",
      "metadata": {
        "colab": {
          "base_uri": "https://localhost:8080/"
        },
        "id": "wCno4XQCW3ST",
        "outputId": "e633ca9f-0ce1-4392-ba81-f54f262dc6b7"
      },
      "source": [
        "model_base, history_base = train_model(model_base)"
      ],
      "execution_count": 18,
      "outputs": [
        {
          "output_type": "stream",
          "name": "stdout",
          "text": [
            "Epoch 1/10\n",
            "391/391 [==============================] - 32s 81ms/step - loss: 0.3381 - accuracy: 0.8555 - val_loss: 0.3399 - val_accuracy: 0.8542\n",
            "Epoch 2/10\n",
            "391/391 [==============================] - 33s 82ms/step - loss: 0.3247 - accuracy: 0.8635 - val_loss: 0.3439 - val_accuracy: 0.8448\n",
            "Epoch 3/10\n",
            "391/391 [==============================] - 33s 82ms/step - loss: 0.3164 - accuracy: 0.8688 - val_loss: 0.3283 - val_accuracy: 0.8536\n",
            "Epoch 4/10\n",
            "391/391 [==============================] - 32s 82ms/step - loss: 0.3103 - accuracy: 0.8704 - val_loss: 0.3285 - val_accuracy: 0.8578\n",
            "Epoch 5/10\n",
            "391/391 [==============================] - 32s 82ms/step - loss: 0.3076 - accuracy: 0.8712 - val_loss: 0.3254 - val_accuracy: 0.8547\n",
            "Epoch 6/10\n",
            "391/391 [==============================] - 33s 82ms/step - loss: 0.3042 - accuracy: 0.8727 - val_loss: 0.3228 - val_accuracy: 0.8536\n",
            "Epoch 7/10\n",
            "391/391 [==============================] - 32s 82ms/step - loss: 0.3041 - accuracy: 0.8716 - val_loss: 0.3206 - val_accuracy: 0.8583\n",
            "Epoch 8/10\n",
            "391/391 [==============================] - 32s 82ms/step - loss: 0.3018 - accuracy: 0.8716 - val_loss: 0.3189 - val_accuracy: 0.8604\n",
            "Epoch 9/10\n",
            "391/391 [==============================] - 32s 81ms/step - loss: 0.3014 - accuracy: 0.8721 - val_loss: 0.3234 - val_accuracy: 0.8542\n",
            "Epoch 10/10\n",
            "391/391 [==============================] - 33s 83ms/step - loss: 0.2974 - accuracy: 0.8767 - val_loss: 0.3186 - val_accuracy: 0.8562\n",
            "Time taken to train: 5.978116301695506 minutes and 58.68697810173035 seconds\n"
          ]
        }
      ]
    },
    {
      "cell_type": "markdown",
      "metadata": {
        "id": "Ie2UeEKP3cAf"
      },
      "source": [
        "### Test the model"
      ]
    },
    {
      "cell_type": "code",
      "metadata": {
        "id": "rQ6j85eUicLO"
      },
      "source": [
        "def test_model(model_inst):\n",
        "    start_time = time.time()\n",
        "    test_loss, test_acc = model_inst.evaluate(test_dataset)\n",
        "    end_time = time.time()\n",
        "\n",
        "    mins = (end_time-start_time)/60\n",
        "    secs = (end_time-start_time)%60\n",
        "\n",
        "    print(\"Time taken to test: {} minutes and {} seconds\".format(mins, secs))\n",
        "\n",
        "    print('Test Loss:', test_loss)\n",
        "    print('Test Accuracy:', test_acc)"
      ],
      "execution_count": 20,
      "outputs": []
    },
    {
      "cell_type": "code",
      "metadata": {
        "colab": {
          "base_uri": "https://localhost:8080/"
        },
        "id": "fuvO_e1vYKbv",
        "outputId": "be93493e-8751-46a7-fbea-a6323ebbb671"
      },
      "source": [
        "test_model(model_base)"
      ],
      "execution_count": 21,
      "outputs": [
        {
          "output_type": "stream",
          "name": "stdout",
          "text": [
            "391/391 [==============================] - 19s 49ms/step - loss: 0.3142 - accuracy: 0.8608\n",
            "Time taken to test: 0.32047993342081704 minutes and 19.228796005249023 seconds\n",
            "Test Loss: 0.31423330307006836\n",
            "Test Accuracy: 0.86080002784729\n"
          ]
        }
      ]
    },
    {
      "cell_type": "markdown",
      "metadata": {
        "id": "OWYGuRssMinZ"
      },
      "source": [
        "### Confusion Matrix"
      ]
    },
    {
      "cell_type": "code",
      "metadata": {
        "id": "fa_3EKasRtqh"
      },
      "source": [
        "def get_confusion_matrix(model_inst):\n",
        "    y_pred = []\n",
        "    y_true = []\n",
        "\n",
        "    for x, y in test_dataset:\n",
        "        preds = model_inst.predict([x])\n",
        "        y_pred.extend(preds.flatten().tolist())\n",
        "        y_true.extend(y.numpy().tolist())\n",
        "\n",
        "    y_pred = [1 if i>0 else 0 for i in y_pred]\n",
        "    conf_matrix = tf.math.confusion_matrix(labels=y_true, predictions=y_pred).numpy()\n",
        "    print(conf_matrix)"
      ],
      "execution_count": 22,
      "outputs": []
    },
    {
      "cell_type": "code",
      "metadata": {
        "colab": {
          "base_uri": "https://localhost:8080/"
        },
        "id": "HCbPDjZrYN4E",
        "outputId": "5395b041-9bbc-4604-91f0-0a6baa017ecd"
      },
      "source": [
        "get_confusion_matrix(model_base)"
      ],
      "execution_count": 23,
      "outputs": [
        {
          "output_type": "stream",
          "name": "stdout",
          "text": [
            "[[10754  1746]\n",
            " [ 1661 10839]]\n"
          ]
        }
      ]
    },
    {
      "cell_type": "markdown",
      "metadata": {
        "id": "JjJMPK9lYUeY"
      },
      "source": [
        "#### Train and Validation plots"
      ]
    },
    {
      "cell_type": "code",
      "metadata": {
        "id": "oMBJm1zCin8R"
      },
      "source": [
        "def plot_graphs(history, metric):\n",
        "  plt.plot(history.history[metric])\n",
        "  plt.plot(history.history['val_'+metric], '')\n",
        "  plt.xlabel(\"Epochs\")\n",
        "  plt.ylabel(metric)\n",
        "  plt.legend([metric, 'val_'+metric])"
      ],
      "execution_count": 24,
      "outputs": []
    },
    {
      "cell_type": "code",
      "metadata": {
        "id": "pGHxR3WKih_V"
      },
      "source": [
        "def make_plot(history):\n",
        "    plt.figure(figsize=(16, 8))\n",
        "    plt.subplot(1, 2, 1)\n",
        "    plot_graphs(history, 'accuracy')\n",
        "    plt.ylim(None, 1)\n",
        "    plt.subplot(1, 2, 2)\n",
        "    plot_graphs(history, 'loss')\n",
        "    plt.ylim(0, None)"
      ],
      "execution_count": 25,
      "outputs": []
    },
    {
      "cell_type": "code",
      "metadata": {
        "colab": {
          "base_uri": "https://localhost:8080/",
          "height": 501
        },
        "id": "PmCtBzoPYbcS",
        "outputId": "5dbf1098-28af-4c5f-db4e-851babbca09c"
      },
      "source": [
        "make_plot(history_base)"
      ],
      "execution_count": 26,
      "outputs": [
        {
          "output_type": "display_data",
          "data": {
            "image/png": "[encoded data removed]",
            "text/plain": [
              "<Figure size 1152x576 with 2 Axes>"
            ]
          },
          "metadata": {
            "needs_background": "light"
          }
        }
      ]
    },
    {
      "cell_type": "markdown",
      "metadata": {
        "id": "GV2w9BjTzJtx"
      },
      "source": [
        "### Model storage size and summary"
      ]
    },
    {
      "cell_type": "code",
      "metadata": {
        "colab": {
          "base_uri": "https://localhost:8080/"
        },
        "id": "xDL7wdqgy2Y_",
        "outputId": "2a8f2675-7e02-4ebe-c5e2-80bd5d92efe1"
      },
      "source": [
        "model_base.summary()"
      ],
      "execution_count": 27,
      "outputs": [
        {
          "output_type": "stream",
          "name": "stdout",
          "text": [
            "Model: \"sequential\"\n",
            "_________________________________________________________________\n",
            "Layer (type)                 Output Shape              Param #   \n",
            "=================================================================\n",
            "text_vectorization (TextVect (None, None)              0         \n",
            "_________________________________________________________________\n",
            "embedding (Embedding)        (None, None, 64)          64000     \n",
            "_________________________________________________________________\n",
            "bidirectional (Bidirectional (None, 128)               66048     \n",
            "_________________________________________________________________\n",
            "dense (Dense)                (None, 64)                8256      \n",
            "_________________________________________________________________\n",
            "dropout (Dropout)            (None, 64)                0         \n",
            "_________________________________________________________________\n",
            "dense_1 (Dense)              (None, 1)                 65        \n",
            "=================================================================\n",
            "Total params: 138,369\n",
            "Trainable params: 138,369\n",
            "Non-trainable params: 0\n",
            "_________________________________________________________________\n"
          ]
        }
      ]
    },
    {
      "cell_type": "code",
      "metadata": {
        "colab": {
          "base_uri": "https://localhost:8080/"
        },
        "id": "hleVn-pbzIu5",
        "outputId": "e220f782-2923-44cd-cc7d-da1f4b7268ee"
      },
      "source": [
        "model_base.save('drive/MyDrive/GaTech/big_data/model_base')"
      ],
      "execution_count": 28,
      "outputs": [
        {
          "output_type": "stream",
          "name": "stderr",
          "text": [
            "WARNING:absl:Found untraced functions such as lstm_cell_1_layer_call_fn, lstm_cell_1_layer_call_and_return_conditional_losses, lstm_cell_2_layer_call_fn, lstm_cell_2_layer_call_and_return_conditional_losses, lstm_cell_1_layer_call_fn while saving (showing 5 of 10). These functions will not be directly callable after loading.\n"
          ]
        },
        {
          "output_type": "stream",
          "name": "stdout",
          "text": [
            "INFO:tensorflow:Assets written to: drive/MyDrive/GaTech/big_data/model_base/assets\n"
          ]
        },
        {
          "output_type": "stream",
          "name": "stderr",
          "text": [
            "INFO:tensorflow:Assets written to: drive/MyDrive/GaTech/big_data/model_base/assets\n"
          ]
        }
      ]
    },
    {
      "cell_type": "code",
      "metadata": {
        "colab": {
          "base_uri": "https://localhost:8080/"
        },
        "id": "zLr7Sp1_zoUY",
        "outputId": "8f47a3bb-6c79-40c2-bc9f-27f71788b743"
      },
      "source": [
        "!du -hsx drive/MyDrive/GaTech/big_data/model_base"
      ],
      "execution_count": 29,
      "outputs": [
        {
          "output_type": "stream",
          "name": "stdout",
          "text": [
            "8.5M\tdrive/MyDrive/GaTech/big_data/model_base\n"
          ]
        }
      ]
    },
    {
      "cell_type": "markdown",
      "metadata": {
        "id": "kbXZmuSpiwzc"
      },
      "source": [
        "### Out of Distribution data prediction"
      ]
    },
    {
      "cell_type": "code",
      "metadata": {
        "id": "mfVeVH5LiwCO",
        "colab": {
          "base_uri": "https://localhost:8080/"
        },
        "outputId": "96c40473-6b3b-488f-cee7-9e10ef308d24"
      },
      "source": [
        "for example, label in test_dataset.take(1):\n",
        "  print('text: ', example.numpy()[:10])\n",
        "  print('label: ', label.numpy()[:10])"
      ],
      "execution_count": 30,
      "outputs": [
        {
          "output_type": "stream",
          "name": "stdout",
          "text": [
            "text:  [b\"There are films that make careers. For George Romero, it was NIGHT OF THE LIVING DEAD; for Kevin Smith, CLERKS; for Robert Rodriguez, EL MARIACHI. Add to that list Onur Tukel's absolutely amazing DING-A-LING-LESS. Flawless film-making, and as assured and as professional as any of the aforementioned movies. I haven't laughed this hard since I saw THE FULL MONTY. (And, even then, I don't think I laughed quite this hard... So to speak.) Tukel's talent is considerable: DING-A-LING-LESS is so chock full of double entendres that one would have to sit down with a copy of this script and do a line-by-line examination of it to fully appreciate the, uh, breadth and width of it. Every shot is beautifully composed (a clear sign of a sure-handed director), and the performances all around are solid (there's none of the over-the-top scenery chewing one might've expected from a film like this). DING-A-LING-LESS is a film whose time has come.\"\n",
            " b\"A blackly comic tale of a down-trodden priest, Nazarin showcases the economy that Luis Bunuel was able to achieve in being able to tell a deeply humanist fable with a minimum of fuss. As an output from his Mexican era of film making, it was an invaluable talent to possess, with little money and extremely tight schedules. Nazarin, however, surpasses many of Bunuel's previous Mexican films in terms of the acting (Francisco Rabal is excellent), narrative and theme.<br /><br />The theme, interestingly, is something that was explored again in Viridiana, made three years later in Spain. It concerns the individual's struggle for humanity and altruism amongst a society that rejects any notion of virtue. Father Nazarin, however, is portrayed more sympathetically than Sister Viridiana. Whereas the latter seems to choose charity because she wishes to atone for her (perceived) sins, Nazarin's whole existence and reason for being seems to be to help others, whether they (or we) like it or not. The film's last scenes, in which he casts doubt on his behaviour and, in a split second, has to choose between the life he has been leading or the conventional life that is expected of a priest, are so emotional because they concern his moral integrity and we are never quite sure whether it remains intact or not.<br /><br />This is a remarkable film and I would urge anyone interested in classic cinema to seek it out. It is one of Bunuel's most moving films, and encapsulates many of his obsessions: frustrated desire, mad love, religious hypocrisy etc. In my view 'Nazarin' is second only to 'The Exterminating Angel', in terms of his Mexican movies, and is certainly near the top of the list of Bunuel's total filmic output.\"\n",
            " b'Scary Movie 1-4, Epic Movie, Date Movie, Meet the Spartans, Not another Teen Movie and Another Gay Movie. Making \"Superhero Movie\" the eleventh in a series that single handily ruined the parody genre. Now I\\'ll admit it I have a soft spot for classics such as Airplane and The Naked Gun but you know you\\'ve milked a franchise so bad when you can see the gags a mile off. In fact the only thing that might really temp you into going to see this disaster is the incredibly funny but massive sell-out Leslie Neilson.<br /><br />You can tell he needs the money, wither that or he intends to go down with the ship like a good Capitan would. In no way is he bringing down this genre but hell he\\'s not helping it. But if I feel sorry for anybody in this film its decent actor Drake Bell who is put through an immense amount of embarrassment. The people who are put through the largest amount of torture by far however is the audience forced to sit through 90 minutes of laughless bile no funnier than herpes.<br /><br />After spoofing disaster films in Airplane!, police shows in The Naked Gun, and Hollywood horrors in Scary Movie 3 and 4, producer David Zucker sets his satirical sights on the superhero genre with this anarchic comedy lampooning everything from Spider-Man to X-Men and Superman Returns.<br /><br />Shortly after being bitten by a genetically altered dragonfly, high-school outcast Rick Riker (Drake Bell) begins to experience a startling transformation. Now Rick\\'s skin is as strong as steel, and he possesses the strength of ten men. Determined to use his newfound powers to fight crime, Rick creates a special costume and assumes the identity of The Dragonfly -- a fearless crime fighter dedicated to keeping the streets safe for law-abiding citizens.<br /><br />But every superhero needs a nemesis, and after Lou Landers (Christopher McDonald) is caught in the middle of an experiment gone horribly awry, he develops the power to leech the life force out of anyone he meets and becomes the villainous Hourglass. Intent on achieving immortality, the Hourglass attempts to gather as much life force as possible as the noble Dragonfly sets out to take down his archenemy and realize his destiny as a true hero. Craig Mazin writes and directs this low-flying spoof.<br /><br />featuring Tracy Morgan, Pamela Anderson, Leslie Nielsen, Marion Ross, Jeffrey Tambor, and Regina Hall.<br /><br />Hell Superhero Movie may earn some merit in the fact that it\\'s a hell of a lot better than Meet the Spartans and Epic Movie. But with great responsibility comes one of the worst outings of 2008 to date. Laughless but a little less irritating than Meet the Spartans. And in the same sense much more forgettable than meet the Spartans. But maybe that\\'s a good reason. There are still some of us trying to scrape away the stain that was Meet the Spartans from our memory.<br /><br />My final verdict? Avoid, unless you\\'re one of thoses people who enjoy such car crash cinema. As bad as Date Movie and Scary Movie 2 but not quite as bad as Meet the Spartans or Epic Movie. Super Villain.'\n",
            " b'Poor Shirley MacLaine tries hard to lend some gravitas to this mawkish, gag-inducing \"feel-good\" movie, but she\\'s trampled by the run-away sentimentality of a film that\\'s not the least bit grounded in reality.<br /><br />This was directed by Curtis Hanson? Did he have a lobotomy since we last heard from him? Hanson can do effective drama sprinkled with comedy, as evidenced by \"Wonder Boys.\" So I don\\'t know what happened to him here. This is the kind of movie that doesn\\'t want to accept that life is messy and fussy, and that neat, tidy endings (however implausible they might be) might make for a nice closing shot, but come across as utterly phony if the people watching the film have been through anything remotely like what the characters in the film go through.<br /><br />My wife and I made a game of calling out the plot points before they occurred -- e.g. \"the old man\\'s going to teach her to read and then drop dead.\" Bingo! This is one of those movies where the characters give little speeches summarizing their emotional problems, making you wonder why they still have emotional problems if they\\'re that aware of what\\'s causing them. Toni Collette (a fine actress, by the way, and one of my favorites if not given a lot to work with here), gives a speech early on about why she buys so many shoes and never wears them, spelling out in flashing neon the film\\'s awkward connecting motif. At that moment, I knew what I was in for, and the film was a downward spiral from there.<br /><br />Grade: C-'\n",
            " b'As a former Erasmus student I enjoyed this film very much. It was so realistic and funny. It really picked up the spirit that exists among Erasmus students. I hope, many other students will follow this experience, too. However, I wonder if this movie is all that interesting to watch for people with no international experience. But at least one of my friends who has never gone on Erasmus also enjoyed it very much. I give it 9 out of 10.'\n",
            " b\"My God, Ryan Gosling has made a lot of deep characters in his career, this is one of his wonderful acting jobs. For me this is a very deep movie, needs a lot of concentration, not because is difficult to watch, just because you understand it if you put your shoes in this kid, even though has everything and has famous father that is a writer, has a deeper mind, you don't understand why he kills this poor kid, until you really heard what he has to say and you start to think, at least to me, that a lot of things that he says is true. Simple kid, sweet, very gentle, in a way normal like any teenage, but inside of him suffer because he start to look at the world in a different way, then you understand why he did what he did. I recommend this movie for those who likes deep drama.\"\n",
            " b\"This film just won the best film award at the Cleveland International Film Festival. It's American title apparently is Autumn Spring. The acting is superb. The story takes you into the life of an elderly man who takes what life deals him and spikes it up a little bit. Abetted by his best friend (and partner in not-so-serious crime) he puts people on at every opportunity but still often reveals his heart of gold. His longsuffering wife has come to her wits end and makes a life-changing decision which is heartbreaking to watch. The resolution of the story is beautiful.\"\n",
            " b'The cast for this production of Rigoletto is excellent. Edita Gruberova sings Gilda magnificently and passionately. Luciano Pavarotti also sings splendidly. Vergara is a fine Maddalena; Fedora Barbieri is a famous older singer who sings the maid, Giovanna. Weikl sings Marullo; Wixell sings both Rigoletto and Monterone. As Rigoletto, Wixell is probably the most convincing acting singer in this hard-to-beat ensemble of great singers. Kathleen Kuhlmann in the Contessa. All principals are well-known and world-renowned.<br /><br />This is an exciting Rigoletto visually as well as musically.<br /><br />I have it on both laser disc and DVD. You should have it too!'\n",
            " b'As long as you keep in mind that the production of this movie was a copyright ploy, and not intended as a serious release, it is actually surprising how not absolutely horrible it is. I even liked the theme music.<br /><br />And if ever a flick cried out for a treatment by Joel (or Mike) and the MST3K Bots, this is it! Watch this with a bunch of smart-ass wise-crackers, and you\\'re in for a good time. Have a brew, butter up some large pretzels, and enjoy.<br /><br />Of course, obtaining a copy requires buying a bootleg or downloading it as shareware, but if you\\'re here on the IMDb, then you\\'re most likely savvy enough to do so. Good luck.<br /><br />And look for my favorite part....where Dr. Doom informs the FF that they have 12 hours to comply with his wishes....and he actually gestures the number \"12\" with his finger while doing so....it\\'s like \"Evil Sesame Street\"....hoo boy.<br /><br />...and of course Mrs. Storm declaring \"Just look at you....the Fanstastic Four\" is just so heartwarming....you\\'ll laugh, you\\'ll cry.....<br /><br />So if you love schlocky Sci-Fi, this one\\'s Fantastic For you!'\n",
            " b\"Every great once in a while, you stumble upon a movie that exceeds even your wildest expectations. Given the IMDb rating of 4.0, I wasn't really expecting much with The Brotherhood of Satan. I hoped that at a minimum it might be cheesy fun like The Devil's Rain or any of the other early 70s similarly themed Satanic horror films. I couldn't' have been more wrong. What I got instead was an ambitious and intelligent film with a cast I really enjoyed. Speaking in broad terms to avoid giving anything away, the film's style and structure are much more experimental than the straightforward storytelling so prominent in the early 70s. The Brotherhood of Satan doesn't beat you over the head with plot points and explanations. A lot is left to the viewer to fill in the blanks. As a viewer, you know something is amiss, but for the longest period you're just not sure what it is. The unknown helps make for a far creepier atmosphere than most similar films. The ending is effective with its surreal imagery. I sat in amazement as the final credits began to roll. Those wanting a big slam-bang finale will be disappointed with the ending's simplicity. A lesser film would have tried to pull out all the stops and would, most likely, have failed miserably.<br /><br />There are moments in the film where it's easy to forget the director, Bernard McEveety, had primarily worked in television before The Brotherhood of Satan. There are a few scenes that are so well set-up, lit, and shot that even the most accomplished of directors could learn a thing or two. For example, I've seen enough films over the years to realize that directors can sometimes seem to have trouble shooting widescreen shots indoors. Not here. The scene where the men are discussing their plan of action in the sheriff's office is amazing. We see all five men at once \\xc2\\x96 each doing their own thing as in real life. In a lesser film, we might see all the men at once, but each would be motionless, quietly waiting their turn to deliver their dialogue. It's a small scene, but it looks so natural and is so beautifully shot that it's one of my favorite moments of The Brotherhood of Satan.<br /><br />Finally, I mentioned the acting in my opening, so without going into a long-winded speech, I'll just say that The Brotherhood of Satan features Strother Martin and L.Q. Jones. Any film with these two guys is almost an automatic winner with me.\"]\n",
            "label:  [1 1 0 0 1 1 1 1 0 1]\n"
          ]
        }
      ]
    },
    {
      "cell_type": "markdown",
      "metadata": {
        "id": "lK2lYLFF6aFT"
      },
      "source": [
        "#### OOD Datapoints:\n",
        "- Dataset link: https://arxiv.org/pdf/2012.10289.pdf"
      ]
    },
    {
      "cell_type": "code",
      "metadata": {
        "id": "7tpgj_VE8tqm"
      },
      "source": [
        "oods = [\n",
        "        \"lol what a stupid kike\",\n",
        "        \"watching the rugby game and the entire other team has long hair this feels antithetical to the dyke ethos of it all\",\n",
        "        \"folks i do not wana be greedy so today i ama start da same program i had on twitter so here it is da first nigger who can retweet dis go win a free cup of shit to eat ok go\",\n",
        "        \"that not a compliment a compliment is you are sexy you turn me on not not one look at you and i know i am queer\",\n",
        "        \"every kike needs to be baptised\",\n",
        "        \"non white and kike we are coming for you a white revolution is on its way\",\n",
        "        \"hunger games with little niglet babies\",\n",
        "        \"stupid meme delete now dont you dare put a kike on the boss face not even joking delete now\",\n",
        "        \"meanwhile an entire company gets shutdown for diversity training because two coons decided to loiter and then refuse police orders to disperse that called privilege and blacks have it\",\n",
        "        \"on a bus not one single english person plus one coon talking on the phone in some gibberish language i do not understand\"\n",
        "]"
      ],
      "execution_count": 31,
      "outputs": []
    },
    {
      "cell_type": "code",
      "metadata": {
        "colab": {
          "base_uri": "https://localhost:8080/"
        },
        "id": "h_mLUgJIA_D0",
        "outputId": "f7e85ffc-8210-424e-c83d-d69ab4bc86d7"
      },
      "source": [
        "for ood in oods:\n",
        "    pred = model_base.predict([ood])\n",
        "    print(\"Prediction confidence : {}\".format(pred))"
      ],
      "execution_count": 32,
      "outputs": [
        {
          "output_type": "stream",
          "name": "stdout",
          "text": [
            "Prediction confidence : [[-0.9284324]]\n",
            "Prediction confidence : [[-0.00087826]]\n",
            "Prediction confidence : [[-0.83982784]]\n",
            "Prediction confidence : [[-0.354468]]\n",
            "Prediction confidence : [[0.09274442]]\n",
            "Prediction confidence : [[1.187999]]\n",
            "Prediction confidence : [[0.1415203]]\n",
            "Prediction confidence : [[-1.0073317]]\n",
            "Prediction confidence : [[-0.7593328]]\n",
            "Prediction confidence : [[-0.91483915]]\n"
          ]
        }
      ]
    },
    {
      "cell_type": "markdown",
      "metadata": {
        "id": "LyYxhTIOJTG_"
      },
      "source": [
        "#### Prediction confidence in test set"
      ]
    },
    {
      "cell_type": "code",
      "metadata": {
        "colab": {
          "base_uri": "https://localhost:8080/"
        },
        "id": "GXw4LYoPJTHA",
        "outputId": "a5c2636d-8e3e-418c-9af3-3143af71a25b"
      },
      "source": [
        "for example, label in test_dataset.take(1):\n",
        "    preds = model_base.predict([example.numpy()[:10]])\n",
        "    print('text: ', example.numpy()[:10])\n",
        "    print('label: ', label.numpy()[:10])\n",
        "    print(\"Predictions: {}\".format(preds.flatten()))"
      ],
      "execution_count": 33,
      "outputs": [
        {
          "output_type": "stream",
          "name": "stdout",
          "text": [
            "text:  [b\"There are films that make careers. For George Romero, it was NIGHT OF THE LIVING DEAD; for Kevin Smith, CLERKS; for Robert Rodriguez, EL MARIACHI. Add to that list Onur Tukel's absolutely amazing DING-A-LING-LESS. Flawless film-making, and as assured and as professional as any of the aforementioned movies. I haven't laughed this hard since I saw THE FULL MONTY. (And, even then, I don't think I laughed quite this hard... So to speak.) Tukel's talent is considerable: DING-A-LING-LESS is so chock full of double entendres that one would have to sit down with a copy of this script and do a line-by-line examination of it to fully appreciate the, uh, breadth and width of it. Every shot is beautifully composed (a clear sign of a sure-handed director), and the performances all around are solid (there's none of the over-the-top scenery chewing one might've expected from a film like this). DING-A-LING-LESS is a film whose time has come.\"\n",
            " b\"A blackly comic tale of a down-trodden priest, Nazarin showcases the economy that Luis Bunuel was able to achieve in being able to tell a deeply humanist fable with a minimum of fuss. As an output from his Mexican era of film making, it was an invaluable talent to possess, with little money and extremely tight schedules. Nazarin, however, surpasses many of Bunuel's previous Mexican films in terms of the acting (Francisco Rabal is excellent), narrative and theme.<br /><br />The theme, interestingly, is something that was explored again in Viridiana, made three years later in Spain. It concerns the individual's struggle for humanity and altruism amongst a society that rejects any notion of virtue. Father Nazarin, however, is portrayed more sympathetically than Sister Viridiana. Whereas the latter seems to choose charity because she wishes to atone for her (perceived) sins, Nazarin's whole existence and reason for being seems to be to help others, whether they (or we) like it or not. The film's last scenes, in which he casts doubt on his behaviour and, in a split second, has to choose between the life he has been leading or the conventional life that is expected of a priest, are so emotional because they concern his moral integrity and we are never quite sure whether it remains intact or not.<br /><br />This is a remarkable film and I would urge anyone interested in classic cinema to seek it out. It is one of Bunuel's most moving films, and encapsulates many of his obsessions: frustrated desire, mad love, religious hypocrisy etc. In my view 'Nazarin' is second only to 'The Exterminating Angel', in terms of his Mexican movies, and is certainly near the top of the list of Bunuel's total filmic output.\"\n",
            " b'Scary Movie 1-4, Epic Movie, Date Movie, Meet the Spartans, Not another Teen Movie and Another Gay Movie. Making \"Superhero Movie\" the eleventh in a series that single handily ruined the parody genre. Now I\\'ll admit it I have a soft spot for classics such as Airplane and The Naked Gun but you know you\\'ve milked a franchise so bad when you can see the gags a mile off. In fact the only thing that might really temp you into going to see this disaster is the incredibly funny but massive sell-out Leslie Neilson.<br /><br />You can tell he needs the money, wither that or he intends to go down with the ship like a good Capitan would. In no way is he bringing down this genre but hell he\\'s not helping it. But if I feel sorry for anybody in this film its decent actor Drake Bell who is put through an immense amount of embarrassment. The people who are put through the largest amount of torture by far however is the audience forced to sit through 90 minutes of laughless bile no funnier than herpes.<br /><br />After spoofing disaster films in Airplane!, police shows in The Naked Gun, and Hollywood horrors in Scary Movie 3 and 4, producer David Zucker sets his satirical sights on the superhero genre with this anarchic comedy lampooning everything from Spider-Man to X-Men and Superman Returns.<br /><br />Shortly after being bitten by a genetically altered dragonfly, high-school outcast Rick Riker (Drake Bell) begins to experience a startling transformation. Now Rick\\'s skin is as strong as steel, and he possesses the strength of ten men. Determined to use his newfound powers to fight crime, Rick creates a special costume and assumes the identity of The Dragonfly -- a fearless crime fighter dedicated to keeping the streets safe for law-abiding citizens.<br /><br />But every superhero needs a nemesis, and after Lou Landers (Christopher McDonald) is caught in the middle of an experiment gone horribly awry, he develops the power to leech the life force out of anyone he meets and becomes the villainous Hourglass. Intent on achieving immortality, the Hourglass attempts to gather as much life force as possible as the noble Dragonfly sets out to take down his archenemy and realize his destiny as a true hero. Craig Mazin writes and directs this low-flying spoof.<br /><br />featuring Tracy Morgan, Pamela Anderson, Leslie Nielsen, Marion Ross, Jeffrey Tambor, and Regina Hall.<br /><br />Hell Superhero Movie may earn some merit in the fact that it\\'s a hell of a lot better than Meet the Spartans and Epic Movie. But with great responsibility comes one of the worst outings of 2008 to date. Laughless but a little less irritating than Meet the Spartans. And in the same sense much more forgettable than meet the Spartans. But maybe that\\'s a good reason. There are still some of us trying to scrape away the stain that was Meet the Spartans from our memory.<br /><br />My final verdict? Avoid, unless you\\'re one of thoses people who enjoy such car crash cinema. As bad as Date Movie and Scary Movie 2 but not quite as bad as Meet the Spartans or Epic Movie. Super Villain.'\n",
            " b'Poor Shirley MacLaine tries hard to lend some gravitas to this mawkish, gag-inducing \"feel-good\" movie, but she\\'s trampled by the run-away sentimentality of a film that\\'s not the least bit grounded in reality.<br /><br />This was directed by Curtis Hanson? Did he have a lobotomy since we last heard from him? Hanson can do effective drama sprinkled with comedy, as evidenced by \"Wonder Boys.\" So I don\\'t know what happened to him here. This is the kind of movie that doesn\\'t want to accept that life is messy and fussy, and that neat, tidy endings (however implausible they might be) might make for a nice closing shot, but come across as utterly phony if the people watching the film have been through anything remotely like what the characters in the film go through.<br /><br />My wife and I made a game of calling out the plot points before they occurred -- e.g. \"the old man\\'s going to teach her to read and then drop dead.\" Bingo! This is one of those movies where the characters give little speeches summarizing their emotional problems, making you wonder why they still have emotional problems if they\\'re that aware of what\\'s causing them. Toni Collette (a fine actress, by the way, and one of my favorites if not given a lot to work with here), gives a speech early on about why she buys so many shoes and never wears them, spelling out in flashing neon the film\\'s awkward connecting motif. At that moment, I knew what I was in for, and the film was a downward spiral from there.<br /><br />Grade: C-'\n",
            " b'As a former Erasmus student I enjoyed this film very much. It was so realistic and funny. It really picked up the spirit that exists among Erasmus students. I hope, many other students will follow this experience, too. However, I wonder if this movie is all that interesting to watch for people with no international experience. But at least one of my friends who has never gone on Erasmus also enjoyed it very much. I give it 9 out of 10.'\n",
            " b\"My God, Ryan Gosling has made a lot of deep characters in his career, this is one of his wonderful acting jobs. For me this is a very deep movie, needs a lot of concentration, not because is difficult to watch, just because you understand it if you put your shoes in this kid, even though has everything and has famous father that is a writer, has a deeper mind, you don't understand why he kills this poor kid, until you really heard what he has to say and you start to think, at least to me, that a lot of things that he says is true. Simple kid, sweet, very gentle, in a way normal like any teenage, but inside of him suffer because he start to look at the world in a different way, then you understand why he did what he did. I recommend this movie for those who likes deep drama.\"\n",
            " b\"This film just won the best film award at the Cleveland International Film Festival. It's American title apparently is Autumn Spring. The acting is superb. The story takes you into the life of an elderly man who takes what life deals him and spikes it up a little bit. Abetted by his best friend (and partner in not-so-serious crime) he puts people on at every opportunity but still often reveals his heart of gold. His longsuffering wife has come to her wits end and makes a life-changing decision which is heartbreaking to watch. The resolution of the story is beautiful.\"\n",
            " b'The cast for this production of Rigoletto is excellent. Edita Gruberova sings Gilda magnificently and passionately. Luciano Pavarotti also sings splendidly. Vergara is a fine Maddalena; Fedora Barbieri is a famous older singer who sings the maid, Giovanna. Weikl sings Marullo; Wixell sings both Rigoletto and Monterone. As Rigoletto, Wixell is probably the most convincing acting singer in this hard-to-beat ensemble of great singers. Kathleen Kuhlmann in the Contessa. All principals are well-known and world-renowned.<br /><br />This is an exciting Rigoletto visually as well as musically.<br /><br />I have it on both laser disc and DVD. You should have it too!'\n",
            " b'As long as you keep in mind that the production of this movie was a copyright ploy, and not intended as a serious release, it is actually surprising how not absolutely horrible it is. I even liked the theme music.<br /><br />And if ever a flick cried out for a treatment by Joel (or Mike) and the MST3K Bots, this is it! Watch this with a bunch of smart-ass wise-crackers, and you\\'re in for a good time. Have a brew, butter up some large pretzels, and enjoy.<br /><br />Of course, obtaining a copy requires buying a bootleg or downloading it as shareware, but if you\\'re here on the IMDb, then you\\'re most likely savvy enough to do so. Good luck.<br /><br />And look for my favorite part....where Dr. Doom informs the FF that they have 12 hours to comply with his wishes....and he actually gestures the number \"12\" with his finger while doing so....it\\'s like \"Evil Sesame Street\"....hoo boy.<br /><br />...and of course Mrs. Storm declaring \"Just look at you....the Fanstastic Four\" is just so heartwarming....you\\'ll laugh, you\\'ll cry.....<br /><br />So if you love schlocky Sci-Fi, this one\\'s Fantastic For you!'\n",
            " b\"Every great once in a while, you stumble upon a movie that exceeds even your wildest expectations. Given the IMDb rating of 4.0, I wasn't really expecting much with The Brotherhood of Satan. I hoped that at a minimum it might be cheesy fun like The Devil's Rain or any of the other early 70s similarly themed Satanic horror films. I couldn't' have been more wrong. What I got instead was an ambitious and intelligent film with a cast I really enjoyed. Speaking in broad terms to avoid giving anything away, the film's style and structure are much more experimental than the straightforward storytelling so prominent in the early 70s. The Brotherhood of Satan doesn't beat you over the head with plot points and explanations. A lot is left to the viewer to fill in the blanks. As a viewer, you know something is amiss, but for the longest period you're just not sure what it is. The unknown helps make for a far creepier atmosphere than most similar films. The ending is effective with its surreal imagery. I sat in amazement as the final credits began to roll. Those wanting a big slam-bang finale will be disappointed with the ending's simplicity. A lesser film would have tried to pull out all the stops and would, most likely, have failed miserably.<br /><br />There are moments in the film where it's easy to forget the director, Bernard McEveety, had primarily worked in television before The Brotherhood of Satan. There are a few scenes that are so well set-up, lit, and shot that even the most accomplished of directors could learn a thing or two. For example, I've seen enough films over the years to realize that directors can sometimes seem to have trouble shooting widescreen shots indoors. Not here. The scene where the men are discussing their plan of action in the sheriff's office is amazing. We see all five men at once \\xc2\\x96 each doing their own thing as in real life. In a lesser film, we might see all the men at once, but each would be motionless, quietly waiting their turn to deliver their dialogue. It's a small scene, but it looks so natural and is so beautifully shot that it's one of my favorite moments of The Brotherhood of Satan.<br /><br />Finally, I mentioned the acting in my opening, so without going into a long-winded speech, I'll just say that The Brotherhood of Satan features Strother Martin and L.Q. Jones. Any film with these two guys is almost an automatic winner with me.\"]\n",
            "label:  [1 1 0 0 1 1 1 1 0 1]\n",
            "Predictions: [-1.185248   2.995995  -3.0202348 -2.085543   2.874047   2.9490826\n",
            "  6.432105   4.5850234  1.641687   0.6386974]\n"
          ]
        }
      ]
    },
    {
      "cell_type": "markdown",
      "metadata": {
        "id": "XRWPkOKDE2wR"
      },
      "source": [
        "### Create the Stacked LSTM Model"
      ]
    },
    {
      "cell_type": "code",
      "metadata": {
        "id": "c64B8QF9E2wR"
      },
      "source": [
        "model_stk = tf.keras.Sequential([\n",
        "encoder,\n",
        "tf.keras.layers.Embedding(len(encoder.get_vocabulary()), 64, mask_zero=True),\n",
        "tf.keras.layers.Bidirectional(tf.keras.layers.LSTM(64,  return_sequences=True)),\n",
        "tf.keras.layers.Bidirectional(tf.keras.layers.LSTM(32)),\n",
        "tf.keras.layers.Dense(64, activation='relu'),\n",
        "tf.keras.layers.Dropout(0.5),\n",
        "tf.keras.layers.Dense(1)\n",
        "])"
      ],
      "execution_count": 34,
      "outputs": []
    },
    {
      "cell_type": "code",
      "metadata": {
        "id": "hVLQLw8nE2wR"
      },
      "source": [
        "model_stk.compile(loss=tf.keras.losses.BinaryCrossentropy(from_logits=True),\n",
        "              optimizer=tf.keras.optimizers.Adam(1e-4),\n",
        "              metrics=['accuracy'])"
      ],
      "execution_count": 35,
      "outputs": []
    },
    {
      "cell_type": "markdown",
      "metadata": {
        "id": "pO7cZqNDE2wR"
      },
      "source": [
        "### Train the stacked LSTM model"
      ]
    },
    {
      "cell_type": "code",
      "metadata": {
        "colab": {
          "base_uri": "https://localhost:8080/"
        },
        "id": "ejwhs5k-E2wS",
        "outputId": "5658e270-a739-4edb-c5a0-3a811fc39356"
      },
      "source": [
        "model_stk, history_stk = train_model(model_stk)"
      ],
      "execution_count": 37,
      "outputs": [
        {
          "output_type": "stream",
          "name": "stdout",
          "text": [
            "Epoch 1/10\n",
            "391/391 [==============================] - 60s 151ms/step - loss: 0.4417 - accuracy: 0.7903 - val_loss: 0.3631 - val_accuracy: 0.8385\n",
            "Epoch 2/10\n",
            "391/391 [==============================] - 55s 140ms/step - loss: 0.3491 - accuracy: 0.8514 - val_loss: 0.4092 - val_accuracy: 0.7943\n",
            "Epoch 3/10\n",
            "391/391 [==============================] - 55s 139ms/step - loss: 0.3273 - accuracy: 0.8612 - val_loss: 0.3260 - val_accuracy: 0.8469\n",
            "Epoch 4/10\n",
            "391/391 [==============================] - 55s 140ms/step - loss: 0.3145 - accuracy: 0.8655 - val_loss: 0.3196 - val_accuracy: 0.8651\n",
            "Epoch 5/10\n",
            "391/391 [==============================] - 55s 139ms/step - loss: 0.3103 - accuracy: 0.8672 - val_loss: 0.3210 - val_accuracy: 0.8641\n",
            "Epoch 6/10\n",
            "391/391 [==============================] - 55s 139ms/step - loss: 0.3077 - accuracy: 0.8681 - val_loss: 0.3158 - val_accuracy: 0.8568\n",
            "Epoch 7/10\n",
            "391/391 [==============================] - 55s 139ms/step - loss: 0.3044 - accuracy: 0.8698 - val_loss: 0.3162 - val_accuracy: 0.8599\n",
            "Epoch 8/10\n",
            "391/391 [==============================] - 55s 139ms/step - loss: 0.2997 - accuracy: 0.8719 - val_loss: 0.3272 - val_accuracy: 0.8307\n",
            "Epoch 9/10\n",
            "391/391 [==============================] - 55s 139ms/step - loss: 0.2992 - accuracy: 0.8713 - val_loss: 0.3170 - val_accuracy: 0.8505\n",
            "Epoch 10/10\n",
            "391/391 [==============================] - 56s 141ms/step - loss: 0.2990 - accuracy: 0.8730 - val_loss: 0.3333 - val_accuracy: 0.8323\n",
            "Time taken to train: 10.967573241392772 minutes and 58.054394483566284 seconds\n"
          ]
        }
      ]
    },
    {
      "cell_type": "markdown",
      "metadata": {
        "id": "D1DynkcSE2wS"
      },
      "source": [
        "### Test the stacked LSTM model"
      ]
    },
    {
      "cell_type": "code",
      "metadata": {
        "colab": {
          "base_uri": "https://localhost:8080/"
        },
        "id": "AchGWaCyE2wS",
        "outputId": "bcfae73d-9a92-44dc-8d49-b61bd635bc32"
      },
      "source": [
        "test_model(model_stk)"
      ],
      "execution_count": 38,
      "outputs": [
        {
          "output_type": "stream",
          "name": "stdout",
          "text": [
            "391/391 [==============================] - 29s 74ms/step - loss: 0.3319 - accuracy: 0.8292\n",
            "Time taken to test: 0.4824146707852682 minutes and 28.94488024711609 seconds\n",
            "Test Loss: 0.3319109380245209\n",
            "Test Accuracy: 0.8291599750518799\n"
          ]
        }
      ]
    },
    {
      "cell_type": "markdown",
      "metadata": {
        "id": "kXitNhd3E2wS"
      },
      "source": [
        "### Confusion Matrix"
      ]
    },
    {
      "cell_type": "code",
      "metadata": {
        "colab": {
          "base_uri": "https://localhost:8080/"
        },
        "id": "N--WB2ZUE2wS",
        "outputId": "d468d63a-4dbf-4533-f9a5-2b1044c7bb0e"
      },
      "source": [
        "get_confusion_matrix(model_stk)"
      ],
      "execution_count": 39,
      "outputs": [
        {
          "output_type": "stream",
          "name": "stdout",
          "text": [
            "[[11360  1140]\n",
            " [ 2561  9939]]\n"
          ]
        }
      ]
    },
    {
      "cell_type": "markdown",
      "metadata": {
        "id": "ImhJRos1JcI5"
      },
      "source": [
        "### Train and Validation Plot"
      ]
    },
    {
      "cell_type": "code",
      "metadata": {
        "colab": {
          "base_uri": "https://localhost:8080/",
          "height": 501
        },
        "id": "4-53KZnUE2wT",
        "outputId": "cb94b7d2-c0f8-408e-d4f0-fa27e5160ce8"
      },
      "source": [
        "make_plot(history_stk)"
      ],
      "execution_count": 40,
      "outputs": [
        {
          "output_type": "display_data",
          "data": {
            "image/png": "[encoded data removed]",
            "text/plain": [
              "<Figure size 1152x576 with 2 Axes>"
            ]
          },
          "metadata": {
            "needs_background": "light"
          }
        }
      ]
    },
    {
      "cell_type": "markdown",
      "metadata": {
        "id": "dH6RAAFYE2wT"
      },
      "source": [
        "### Model storage size and summary"
      ]
    },
    {
      "cell_type": "code",
      "metadata": {
        "colab": {
          "base_uri": "https://localhost:8080/"
        },
        "id": "ZO8k8N4cE2wT",
        "outputId": "2623dcb9-d9c5-44c2-ed71-99134c0b3662"
      },
      "source": [
        "model_stk.summary()"
      ],
      "execution_count": 41,
      "outputs": [
        {
          "output_type": "stream",
          "name": "stdout",
          "text": [
            "Model: \"sequential_1\"\n",
            "_________________________________________________________________\n",
            "Layer (type)                 Output Shape              Param #   \n",
            "=================================================================\n",
            "text_vectorization (TextVect (None, None)              0         \n",
            "_________________________________________________________________\n",
            "embedding_1 (Embedding)      (None, None, 64)          64000     \n",
            "_________________________________________________________________\n",
            "bidirectional_1 (Bidirection (None, None, 128)         66048     \n",
            "_________________________________________________________________\n",
            "bidirectional_2 (Bidirection (None, 64)                41216     \n",
            "_________________________________________________________________\n",
            "dense_2 (Dense)              (None, 64)                4160      \n",
            "_________________________________________________________________\n",
            "dropout_1 (Dropout)          (None, 64)                0         \n",
            "_________________________________________________________________\n",
            "dense_3 (Dense)              (None, 1)                 65        \n",
            "=================================================================\n",
            "Total params: 175,489\n",
            "Trainable params: 175,489\n",
            "Non-trainable params: 0\n",
            "_________________________________________________________________\n"
          ]
        }
      ]
    },
    {
      "cell_type": "code",
      "metadata": {
        "colab": {
          "base_uri": "https://localhost:8080/"
        },
        "id": "zz9VLjFeE2wT",
        "outputId": "3d106ed6-76fc-4f85-eb18-2331edf6d5b6"
      },
      "source": [
        "model_stk.save('drive/MyDrive/GaTech/big_data/model_stk')"
      ],
      "execution_count": 43,
      "outputs": [
        {
          "output_type": "stream",
          "name": "stderr",
          "text": [
            "WARNING:absl:Found untraced functions such as lstm_cell_4_layer_call_fn, lstm_cell_4_layer_call_and_return_conditional_losses, lstm_cell_5_layer_call_fn, lstm_cell_5_layer_call_and_return_conditional_losses, lstm_cell_7_layer_call_fn while saving (showing 5 of 20). These functions will not be directly callable after loading.\n"
          ]
        },
        {
          "output_type": "stream",
          "name": "stdout",
          "text": [
            "INFO:tensorflow:Assets written to: drive/MyDrive/GaTech/big_data/model_stk/assets\n"
          ]
        },
        {
          "output_type": "stream",
          "name": "stderr",
          "text": [
            "INFO:tensorflow:Assets written to: drive/MyDrive/GaTech/big_data/model_stk/assets\n"
          ]
        }
      ]
    },
    {
      "cell_type": "code",
      "metadata": {
        "colab": {
          "base_uri": "https://localhost:8080/"
        },
        "id": "WLvJLVTSE2wT",
        "outputId": "ea4fedb6-7b84-485d-df96-bda4ca4f4a10"
      },
      "source": [
        "!du -hsx drive/MyDrive/GaTech/big_data/model_stk"
      ],
      "execution_count": 47,
      "outputs": [
        {
          "output_type": "stream",
          "name": "stdout",
          "text": [
            "16M\tdrive/MyDrive/GaTech/big_data/model_stk\n"
          ]
        }
      ]
    },
    {
      "cell_type": "markdown",
      "metadata": {
        "id": "4n2Zrvz2NEki"
      },
      "source": [
        "### Create the Stacked LSTM Model with high LR\n",
        "\n"
      ]
    },
    {
      "cell_type": "code",
      "metadata": {
        "id": "Ptv4ibaaNEkj"
      },
      "source": [
        "model_stk_lr = tf.keras.Sequential([\n",
        "encoder,\n",
        "tf.keras.layers.Embedding(len(encoder.get_vocabulary()), 64, mask_zero=True),\n",
        "tf.keras.layers.Bidirectional(tf.keras.layers.LSTM(64,  return_sequences=True)),\n",
        "tf.keras.layers.Bidirectional(tf.keras.layers.LSTM(32)),\n",
        "tf.keras.layers.Dense(64, activation='relu'),\n",
        "tf.keras.layers.Dropout(0.5),\n",
        "tf.keras.layers.Dense(1)\n",
        "])"
      ],
      "execution_count": 48,
      "outputs": []
    },
    {
      "cell_type": "code",
      "metadata": {
        "id": "qceJQxt9NEkj"
      },
      "source": [
        "model_stk_lr.compile(loss=tf.keras.losses.BinaryCrossentropy(from_logits=True),\n",
        "              optimizer=tf.keras.optimizers.Adam(0.01),\n",
        "              metrics=['accuracy'])"
      ],
      "execution_count": 49,
      "outputs": []
    },
    {
      "cell_type": "markdown",
      "metadata": {
        "id": "qZWx-VzrMmrd"
      },
      "source": [
        "### Train the stacked LSTM model with high LR"
      ]
    },
    {
      "cell_type": "code",
      "metadata": {
        "colab": {
          "base_uri": "https://localhost:8080/"
        },
        "id": "VdmHCHQqMmre",
        "outputId": "4b728a2a-2a75-44d2-ec8e-fc25cb43966d"
      },
      "source": [
        "model_stk_lr, history_stk_lr = train_model(model_stk_lr)"
      ],
      "execution_count": 50,
      "outputs": [
        {
          "output_type": "stream",
          "name": "stdout",
          "text": [
            "Epoch 1/10\n",
            "391/391 [==============================] - 71s 152ms/step - loss: 0.5684 - accuracy: 0.6809 - val_loss: 0.4018 - val_accuracy: 0.8042\n",
            "Epoch 2/10\n",
            "391/391 [==============================] - 56s 141ms/step - loss: 0.3657 - accuracy: 0.8389 - val_loss: 0.3264 - val_accuracy: 0.8453\n",
            "Epoch 3/10\n",
            "391/391 [==============================] - 56s 142ms/step - loss: 0.3177 - accuracy: 0.8607 - val_loss: 0.3103 - val_accuracy: 0.8542\n",
            "Epoch 4/10\n",
            "391/391 [==============================] - 55s 140ms/step - loss: 0.2870 - accuracy: 0.8738 - val_loss: 0.3049 - val_accuracy: 0.8620\n",
            "Epoch 5/10\n",
            "391/391 [==============================] - 55s 140ms/step - loss: 0.2683 - accuracy: 0.8837 - val_loss: 0.3068 - val_accuracy: 0.8542\n",
            "Epoch 6/10\n",
            "391/391 [==============================] - 55s 140ms/step - loss: 0.2537 - accuracy: 0.8893 - val_loss: 0.3165 - val_accuracy: 0.8609\n",
            "Epoch 7/10\n",
            "391/391 [==============================] - 55s 138ms/step - loss: 0.2406 - accuracy: 0.8970 - val_loss: 0.3383 - val_accuracy: 0.8698\n",
            "Epoch 8/10\n",
            "391/391 [==============================] - 55s 139ms/step - loss: 0.2277 - accuracy: 0.9018 - val_loss: 0.3598 - val_accuracy: 0.8641\n",
            "Epoch 9/10\n",
            "391/391 [==============================] - 55s 139ms/step - loss: 0.2217 - accuracy: 0.9057 - val_loss: 0.3177 - val_accuracy: 0.8573\n",
            "Epoch 10/10\n",
            "391/391 [==============================] - 55s 140ms/step - loss: 0.2071 - accuracy: 0.9115 - val_loss: 0.3266 - val_accuracy: 0.8391\n",
            "Time taken to train: 12.15692898829778 minutes and 9.415739297866821 seconds\n"
          ]
        }
      ]
    },
    {
      "cell_type": "markdown",
      "metadata": {
        "id": "ZZHjTTFlMmrf"
      },
      "source": [
        "### Test the stacked LSTM model with high LR"
      ]
    },
    {
      "cell_type": "code",
      "metadata": {
        "colab": {
          "base_uri": "https://localhost:8080/"
        },
        "id": "_IY3oB2CMmrf",
        "outputId": "3066a380-8c7b-4c56-98c0-b1a356470079"
      },
      "source": [
        "test_model(model_stk_lr)"
      ],
      "execution_count": 51,
      "outputs": [
        {
          "output_type": "stream",
          "name": "stdout",
          "text": [
            "391/391 [==============================] - 29s 75ms/step - loss: 0.3189 - accuracy: 0.8513\n",
            "Time taken to test: 0.48798237641652426 minutes and 29.278942584991455 seconds\n",
            "Test Loss: 0.31893521547317505\n",
            "Test Accuracy: 0.8512799739837646\n"
          ]
        }
      ]
    },
    {
      "cell_type": "markdown",
      "metadata": {
        "id": "-0veVvrcMmrf"
      },
      "source": [
        "### Confusion Matrix"
      ]
    },
    {
      "cell_type": "code",
      "metadata": {
        "colab": {
          "base_uri": "https://localhost:8080/"
        },
        "id": "3KlEawZjMmrf",
        "outputId": "454c08f7-59ad-41dc-98dc-adb38582be73"
      },
      "source": [
        "get_confusion_matrix(model_stk_lr)"
      ],
      "execution_count": 52,
      "outputs": [
        {
          "output_type": "stream",
          "name": "stdout",
          "text": [
            "[[11359  1141]\n",
            " [ 2190 10310]]\n"
          ]
        }
      ]
    },
    {
      "cell_type": "markdown",
      "metadata": {
        "id": "kmPRK3tYMmrg"
      },
      "source": [
        "### Train and Validation Plot"
      ]
    },
    {
      "cell_type": "code",
      "metadata": {
        "colab": {
          "base_uri": "https://localhost:8080/",
          "height": 501
        },
        "id": "ppI5RfRCMmrg",
        "outputId": "bec773e3-ee64-46f7-dbac-491858f010cb"
      },
      "source": [
        "make_plot(history_stk_lr)"
      ],
      "execution_count": 53,
      "outputs": [
        {
          "output_type": "display_data",
          "data": {
            "image/png": "[encoded data removed]",
            "text/plain": [
              "<Figure size 1152x576 with 2 Axes>"
            ]
          },
          "metadata": {
            "needs_background": "light"
          }
        }
      ]
    },
    {
      "cell_type": "markdown",
      "metadata": {
        "id": "UCvbGRGfMmrg"
      },
      "source": [
        "### Model storage size and summary"
      ]
    },
    {
      "cell_type": "code",
      "metadata": {
        "colab": {
          "base_uri": "https://localhost:8080/"
        },
        "id": "zK2RmuCmMmrg",
        "outputId": "dc4f29df-9623-48bb-d63a-bbe78006170c"
      },
      "source": [
        "model_stk_lr.summary()"
      ],
      "execution_count": 54,
      "outputs": [
        {
          "output_type": "stream",
          "name": "stdout",
          "text": [
            "Model: \"sequential_2\"\n",
            "_________________________________________________________________\n",
            "Layer (type)                 Output Shape              Param #   \n",
            "=================================================================\n",
            "text_vectorization (TextVect (None, None)              0         \n",
            "_________________________________________________________________\n",
            "embedding_2 (Embedding)      (None, None, 64)          64000     \n",
            "_________________________________________________________________\n",
            "bidirectional_3 (Bidirection (None, None, 128)         66048     \n",
            "_________________________________________________________________\n",
            "bidirectional_4 (Bidirection (None, 64)                41216     \n",
            "_________________________________________________________________\n",
            "dense_4 (Dense)              (None, 64)                4160      \n",
            "_________________________________________________________________\n",
            "dropout_2 (Dropout)          (None, 64)                0         \n",
            "_________________________________________________________________\n",
            "dense_5 (Dense)              (None, 1)                 65        \n",
            "=================================================================\n",
            "Total params: 175,489\n",
            "Trainable params: 175,489\n",
            "Non-trainable params: 0\n",
            "_________________________________________________________________\n"
          ]
        }
      ]
    },
    {
      "cell_type": "code",
      "metadata": {
        "colab": {
          "base_uri": "https://localhost:8080/"
        },
        "id": "cWCQW62ZMmrg",
        "outputId": "881ed2d2-74ae-4c8e-85c7-bf80c07feff4"
      },
      "source": [
        "model_stk_lr.save('drive/MyDrive/GaTech/big_data/model_stk_lr')"
      ],
      "execution_count": 55,
      "outputs": [
        {
          "output_type": "stream",
          "name": "stderr",
          "text": [
            "WARNING:absl:Found untraced functions such as lstm_cell_10_layer_call_fn, lstm_cell_10_layer_call_and_return_conditional_losses, lstm_cell_11_layer_call_fn, lstm_cell_11_layer_call_and_return_conditional_losses, lstm_cell_13_layer_call_fn while saving (showing 5 of 20). These functions will not be directly callable after loading.\n"
          ]
        },
        {
          "output_type": "stream",
          "name": "stdout",
          "text": [
            "INFO:tensorflow:Assets written to: drive/MyDrive/GaTech/big_data/model_stk_lr/assets\n"
          ]
        },
        {
          "output_type": "stream",
          "name": "stderr",
          "text": [
            "INFO:tensorflow:Assets written to: drive/MyDrive/GaTech/big_data/model_stk_lr/assets\n"
          ]
        }
      ]
    },
    {
      "cell_type": "code",
      "metadata": {
        "colab": {
          "base_uri": "https://localhost:8080/"
        },
        "id": "290Fdfo8Mmrh",
        "outputId": "567fc401-7439-4fe6-ec58-12a16b0d5554"
      },
      "source": [
        "!du -hsx drive/MyDrive/GaTech/big_data/model_stk_lr"
      ],
      "execution_count": 56,
      "outputs": [
        {
          "output_type": "stream",
          "name": "stdout",
          "text": [
            "16M\tdrive/MyDrive/GaTech/big_data/model_stk_lr\n"
          ]
        }
      ]
    },
    {
      "cell_type": "markdown",
      "metadata": {
        "id": "BcIx9Gz6N8HI"
      },
      "source": [
        "### Create the high encoding dim LSTM Model with normal LR\n",
        "\n"
      ]
    },
    {
      "cell_type": "code",
      "metadata": {
        "id": "cGSvXhkxN8HK"
      },
      "source": [
        "model_stk_enc = tf.keras.Sequential([\n",
        "encoder,\n",
        "tf.keras.layers.Embedding(len(encoder.get_vocabulary()), 128, mask_zero=True),\n",
        "tf.keras.layers.Bidirectional(tf.keras.layers.LSTM(128,  return_sequences=True)),\n",
        "tf.keras.layers.Bidirectional(tf.keras.layers.LSTM(64)),\n",
        "tf.keras.layers.Dense(128, activation='relu'),\n",
        "tf.keras.layers.Dropout(0.5),\n",
        "tf.keras.layers.Dense(1)\n",
        "])"
      ],
      "execution_count": 57,
      "outputs": []
    },
    {
      "cell_type": "code",
      "metadata": {
        "id": "Zezc0tpyN8HK"
      },
      "source": [
        "model_stk_enc.compile(loss=tf.keras.losses.BinaryCrossentropy(from_logits=True),\n",
        "              optimizer=tf.keras.optimizers.Adam(1e-4),\n",
        "              metrics=['accuracy'])"
      ],
      "execution_count": 58,
      "outputs": []
    },
    {
      "cell_type": "markdown",
      "metadata": {
        "id": "pB-uWXtlN8HK"
      },
      "source": [
        "### Train the stacked LSTM model with high LR"
      ]
    },
    {
      "cell_type": "code",
      "metadata": {
        "colab": {
          "base_uri": "https://localhost:8080/"
        },
        "id": "r5MG4jeXN8HK",
        "outputId": "c64aedcc-bed1-451c-9bdf-383e975c4a18"
      },
      "source": [
        "model_stk_enc, history_stk_enc = train_model(model_stk_enc)"
      ],
      "execution_count": 59,
      "outputs": [
        {
          "output_type": "stream",
          "name": "stdout",
          "text": [
            "Epoch 1/10\n",
            "391/391 [==============================] - 83s 181ms/step - loss: 0.5550 - accuracy: 0.6624 - val_loss: 0.3659 - val_accuracy: 0.8453\n",
            "Epoch 2/10\n",
            "391/391 [==============================] - 68s 172ms/step - loss: 0.3497 - accuracy: 0.8456 - val_loss: 0.3300 - val_accuracy: 0.8458\n",
            "Epoch 3/10\n",
            "391/391 [==============================] - 66s 169ms/step - loss: 0.3216 - accuracy: 0.8624 - val_loss: 0.3236 - val_accuracy: 0.8547\n",
            "Epoch 4/10\n",
            "391/391 [==============================] - 67s 170ms/step - loss: 0.3105 - accuracy: 0.8670 - val_loss: 0.3199 - val_accuracy: 0.8609\n",
            "Epoch 5/10\n",
            "391/391 [==============================] - 66s 168ms/step - loss: 0.3053 - accuracy: 0.8695 - val_loss: 0.3267 - val_accuracy: 0.8615\n",
            "Epoch 6/10\n",
            "391/391 [==============================] - 66s 168ms/step - loss: 0.3023 - accuracy: 0.8697 - val_loss: 0.3168 - val_accuracy: 0.8536\n",
            "Epoch 7/10\n",
            "391/391 [==============================] - 67s 169ms/step - loss: 0.2957 - accuracy: 0.8718 - val_loss: 0.3276 - val_accuracy: 0.8672\n",
            "Epoch 8/10\n",
            "391/391 [==============================] - 66s 168ms/step - loss: 0.2957 - accuracy: 0.8740 - val_loss: 0.3148 - val_accuracy: 0.8604\n",
            "Epoch 9/10\n",
            "391/391 [==============================] - 67s 169ms/step - loss: 0.2902 - accuracy: 0.8757 - val_loss: 0.3354 - val_accuracy: 0.8609\n",
            "Epoch 10/10\n",
            "391/391 [==============================] - 66s 168ms/step - loss: 0.2892 - accuracy: 0.8739 - val_loss: 0.3207 - val_accuracy: 0.8542\n",
            "Time taken to train: 12.407597041130066 minutes and 24.455822467803955 seconds\n"
          ]
        }
      ]
    },
    {
      "cell_type": "markdown",
      "metadata": {
        "id": "qkg7onbvN8HL"
      },
      "source": [
        "### Test the stacked LSTM model"
      ]
    },
    {
      "cell_type": "code",
      "metadata": {
        "colab": {
          "base_uri": "https://localhost:8080/"
        },
        "id": "Ji5oejQKN8HL",
        "outputId": "985f1e25-5363-447a-eb47-07697ed94a92"
      },
      "source": [
        "test_model(model_stk_enc)"
      ],
      "execution_count": 60,
      "outputs": [
        {
          "output_type": "stream",
          "name": "stdout",
          "text": [
            "391/391 [==============================] - 33s 83ms/step - loss: 0.3159 - accuracy: 0.8570\n",
            "Time taken to test: 0.5421261548995971 minutes and 32.52756929397583 seconds\n",
            "Test Loss: 0.3158969283103943\n",
            "Test Accuracy: 0.8569599986076355\n"
          ]
        }
      ]
    },
    {
      "cell_type": "markdown",
      "metadata": {
        "id": "mD6udy2GN8HL"
      },
      "source": [
        "### Confusion Matrix"
      ]
    },
    {
      "cell_type": "code",
      "metadata": {
        "colab": {
          "base_uri": "https://localhost:8080/"
        },
        "id": "PSAhQKTeN8HL",
        "outputId": "4ce6360c-6fdc-4b76-a80e-e5adeb115e9d"
      },
      "source": [
        "get_confusion_matrix(model_stk_enc)"
      ],
      "execution_count": 61,
      "outputs": [
        {
          "output_type": "stream",
          "name": "stdout",
          "text": [
            "[[10946  1554]\n",
            " [ 1809 10691]]\n"
          ]
        }
      ]
    },
    {
      "cell_type": "markdown",
      "metadata": {
        "id": "R4ukhm48N8HL"
      },
      "source": [
        "### Train and Validation Plot"
      ]
    },
    {
      "cell_type": "code",
      "metadata": {
        "colab": {
          "base_uri": "https://localhost:8080/",
          "height": 501
        },
        "id": "ENCxZ4xXN8HL",
        "outputId": "cf0bfdd9-f2a2-4228-833d-98387e83101f"
      },
      "source": [
        "make_plot(history_stk_enc)"
      ],
      "execution_count": 62,
      "outputs": [
        {
          "output_type": "display_data",
          "data": {
            "image/png": "[encoded data removed]",
            "text/plain": [
              "<Figure size 1152x576 with 2 Axes>"
            ]
          },
          "metadata": {
            "needs_background": "light"
          }
        }
      ]
    },
    {
      "cell_type": "markdown",
      "metadata": {
        "id": "E-ekOhiZN8HL"
      },
      "source": [
        "### Model storage size and summary"
      ]
    },
    {
      "cell_type": "code",
      "metadata": {
        "colab": {
          "base_uri": "https://localhost:8080/"
        },
        "id": "ycLtIJFYN8HL",
        "outputId": "aeadfe63-fd87-4d9a-f74d-c5d2f281d20e"
      },
      "source": [
        "model_stk_enc.summary()"
      ],
      "execution_count": 63,
      "outputs": [
        {
          "output_type": "stream",
          "name": "stdout",
          "text": [
            "Model: \"sequential_3\"\n",
            "_________________________________________________________________\n",
            "Layer (type)                 Output Shape              Param #   \n",
            "=================================================================\n",
            "text_vectorization (TextVect (None, None)              0         \n",
            "_________________________________________________________________\n",
            "embedding_3 (Embedding)      (None, None, 128)         128000    \n",
            "_________________________________________________________________\n",
            "bidirectional_5 (Bidirection (None, None, 256)         263168    \n",
            "_________________________________________________________________\n",
            "bidirectional_6 (Bidirection (None, 128)               164352    \n",
            "_________________________________________________________________\n",
            "dense_6 (Dense)              (None, 128)               16512     \n",
            "_________________________________________________________________\n",
            "dropout_3 (Dropout)          (None, 128)               0         \n",
            "_________________________________________________________________\n",
            "dense_7 (Dense)              (None, 1)                 129       \n",
            "=================================================================\n",
            "Total params: 572,161\n",
            "Trainable params: 572,161\n",
            "Non-trainable params: 0\n",
            "_________________________________________________________________\n"
          ]
        }
      ]
    },
    {
      "cell_type": "code",
      "metadata": {
        "colab": {
          "base_uri": "https://localhost:8080/"
        },
        "id": "zpIVwqU2N8HM",
        "outputId": "06f4e3c8-8631-470f-9506-00213b237dee"
      },
      "source": [
        "model_stk_enc.save('drive/MyDrive/GaTech/big_data/model_stk_enc')"
      ],
      "execution_count": 64,
      "outputs": [
        {
          "output_type": "stream",
          "name": "stderr",
          "text": [
            "WARNING:absl:Found untraced functions such as lstm_cell_16_layer_call_fn, lstm_cell_16_layer_call_and_return_conditional_losses, lstm_cell_17_layer_call_fn, lstm_cell_17_layer_call_and_return_conditional_losses, lstm_cell_19_layer_call_fn while saving (showing 5 of 20). These functions will not be directly callable after loading.\n"
          ]
        },
        {
          "output_type": "stream",
          "name": "stdout",
          "text": [
            "INFO:tensorflow:Assets written to: drive/MyDrive/GaTech/big_data/model_stk_enc/assets\n"
          ]
        },
        {
          "output_type": "stream",
          "name": "stderr",
          "text": [
            "INFO:tensorflow:Assets written to: drive/MyDrive/GaTech/big_data/model_stk_enc/assets\n"
          ]
        }
      ]
    },
    {
      "cell_type": "code",
      "metadata": {
        "colab": {
          "base_uri": "https://localhost:8080/"
        },
        "id": "O82Vv-VhN8HM",
        "outputId": "13aaef2e-b503-4f5f-ea6c-4edb7a6a826d"
      },
      "source": [
        "!du -hsx drive/MyDrive/GaTech/big_data/model_stk_enc"
      ],
      "execution_count": 65,
      "outputs": [
        {
          "output_type": "stream",
          "name": "stdout",
          "text": [
            "21M\tdrive/MyDrive/GaTech/big_data/model_stk_enc\n"
          ]
        }
      ]
    },
    {
      "cell_type": "markdown",
      "metadata": {
        "id": "SgNsQWfGUO0o"
      },
      "source": [
        "### Create the high encoding dim LSTM Model with high LR\n",
        "\n"
      ]
    },
    {
      "cell_type": "code",
      "metadata": {
        "id": "ItSTT0TsUO0q"
      },
      "source": [
        "model_stk_enc_lr = tf.keras.Sequential([\n",
        "encoder,\n",
        "tf.keras.layers.Embedding(len(encoder.get_vocabulary()), 128, mask_zero=True),\n",
        "tf.keras.layers.Bidirectional(tf.keras.layers.LSTM(128,  return_sequences=True)),\n",
        "tf.keras.layers.Bidirectional(tf.keras.layers.LSTM(64)),\n",
        "tf.keras.layers.Dense(128, activation='relu'),\n",
        "tf.keras.layers.Dropout(0.5),\n",
        "tf.keras.layers.Dense(1)\n",
        "])"
      ],
      "execution_count": 66,
      "outputs": []
    },
    {
      "cell_type": "code",
      "metadata": {
        "id": "-k_c0bpMUO0q"
      },
      "source": [
        "model_stk_enc_lr.compile(loss=tf.keras.losses.BinaryCrossentropy(from_logits=True),\n",
        "              optimizer=tf.keras.optimizers.Adam(0.01),\n",
        "              metrics=['accuracy'])"
      ],
      "execution_count": 67,
      "outputs": []
    },
    {
      "cell_type": "markdown",
      "metadata": {
        "id": "aTjhmuPzUO0r"
      },
      "source": [
        "### Train the stacked LSTM model with high LR"
      ]
    },
    {
      "cell_type": "code",
      "metadata": {
        "colab": {
          "base_uri": "https://localhost:8080/"
        },
        "id": "IA7VE9I7UO0r",
        "outputId": "594256e4-e279-4259-cd1c-c65ef873b247"
      },
      "source": [
        "model_stk_enc_lr, history_stk_enc_lr = train_model(model_stk_enc_lr)"
      ],
      "execution_count": 68,
      "outputs": [
        {
          "output_type": "stream",
          "name": "stdout",
          "text": [
            "Epoch 1/10\n",
            "391/391 [==============================] - 81s 178ms/step - loss: 0.5463 - accuracy: 0.6870 - val_loss: 0.4041 - val_accuracy: 0.8161\n",
            "Epoch 2/10\n",
            "391/391 [==============================] - 66s 168ms/step - loss: 0.4153 - accuracy: 0.8105 - val_loss: 0.3756 - val_accuracy: 0.8250\n",
            "Epoch 3/10\n",
            "391/391 [==============================] - 66s 168ms/step - loss: 0.3681 - accuracy: 0.8334 - val_loss: 0.3632 - val_accuracy: 0.8078\n",
            "Epoch 4/10\n",
            "391/391 [==============================] - 66s 167ms/step - loss: 0.3389 - accuracy: 0.8452 - val_loss: 0.3518 - val_accuracy: 0.8047\n",
            "Epoch 5/10\n",
            "391/391 [==============================] - 67s 169ms/step - loss: 0.3385 - accuracy: 0.8527 - val_loss: 0.3381 - val_accuracy: 0.8469\n",
            "Epoch 6/10\n",
            "391/391 [==============================] - 66s 167ms/step - loss: 0.3117 - accuracy: 0.8618 - val_loss: 0.3186 - val_accuracy: 0.8599\n",
            "Epoch 7/10\n",
            "391/391 [==============================] - 66s 169ms/step - loss: 0.3050 - accuracy: 0.8629 - val_loss: 0.3294 - val_accuracy: 0.8469\n",
            "Epoch 8/10\n",
            "391/391 [==============================] - 66s 167ms/step - loss: 0.3017 - accuracy: 0.8671 - val_loss: 0.3937 - val_accuracy: 0.8677\n",
            "Epoch 9/10\n",
            "391/391 [==============================] - 67s 169ms/step - loss: 0.2982 - accuracy: 0.8681 - val_loss: 0.3198 - val_accuracy: 0.8490\n",
            "Epoch 10/10\n",
            "391/391 [==============================] - 67s 169ms/step - loss: 0.2914 - accuracy: 0.8717 - val_loss: 0.3328 - val_accuracy: 0.8464\n",
            "Time taken to train: 12.793614308039347 minutes and 47.61685848236084 seconds\n"
          ]
        }
      ]
    },
    {
      "cell_type": "markdown",
      "metadata": {
        "id": "1r5nMfiuUO0r"
      },
      "source": [
        "### Test the stacked LSTM model"
      ]
    },
    {
      "cell_type": "code",
      "metadata": {
        "colab": {
          "base_uri": "https://localhost:8080/"
        },
        "id": "4EZSSAAIUO0r",
        "outputId": "01105ea2-b843-4c1c-d295-1e35560eaac6"
      },
      "source": [
        "test_model(model_stk_enc_lr)"
      ],
      "execution_count": 69,
      "outputs": [
        {
          "output_type": "stream",
          "name": "stdout",
          "text": [
            "391/391 [==============================] - 32s 83ms/step - loss: 0.3207 - accuracy: 0.8521\n",
            "Time taken to test: 0.5396168788274129 minutes and 32.377012729644775 seconds\n",
            "Test Loss: 0.3207297921180725\n",
            "Test Accuracy: 0.8521199822425842\n"
          ]
        }
      ]
    },
    {
      "cell_type": "markdown",
      "metadata": {
        "id": "kwnmC1XTUO0r"
      },
      "source": [
        "### Confusion Matrix"
      ]
    },
    {
      "cell_type": "code",
      "metadata": {
        "colab": {
          "base_uri": "https://localhost:8080/"
        },
        "id": "qjkLqATLUO0r",
        "outputId": "d16a41d6-7f71-4250-fca4-8d209a544556"
      },
      "source": [
        "get_confusion_matrix(model_stk_enc_lr)"
      ],
      "execution_count": 70,
      "outputs": [
        {
          "output_type": "stream",
          "name": "stdout",
          "text": [
            "[[10764  1736]\n",
            " [ 1663 10837]]\n"
          ]
        }
      ]
    },
    {
      "cell_type": "markdown",
      "metadata": {
        "id": "8hjaVgNyUO0s"
      },
      "source": [
        "### Train and Validation Plot"
      ]
    },
    {
      "cell_type": "code",
      "metadata": {
        "colab": {
          "base_uri": "https://localhost:8080/",
          "height": 501
        },
        "id": "j0nNoP3zUO0s",
        "outputId": "57f3e4ca-cc93-4527-df44-a9bc79a83b60"
      },
      "source": [
        "make_plot(history_stk_enc_lr)"
      ],
      "execution_count": 71,
      "outputs": [
        {
          "output_type": "display_data",
          "data": {
            "image/png": "[encoded data removed]",
            "text/plain": [
              "<Figure size 1152x576 with 2 Axes>"
            ]
          },
          "metadata": {
            "needs_background": "light"
          }
        }
      ]
    },
    {
      "cell_type": "markdown",
      "metadata": {
        "id": "q_W69i3OUO0s"
      },
      "source": [
        "### Model storage size and summary"
      ]
    },
    {
      "cell_type": "code",
      "metadata": {
        "colab": {
          "base_uri": "https://localhost:8080/"
        },
        "id": "7XJ9YKeeUO0s",
        "outputId": "ed95d81c-c0ed-4115-b6ae-cc00fd808a1c"
      },
      "source": [
        "model_stk_enc_lr.summary()"
      ],
      "execution_count": 82,
      "outputs": [
        {
          "output_type": "stream",
          "name": "stdout",
          "text": [
            "Model: \"sequential_4\"\n",
            "_________________________________________________________________\n",
            "Layer (type)                 Output Shape              Param #   \n",
            "=================================================================\n",
            "text_vectorization (TextVect (None, None)              0         \n",
            "_________________________________________________________________\n",
            "embedding_4 (Embedding)      (None, None, 128)         128000    \n",
            "_________________________________________________________________\n",
            "bidirectional_7 (Bidirection (None, None, 256)         263168    \n",
            "_________________________________________________________________\n",
            "bidirectional_8 (Bidirection (None, 128)               164352    \n",
            "_________________________________________________________________\n",
            "dense_8 (Dense)              (None, 128)               16512     \n",
            "_________________________________________________________________\n",
            "dropout_4 (Dropout)          (None, 128)               0         \n",
            "_________________________________________________________________\n",
            "dense_9 (Dense)              (None, 1)                 129       \n",
            "=================================================================\n",
            "Total params: 572,161\n",
            "Trainable params: 572,161\n",
            "Non-trainable params: 0\n",
            "_________________________________________________________________\n"
          ]
        }
      ]
    },
    {
      "cell_type": "code",
      "metadata": {
        "colab": {
          "base_uri": "https://localhost:8080/"
        },
        "id": "ndQDPDuFUO0s",
        "outputId": "b0743236-f5ef-4ae7-a6f9-fd09910587b3"
      },
      "source": [
        "model_stk_enc_lr.save('drive/MyDrive/GaTech/big_data/model_stk_enc_lr')"
      ],
      "execution_count": 83,
      "outputs": [
        {
          "output_type": "stream",
          "name": "stderr",
          "text": [
            "WARNING:absl:Found untraced functions such as lstm_cell_22_layer_call_fn, lstm_cell_22_layer_call_and_return_conditional_losses, lstm_cell_23_layer_call_fn, lstm_cell_23_layer_call_and_return_conditional_losses, lstm_cell_25_layer_call_fn while saving (showing 5 of 20). These functions will not be directly callable after loading.\n"
          ]
        },
        {
          "output_type": "stream",
          "name": "stdout",
          "text": [
            "INFO:tensorflow:Assets written to: drive/MyDrive/GaTech/big_data/model_stk_enc_lr/assets\n"
          ]
        },
        {
          "output_type": "stream",
          "name": "stderr",
          "text": [
            "INFO:tensorflow:Assets written to: drive/MyDrive/GaTech/big_data/model_stk_enc_lr/assets\n"
          ]
        }
      ]
    },
    {
      "cell_type": "code",
      "metadata": {
        "colab": {
          "base_uri": "https://localhost:8080/"
        },
        "id": "pXXoTyz3UO0s",
        "outputId": "ad17d550-ea09-4c97-fb2b-f06f39d7ca56"
      },
      "source": [
        "!du -hsx drive/MyDrive/GaTech/big_data/model_stk_enc_lr"
      ],
      "execution_count": 84,
      "outputs": [
        {
          "output_type": "stream",
          "name": "stdout",
          "text": [
            "21M\tdrive/MyDrive/GaTech/big_data/model_stk_enc_lr\n"
          ]
        }
      ]
    },
    {
      "cell_type": "markdown",
      "metadata": {
        "id": "yRqaS3Zy2IJ0"
      },
      "source": [
        "### OOD analysis"
      ]
    },
    {
      "cell_type": "code",
      "metadata": {
        "id": "9q7QfsLjz2Ri"
      },
      "source": [
        "model_ood1 = tf.keras.Sequential([\n",
        "    encoder,\n",
        "    tf.keras.layers.Embedding(\n",
        "        input_dim=len(encoder.get_vocabulary()),\n",
        "        output_dim=64,\n",
        "        # Use masking to handle the variable sequence lengths\n",
        "        mask_zero=True),\n",
        "    tf.keras.layers.Bidirectional(tf.keras.layers.LSTM(64)),\n",
        "    tf.keras.layers.Dense(64, activation='relu'),\n",
        "    tf.keras.layers.Dropout(0.5),\n",
        "    tf.keras.layers.Dense(1)\n",
        "])  # Can change the embedding initializer and in fact\n",
        "    #all the other hyperparameters in the various layers"
      ],
      "execution_count": 96,
      "outputs": []
    },
    {
      "cell_type": "code",
      "metadata": {
        "id": "TMTOdaThz2Rk"
      },
      "source": [
        "model_ood1.compile(loss=tf.keras.losses.BinaryCrossentropy(from_logits=True),\n",
        "              optimizer=tf.keras.optimizers.Adam(1e-4),\n",
        "              metrics=['accuracy'])"
      ],
      "execution_count": 97,
      "outputs": []
    },
    {
      "cell_type": "code",
      "metadata": {
        "colab": {
          "base_uri": "https://localhost:8080/"
        },
        "id": "5AAFgzCsqw6-",
        "outputId": "db120223-26db-4843-ed19-fabfdd130bb4"
      },
      "source": [
        "start_time = time.time()\n",
        "\n",
        "history = model_ood1.fit(train_dataset, epochs=5,\n",
        "                    validation_data=test_dataset,\n",
        "                    validation_steps=30)\n",
        "\n",
        "end_time = time.time()\n",
        "\n",
        "mins = (end_time-start_time)/60\n",
        "secs = (end_time-start_time)%60\n",
        "\n",
        "print(\"Time taken to train: {} minutes and {} seconds\".format(mins, secs))"
      ],
      "execution_count": 98,
      "outputs": [
        {
          "output_type": "stream",
          "name": "stdout",
          "text": [
            "Epoch 1/5\n",
            "391/391 [==============================] - 45s 90ms/step - loss: 0.6655 - accuracy: 0.5388 - val_loss: 0.5378 - val_accuracy: 0.7120\n",
            "Epoch 2/5\n",
            "391/391 [==============================] - 34s 85ms/step - loss: 0.4470 - accuracy: 0.7970 - val_loss: 0.3869 - val_accuracy: 0.8469\n",
            "Epoch 3/5\n",
            "391/391 [==============================] - 34s 85ms/step - loss: 0.3564 - accuracy: 0.8450 - val_loss: 0.3438 - val_accuracy: 0.8411\n",
            "Epoch 4/5\n",
            "391/391 [==============================] - 34s 86ms/step - loss: 0.3363 - accuracy: 0.8594 - val_loss: 0.3310 - val_accuracy: 0.8578\n",
            "Epoch 5/5\n",
            "391/391 [==============================] - 34s 86ms/step - loss: 0.3241 - accuracy: 0.8653 - val_loss: 0.3289 - val_accuracy: 0.8557\n",
            "Time taken to train: 3.3168219327926636 minutes and 19.009315967559814 seconds\n"
          ]
        }
      ]
    },
    {
      "cell_type": "code",
      "metadata": {
        "id": "qds_gENt0MOQ"
      },
      "source": [
        "model_ood2 = tf.keras.Sequential([\n",
        "    encoder,\n",
        "    tf.keras.layers.Embedding(\n",
        "        input_dim=len(encoder.get_vocabulary()),\n",
        "        output_dim=64,\n",
        "        # Use masking to handle the variable sequence lengths\n",
        "        mask_zero=True),\n",
        "    tf.keras.layers.Bidirectional(tf.keras.layers.LSTM(64)),\n",
        "    tf.keras.layers.Dense(64, activation='relu'),\n",
        "    tf.keras.layers.Dropout(0.5),\n",
        "    tf.keras.layers.Dense(1)\n",
        "])  # Can change the embedding initializer and in fact\n",
        "    #all the other hyperparameters in the various layers"
      ],
      "execution_count": 100,
      "outputs": []
    },
    {
      "cell_type": "code",
      "metadata": {
        "id": "yh8S5kvZ0MOS"
      },
      "source": [
        "model_ood2.compile(loss=tf.keras.losses.BinaryCrossentropy(from_logits=True),\n",
        "              optimizer=tf.keras.optimizers.Adam(1e-4),\n",
        "              metrics=['accuracy'])"
      ],
      "execution_count": 101,
      "outputs": []
    },
    {
      "cell_type": "code",
      "metadata": {
        "colab": {
          "base_uri": "https://localhost:8080/"
        },
        "id": "U6sbGzEX0MOS",
        "outputId": "b686a44e-ebe0-45e8-9d37-2c03657fec9f"
      },
      "source": [
        "start_time = time.time()\n",
        "\n",
        "history = model_ood2.fit(train_dataset, epochs=5,\n",
        "                    validation_data=test_dataset,\n",
        "                    validation_steps=30)\n",
        "\n",
        "end_time = time.time()\n",
        "\n",
        "mins = (end_time-start_time)/60\n",
        "secs = (end_time-start_time)%60\n",
        "\n",
        "print(\"Time taken to train: {} minutes and {} seconds\".format(mins, secs))"
      ],
      "execution_count": 103,
      "outputs": [
        {
          "output_type": "stream",
          "name": "stdout",
          "text": [
            "Epoch 1/5\n",
            "391/391 [==============================] - 41s 90ms/step - loss: 0.6702 - accuracy: 0.5352 - val_loss: 0.5841 - val_accuracy: 0.6453\n",
            "Epoch 2/5\n",
            "391/391 [==============================] - 33s 84ms/step - loss: 0.5009 - accuracy: 0.7609 - val_loss: 0.4631 - val_accuracy: 0.8224\n",
            "Epoch 3/5\n",
            "391/391 [==============================] - 34s 85ms/step - loss: 0.4028 - accuracy: 0.8247 - val_loss: 0.3727 - val_accuracy: 0.8385\n",
            "Epoch 4/5\n",
            "391/391 [==============================] - 33s 84ms/step - loss: 0.3668 - accuracy: 0.8431 - val_loss: 0.3495 - val_accuracy: 0.8500\n",
            "Epoch 5/5\n",
            "391/391 [==============================] - 33s 84ms/step - loss: 0.3406 - accuracy: 0.8569 - val_loss: 0.3361 - val_accuracy: 0.8448\n",
            "Time taken to train: 3.004755127429962 minutes and 0.2853076457977295 seconds\n"
          ]
        }
      ]
    },
    {
      "cell_type": "code",
      "metadata": {
        "id": "yTMLWOGT2RTp"
      },
      "source": [
        "model_ood3 = tf.keras.Sequential([\n",
        "    encoder,\n",
        "    tf.keras.layers.Embedding(\n",
        "        input_dim=len(encoder.get_vocabulary()),\n",
        "        output_dim=64,\n",
        "        # Use masking to handle the variable sequence lengths\n",
        "        mask_zero=True),\n",
        "    tf.keras.layers.Bidirectional(tf.keras.layers.LSTM(64)),\n",
        "    tf.keras.layers.Dense(64, activation='relu'),\n",
        "    tf.keras.layers.Dropout(0.5),\n",
        "    tf.keras.layers.Dense(1)\n",
        "])  # Can change the embedding initializer and in fact\n",
        "    #all the other hyperparameters in the various layers"
      ],
      "execution_count": 106,
      "outputs": []
    },
    {
      "cell_type": "code",
      "metadata": {
        "id": "NYD_TMEc2RTr"
      },
      "source": [
        "model_ood3.compile(loss=tf.keras.losses.BinaryCrossentropy(from_logits=True),\n",
        "              optimizer=tf.keras.optimizers.Adam(1e-4),\n",
        "              metrics=['accuracy'])"
      ],
      "execution_count": 107,
      "outputs": []
    },
    {
      "cell_type": "code",
      "metadata": {
        "colab": {
          "base_uri": "https://localhost:8080/"
        },
        "id": "gH-QxeW-2RTr",
        "outputId": "4922cfff-c6db-4f13-a1e0-e7f8f06c3990"
      },
      "source": [
        "start_time = time.time()\n",
        "\n",
        "history = model_ood3.fit(train_dataset, epochs=5,\n",
        "                    validation_data=test_dataset,\n",
        "                    validation_steps=30)\n",
        "\n",
        "end_time = time.time()\n",
        "\n",
        "mins = (end_time-start_time)/60\n",
        "secs = (end_time-start_time)%60\n",
        "\n",
        "print(\"Time taken to train: {} minutes and {} seconds\".format(mins, secs))"
      ],
      "execution_count": 108,
      "outputs": [
        {
          "output_type": "stream",
          "name": "stdout",
          "text": [
            "Epoch 1/5\n",
            "391/391 [==============================] - 41s 90ms/step - loss: 0.6759 - accuracy: 0.5236 - val_loss: 0.5790 - val_accuracy: 0.6464\n",
            "Epoch 2/5\n",
            "391/391 [==============================] - 33s 84ms/step - loss: 0.4715 - accuracy: 0.7746 - val_loss: 0.3944 - val_accuracy: 0.8281\n",
            "Epoch 3/5\n",
            "391/391 [==============================] - 33s 84ms/step - loss: 0.3671 - accuracy: 0.8396 - val_loss: 0.3646 - val_accuracy: 0.8490\n",
            "Epoch 4/5\n",
            "391/391 [==============================] - 33s 84ms/step - loss: 0.3424 - accuracy: 0.8551 - val_loss: 0.3603 - val_accuracy: 0.8516\n",
            "Epoch 5/5\n",
            "391/391 [==============================] - 33s 84ms/step - loss: 0.3272 - accuracy: 0.8602 - val_loss: 0.3316 - val_accuracy: 0.8594\n",
            "Time taken to train: 3.1672158082326254 minutes and 10.03294849395752 seconds\n"
          ]
        }
      ]
    },
    {
      "cell_type": "code",
      "metadata": {
        "colab": {
          "base_uri": "https://localhost:8080/"
        },
        "id": "kDp9dNIUyZyc",
        "outputId": "5ffb211d-7359-4c4a-9eee-48958ec549ac"
      },
      "source": [
        "test_model(model_ood1)"
      ],
      "execution_count": 104,
      "outputs": [
        {
          "output_type": "stream",
          "name": "stdout",
          "text": [
            "391/391 [==============================] - 19s 48ms/step - loss: 0.3191 - accuracy: 0.8604\n",
            "Time taken to test: 0.3147871692975362 minutes and 18.887230157852173 seconds\n",
            "Test Loss: 0.3190709054470062\n",
            "Test Accuracy: 0.8603600263595581\n"
          ]
        }
      ]
    },
    {
      "cell_type": "code",
      "metadata": {
        "colab": {
          "base_uri": "https://localhost:8080/"
        },
        "id": "wsCykDN3ykD5",
        "outputId": "fc904550-f8e7-4493-ab9a-6fb895dc88ae"
      },
      "source": [
        "test_model(model_ood2)"
      ],
      "execution_count": 105,
      "outputs": [
        {
          "output_type": "stream",
          "name": "stdout",
          "text": [
            "391/391 [==============================] - 19s 48ms/step - loss: 0.3308 - accuracy: 0.8502\n",
            "Time taken to test: 0.31311646302541096 minutes and 18.786987781524658 seconds\n",
            "Test Loss: 0.33075854182243347\n",
            "Test Accuracy: 0.8501600027084351\n"
          ]
        }
      ]
    },
    {
      "cell_type": "code",
      "metadata": {
        "colab": {
          "base_uri": "https://localhost:8080/"
        },
        "id": "yiFJ2t_4xy3g",
        "outputId": "57f67849-b9a0-43f8-96ec-d661b42118be"
      },
      "source": [
        "test_model(model_ood3)"
      ],
      "execution_count": 109,
      "outputs": [
        {
          "output_type": "stream",
          "name": "stdout",
          "text": [
            "391/391 [==============================] - 19s 48ms/step - loss: 0.3231 - accuracy: 0.8626\n",
            "Time taken to test: 0.3139250795046488 minutes and 18.83550477027893 seconds\n",
            "Test Loss: 0.3230810761451721\n",
            "Test Accuracy: 0.8626400232315063\n"
          ]
        }
      ]
    },
    {
      "cell_type": "code",
      "metadata": {
        "colab": {
          "base_uri": "https://localhost:8080/"
        },
        "id": "4RJmEj5Nyvmk",
        "outputId": "b69c0aa9-403d-4d81-fee8-8e25042e72cd"
      },
      "source": [
        "for ood in oods:\n",
        "    pred = model_ood1.predict([ood])\n",
        "    print(\"Prediction confidence : {}\".format(pred))"
      ],
      "execution_count": 110,
      "outputs": [
        {
          "output_type": "stream",
          "name": "stdout",
          "text": [
            "Prediction confidence : [[-0.7000556]]\n",
            "Prediction confidence : [[0.03726222]]\n",
            "Prediction confidence : [[-0.44067633]]\n",
            "Prediction confidence : [[0.03025485]]\n",
            "Prediction confidence : [[-0.27860233]]\n",
            "Prediction confidence : [[0.7900459]]\n",
            "Prediction confidence : [[-0.00195041]]\n",
            "Prediction confidence : [[-0.9899855]]\n",
            "Prediction confidence : [[-0.89603573]]\n",
            "Prediction confidence : [[-0.60025364]]\n"
          ]
        }
      ]
    },
    {
      "cell_type": "markdown",
      "metadata": {
        "id": "_DYxsGCd4mNL"
      },
      "source": [
        "#### Prediction confidence in test set"
      ]
    },
    {
      "cell_type": "code",
      "metadata": {
        "colab": {
          "base_uri": "https://localhost:8080/"
        },
        "id": "oSKiyoFo4mNM",
        "outputId": "bb005653-75a7-4f56-d385-fa6eaee246be"
      },
      "source": [
        "for example, label in test_dataset.take(1):\n",
        "    preds = model_ood1.predict([example.numpy()[:10]])\n",
        "    print('text: ', example.numpy()[:10])\n",
        "    print('label: ', label.numpy()[:10])\n",
        "    print(\"Predictions: {}\".format(preds.flatten()))"
      ],
      "execution_count": 113,
      "outputs": [
        {
          "output_type": "stream",
          "name": "stdout",
          "text": [
            "text:  [b\"There are films that make careers. For George Romero, it was NIGHT OF THE LIVING DEAD; for Kevin Smith, CLERKS; for Robert Rodriguez, EL MARIACHI. Add to that list Onur Tukel's absolutely amazing DING-A-LING-LESS. Flawless film-making, and as assured and as professional as any of the aforementioned movies. I haven't laughed this hard since I saw THE FULL MONTY. (And, even then, I don't think I laughed quite this hard... So to speak.) Tukel's talent is considerable: DING-A-LING-LESS is so chock full of double entendres that one would have to sit down with a copy of this script and do a line-by-line examination of it to fully appreciate the, uh, breadth and width of it. Every shot is beautifully composed (a clear sign of a sure-handed director), and the performances all around are solid (there's none of the over-the-top scenery chewing one might've expected from a film like this). DING-A-LING-LESS is a film whose time has come.\"\n",
            " b\"A blackly comic tale of a down-trodden priest, Nazarin showcases the economy that Luis Bunuel was able to achieve in being able to tell a deeply humanist fable with a minimum of fuss. As an output from his Mexican era of film making, it was an invaluable talent to possess, with little money and extremely tight schedules. Nazarin, however, surpasses many of Bunuel's previous Mexican films in terms of the acting (Francisco Rabal is excellent), narrative and theme.<br /><br />The theme, interestingly, is something that was explored again in Viridiana, made three years later in Spain. It concerns the individual's struggle for humanity and altruism amongst a society that rejects any notion of virtue. Father Nazarin, however, is portrayed more sympathetically than Sister Viridiana. Whereas the latter seems to choose charity because she wishes to atone for her (perceived) sins, Nazarin's whole existence and reason for being seems to be to help others, whether they (or we) like it or not. The film's last scenes, in which he casts doubt on his behaviour and, in a split second, has to choose between the life he has been leading or the conventional life that is expected of a priest, are so emotional because they concern his moral integrity and we are never quite sure whether it remains intact or not.<br /><br />This is a remarkable film and I would urge anyone interested in classic cinema to seek it out. It is one of Bunuel's most moving films, and encapsulates many of his obsessions: frustrated desire, mad love, religious hypocrisy etc. In my view 'Nazarin' is second only to 'The Exterminating Angel', in terms of his Mexican movies, and is certainly near the top of the list of Bunuel's total filmic output.\"\n",
            " b'Scary Movie 1-4, Epic Movie, Date Movie, Meet the Spartans, Not another Teen Movie and Another Gay Movie. Making \"Superhero Movie\" the eleventh in a series that single handily ruined the parody genre. Now I\\'ll admit it I have a soft spot for classics such as Airplane and The Naked Gun but you know you\\'ve milked a franchise so bad when you can see the gags a mile off. In fact the only thing that might really temp you into going to see this disaster is the incredibly funny but massive sell-out Leslie Neilson.<br /><br />You can tell he needs the money, wither that or he intends to go down with the ship like a good Capitan would. In no way is he bringing down this genre but hell he\\'s not helping it. But if I feel sorry for anybody in this film its decent actor Drake Bell who is put through an immense amount of embarrassment. The people who are put through the largest amount of torture by far however is the audience forced to sit through 90 minutes of laughless bile no funnier than herpes.<br /><br />After spoofing disaster films in Airplane!, police shows in The Naked Gun, and Hollywood horrors in Scary Movie 3 and 4, producer David Zucker sets his satirical sights on the superhero genre with this anarchic comedy lampooning everything from Spider-Man to X-Men and Superman Returns.<br /><br />Shortly after being bitten by a genetically altered dragonfly, high-school outcast Rick Riker (Drake Bell) begins to experience a startling transformation. Now Rick\\'s skin is as strong as steel, and he possesses the strength of ten men. Determined to use his newfound powers to fight crime, Rick creates a special costume and assumes the identity of The Dragonfly -- a fearless crime fighter dedicated to keeping the streets safe for law-abiding citizens.<br /><br />But every superhero needs a nemesis, and after Lou Landers (Christopher McDonald) is caught in the middle of an experiment gone horribly awry, he develops the power to leech the life force out of anyone he meets and becomes the villainous Hourglass. Intent on achieving immortality, the Hourglass attempts to gather as much life force as possible as the noble Dragonfly sets out to take down his archenemy and realize his destiny as a true hero. Craig Mazin writes and directs this low-flying spoof.<br /><br />featuring Tracy Morgan, Pamela Anderson, Leslie Nielsen, Marion Ross, Jeffrey Tambor, and Regina Hall.<br /><br />Hell Superhero Movie may earn some merit in the fact that it\\'s a hell of a lot better than Meet the Spartans and Epic Movie. But with great responsibility comes one of the worst outings of 2008 to date. Laughless but a little less irritating than Meet the Spartans. And in the same sense much more forgettable than meet the Spartans. But maybe that\\'s a good reason. There are still some of us trying to scrape away the stain that was Meet the Spartans from our memory.<br /><br />My final verdict? Avoid, unless you\\'re one of thoses people who enjoy such car crash cinema. As bad as Date Movie and Scary Movie 2 but not quite as bad as Meet the Spartans or Epic Movie. Super Villain.'\n",
            " b'Poor Shirley MacLaine tries hard to lend some gravitas to this mawkish, gag-inducing \"feel-good\" movie, but she\\'s trampled by the run-away sentimentality of a film that\\'s not the least bit grounded in reality.<br /><br />This was directed by Curtis Hanson? Did he have a lobotomy since we last heard from him? Hanson can do effective drama sprinkled with comedy, as evidenced by \"Wonder Boys.\" So I don\\'t know what happened to him here. This is the kind of movie that doesn\\'t want to accept that life is messy and fussy, and that neat, tidy endings (however implausible they might be) might make for a nice closing shot, but come across as utterly phony if the people watching the film have been through anything remotely like what the characters in the film go through.<br /><br />My wife and I made a game of calling out the plot points before they occurred -- e.g. \"the old man\\'s going to teach her to read and then drop dead.\" Bingo! This is one of those movies where the characters give little speeches summarizing their emotional problems, making you wonder why they still have emotional problems if they\\'re that aware of what\\'s causing them. Toni Collette (a fine actress, by the way, and one of my favorites if not given a lot to work with here), gives a speech early on about why she buys so many shoes and never wears them, spelling out in flashing neon the film\\'s awkward connecting motif. At that moment, I knew what I was in for, and the film was a downward spiral from there.<br /><br />Grade: C-'\n",
            " b'As a former Erasmus student I enjoyed this film very much. It was so realistic and funny. It really picked up the spirit that exists among Erasmus students. I hope, many other students will follow this experience, too. However, I wonder if this movie is all that interesting to watch for people with no international experience. But at least one of my friends who has never gone on Erasmus also enjoyed it very much. I give it 9 out of 10.'\n",
            " b\"My God, Ryan Gosling has made a lot of deep characters in his career, this is one of his wonderful acting jobs. For me this is a very deep movie, needs a lot of concentration, not because is difficult to watch, just because you understand it if you put your shoes in this kid, even though has everything and has famous father that is a writer, has a deeper mind, you don't understand why he kills this poor kid, until you really heard what he has to say and you start to think, at least to me, that a lot of things that he says is true. Simple kid, sweet, very gentle, in a way normal like any teenage, but inside of him suffer because he start to look at the world in a different way, then you understand why he did what he did. I recommend this movie for those who likes deep drama.\"\n",
            " b\"This film just won the best film award at the Cleveland International Film Festival. It's American title apparently is Autumn Spring. The acting is superb. The story takes you into the life of an elderly man who takes what life deals him and spikes it up a little bit. Abetted by his best friend (and partner in not-so-serious crime) he puts people on at every opportunity but still often reveals his heart of gold. His longsuffering wife has come to her wits end and makes a life-changing decision which is heartbreaking to watch. The resolution of the story is beautiful.\"\n",
            " b'The cast for this production of Rigoletto is excellent. Edita Gruberova sings Gilda magnificently and passionately. Luciano Pavarotti also sings splendidly. Vergara is a fine Maddalena; Fedora Barbieri is a famous older singer who sings the maid, Giovanna. Weikl sings Marullo; Wixell sings both Rigoletto and Monterone. As Rigoletto, Wixell is probably the most convincing acting singer in this hard-to-beat ensemble of great singers. Kathleen Kuhlmann in the Contessa. All principals are well-known and world-renowned.<br /><br />This is an exciting Rigoletto visually as well as musically.<br /><br />I have it on both laser disc and DVD. You should have it too!'\n",
            " b'As long as you keep in mind that the production of this movie was a copyright ploy, and not intended as a serious release, it is actually surprising how not absolutely horrible it is. I even liked the theme music.<br /><br />And if ever a flick cried out for a treatment by Joel (or Mike) and the MST3K Bots, this is it! Watch this with a bunch of smart-ass wise-crackers, and you\\'re in for a good time. Have a brew, butter up some large pretzels, and enjoy.<br /><br />Of course, obtaining a copy requires buying a bootleg or downloading it as shareware, but if you\\'re here on the IMDb, then you\\'re most likely savvy enough to do so. Good luck.<br /><br />And look for my favorite part....where Dr. Doom informs the FF that they have 12 hours to comply with his wishes....and he actually gestures the number \"12\" with his finger while doing so....it\\'s like \"Evil Sesame Street\"....hoo boy.<br /><br />...and of course Mrs. Storm declaring \"Just look at you....the Fanstastic Four\" is just so heartwarming....you\\'ll laugh, you\\'ll cry.....<br /><br />So if you love schlocky Sci-Fi, this one\\'s Fantastic For you!'\n",
            " b\"Every great once in a while, you stumble upon a movie that exceeds even your wildest expectations. Given the IMDb rating of 4.0, I wasn't really expecting much with The Brotherhood of Satan. I hoped that at a minimum it might be cheesy fun like The Devil's Rain or any of the other early 70s similarly themed Satanic horror films. I couldn't' have been more wrong. What I got instead was an ambitious and intelligent film with a cast I really enjoyed. Speaking in broad terms to avoid giving anything away, the film's style and structure are much more experimental than the straightforward storytelling so prominent in the early 70s. The Brotherhood of Satan doesn't beat you over the head with plot points and explanations. A lot is left to the viewer to fill in the blanks. As a viewer, you know something is amiss, but for the longest period you're just not sure what it is. The unknown helps make for a far creepier atmosphere than most similar films. The ending is effective with its surreal imagery. I sat in amazement as the final credits began to roll. Those wanting a big slam-bang finale will be disappointed with the ending's simplicity. A lesser film would have tried to pull out all the stops and would, most likely, have failed miserably.<br /><br />There are moments in the film where it's easy to forget the director, Bernard McEveety, had primarily worked in television before The Brotherhood of Satan. There are a few scenes that are so well set-up, lit, and shot that even the most accomplished of directors could learn a thing or two. For example, I've seen enough films over the years to realize that directors can sometimes seem to have trouble shooting widescreen shots indoors. Not here. The scene where the men are discussing their plan of action in the sheriff's office is amazing. We see all five men at once \\xc2\\x96 each doing their own thing as in real life. In a lesser film, we might see all the men at once, but each would be motionless, quietly waiting their turn to deliver their dialogue. It's a small scene, but it looks so natural and is so beautifully shot that it's one of my favorite moments of The Brotherhood of Satan.<br /><br />Finally, I mentioned the acting in my opening, so without going into a long-winded speech, I'll just say that The Brotherhood of Satan features Strother Martin and L.Q. Jones. Any film with these two guys is almost an automatic winner with me.\"]\n",
            "label:  [1 1 0 0 1 1 1 1 0 1]\n",
            "Predictions: [-1.2235551  2.5586326 -2.8682697 -1.7534432  2.1902964  2.2984445\n",
            "  4.044972   3.1374562  1.1564796  1.7049248]\n"
          ]
        }
      ]
    },
    {
      "cell_type": "code",
      "metadata": {
        "colab": {
          "base_uri": "https://localhost:8080/"
        },
        "id": "rel-2p3JzEAx",
        "outputId": "a3bc3475-f84b-44b9-af45-4a13735b3af7"
      },
      "source": [
        "for ood in oods:\n",
        "    pred = model_ood2.predict([ood])\n",
        "    print(\"Prediction confidence : {}\".format(pred))"
      ],
      "execution_count": 111,
      "outputs": [
        {
          "output_type": "stream",
          "name": "stdout",
          "text": [
            "Prediction confidence : [[-0.73920035]]\n",
            "Prediction confidence : [[-0.1974909]]\n",
            "Prediction confidence : [[-0.7825821]]\n",
            "Prediction confidence : [[-0.11924624]]\n",
            "Prediction confidence : [[-0.25618345]]\n",
            "Prediction confidence : [[0.67674327]]\n",
            "Prediction confidence : [[-0.12907374]]\n",
            "Prediction confidence : [[-0.9427591]]\n",
            "Prediction confidence : [[-0.6618499]]\n",
            "Prediction confidence : [[-0.85664904]]\n"
          ]
        }
      ]
    },
    {
      "cell_type": "markdown",
      "metadata": {
        "id": "1HAxNsO44sfc"
      },
      "source": [
        "#### Prediction confidence in test set"
      ]
    },
    {
      "cell_type": "code",
      "metadata": {
        "colab": {
          "base_uri": "https://localhost:8080/"
        },
        "id": "vrfQhX2Y4sfc",
        "outputId": "ebaffb27-0cfa-4ac7-cdc2-422cc770797e"
      },
      "source": [
        "for example, label in test_dataset.take(1):\n",
        "    preds = model_ood2.predict([example.numpy()[:10]])\n",
        "    print('text: ', example.numpy()[:10])\n",
        "    print('label: ', label.numpy()[:10])\n",
        "    print(\"Predictions: {}\".format(preds.flatten()))"
      ],
      "execution_count": 115,
      "outputs": [
        {
          "output_type": "stream",
          "name": "stdout",
          "text": [
            "text:  [b\"There are films that make careers. For George Romero, it was NIGHT OF THE LIVING DEAD; for Kevin Smith, CLERKS; for Robert Rodriguez, EL MARIACHI. Add to that list Onur Tukel's absolutely amazing DING-A-LING-LESS. Flawless film-making, and as assured and as professional as any of the aforementioned movies. I haven't laughed this hard since I saw THE FULL MONTY. (And, even then, I don't think I laughed quite this hard... So to speak.) Tukel's talent is considerable: DING-A-LING-LESS is so chock full of double entendres that one would have to sit down with a copy of this script and do a line-by-line examination of it to fully appreciate the, uh, breadth and width of it. Every shot is beautifully composed (a clear sign of a sure-handed director), and the performances all around are solid (there's none of the over-the-top scenery chewing one might've expected from a film like this). DING-A-LING-LESS is a film whose time has come.\"\n",
            " b\"A blackly comic tale of a down-trodden priest, Nazarin showcases the economy that Luis Bunuel was able to achieve in being able to tell a deeply humanist fable with a minimum of fuss. As an output from his Mexican era of film making, it was an invaluable talent to possess, with little money and extremely tight schedules. Nazarin, however, surpasses many of Bunuel's previous Mexican films in terms of the acting (Francisco Rabal is excellent), narrative and theme.<br /><br />The theme, interestingly, is something that was explored again in Viridiana, made three years later in Spain. It concerns the individual's struggle for humanity and altruism amongst a society that rejects any notion of virtue. Father Nazarin, however, is portrayed more sympathetically than Sister Viridiana. Whereas the latter seems to choose charity because she wishes to atone for her (perceived) sins, Nazarin's whole existence and reason for being seems to be to help others, whether they (or we) like it or not. The film's last scenes, in which he casts doubt on his behaviour and, in a split second, has to choose between the life he has been leading or the conventional life that is expected of a priest, are so emotional because they concern his moral integrity and we are never quite sure whether it remains intact or not.<br /><br />This is a remarkable film and I would urge anyone interested in classic cinema to seek it out. It is one of Bunuel's most moving films, and encapsulates many of his obsessions: frustrated desire, mad love, religious hypocrisy etc. In my view 'Nazarin' is second only to 'The Exterminating Angel', in terms of his Mexican movies, and is certainly near the top of the list of Bunuel's total filmic output.\"\n",
            " b'Scary Movie 1-4, Epic Movie, Date Movie, Meet the Spartans, Not another Teen Movie and Another Gay Movie. Making \"Superhero Movie\" the eleventh in a series that single handily ruined the parody genre. Now I\\'ll admit it I have a soft spot for classics such as Airplane and The Naked Gun but you know you\\'ve milked a franchise so bad when you can see the gags a mile off. In fact the only thing that might really temp you into going to see this disaster is the incredibly funny but massive sell-out Leslie Neilson.<br /><br />You can tell he needs the money, wither that or he intends to go down with the ship like a good Capitan would. In no way is he bringing down this genre but hell he\\'s not helping it. But if I feel sorry for anybody in this film its decent actor Drake Bell who is put through an immense amount of embarrassment. The people who are put through the largest amount of torture by far however is the audience forced to sit through 90 minutes of laughless bile no funnier than herpes.<br /><br />After spoofing disaster films in Airplane!, police shows in The Naked Gun, and Hollywood horrors in Scary Movie 3 and 4, producer David Zucker sets his satirical sights on the superhero genre with this anarchic comedy lampooning everything from Spider-Man to X-Men and Superman Returns.<br /><br />Shortly after being bitten by a genetically altered dragonfly, high-school outcast Rick Riker (Drake Bell) begins to experience a startling transformation. Now Rick\\'s skin is as strong as steel, and he possesses the strength of ten men. Determined to use his newfound powers to fight crime, Rick creates a special costume and assumes the identity of The Dragonfly -- a fearless crime fighter dedicated to keeping the streets safe for law-abiding citizens.<br /><br />But every superhero needs a nemesis, and after Lou Landers (Christopher McDonald) is caught in the middle of an experiment gone horribly awry, he develops the power to leech the life force out of anyone he meets and becomes the villainous Hourglass. Intent on achieving immortality, the Hourglass attempts to gather as much life force as possible as the noble Dragonfly sets out to take down his archenemy and realize his destiny as a true hero. Craig Mazin writes and directs this low-flying spoof.<br /><br />featuring Tracy Morgan, Pamela Anderson, Leslie Nielsen, Marion Ross, Jeffrey Tambor, and Regina Hall.<br /><br />Hell Superhero Movie may earn some merit in the fact that it\\'s a hell of a lot better than Meet the Spartans and Epic Movie. But with great responsibility comes one of the worst outings of 2008 to date. Laughless but a little less irritating than Meet the Spartans. And in the same sense much more forgettable than meet the Spartans. But maybe that\\'s a good reason. There are still some of us trying to scrape away the stain that was Meet the Spartans from our memory.<br /><br />My final verdict? Avoid, unless you\\'re one of thoses people who enjoy such car crash cinema. As bad as Date Movie and Scary Movie 2 but not quite as bad as Meet the Spartans or Epic Movie. Super Villain.'\n",
            " b'Poor Shirley MacLaine tries hard to lend some gravitas to this mawkish, gag-inducing \"feel-good\" movie, but she\\'s trampled by the run-away sentimentality of a film that\\'s not the least bit grounded in reality.<br /><br />This was directed by Curtis Hanson? Did he have a lobotomy since we last heard from him? Hanson can do effective drama sprinkled with comedy, as evidenced by \"Wonder Boys.\" So I don\\'t know what happened to him here. This is the kind of movie that doesn\\'t want to accept that life is messy and fussy, and that neat, tidy endings (however implausible they might be) might make for a nice closing shot, but come across as utterly phony if the people watching the film have been through anything remotely like what the characters in the film go through.<br /><br />My wife and I made a game of calling out the plot points before they occurred -- e.g. \"the old man\\'s going to teach her to read and then drop dead.\" Bingo! This is one of those movies where the characters give little speeches summarizing their emotional problems, making you wonder why they still have emotional problems if they\\'re that aware of what\\'s causing them. Toni Collette (a fine actress, by the way, and one of my favorites if not given a lot to work with here), gives a speech early on about why she buys so many shoes and never wears them, spelling out in flashing neon the film\\'s awkward connecting motif. At that moment, I knew what I was in for, and the film was a downward spiral from there.<br /><br />Grade: C-'\n",
            " b'As a former Erasmus student I enjoyed this film very much. It was so realistic and funny. It really picked up the spirit that exists among Erasmus students. I hope, many other students will follow this experience, too. However, I wonder if this movie is all that interesting to watch for people with no international experience. But at least one of my friends who has never gone on Erasmus also enjoyed it very much. I give it 9 out of 10.'\n",
            " b\"My God, Ryan Gosling has made a lot of deep characters in his career, this is one of his wonderful acting jobs. For me this is a very deep movie, needs a lot of concentration, not because is difficult to watch, just because you understand it if you put your shoes in this kid, even though has everything and has famous father that is a writer, has a deeper mind, you don't understand why he kills this poor kid, until you really heard what he has to say and you start to think, at least to me, that a lot of things that he says is true. Simple kid, sweet, very gentle, in a way normal like any teenage, but inside of him suffer because he start to look at the world in a different way, then you understand why he did what he did. I recommend this movie for those who likes deep drama.\"\n",
            " b\"This film just won the best film award at the Cleveland International Film Festival. It's American title apparently is Autumn Spring. The acting is superb. The story takes you into the life of an elderly man who takes what life deals him and spikes it up a little bit. Abetted by his best friend (and partner in not-so-serious crime) he puts people on at every opportunity but still often reveals his heart of gold. His longsuffering wife has come to her wits end and makes a life-changing decision which is heartbreaking to watch. The resolution of the story is beautiful.\"\n",
            " b'The cast for this production of Rigoletto is excellent. Edita Gruberova sings Gilda magnificently and passionately. Luciano Pavarotti also sings splendidly. Vergara is a fine Maddalena; Fedora Barbieri is a famous older singer who sings the maid, Giovanna. Weikl sings Marullo; Wixell sings both Rigoletto and Monterone. As Rigoletto, Wixell is probably the most convincing acting singer in this hard-to-beat ensemble of great singers. Kathleen Kuhlmann in the Contessa. All principals are well-known and world-renowned.<br /><br />This is an exciting Rigoletto visually as well as musically.<br /><br />I have it on both laser disc and DVD. You should have it too!'\n",
            " b'As long as you keep in mind that the production of this movie was a copyright ploy, and not intended as a serious release, it is actually surprising how not absolutely horrible it is. I even liked the theme music.<br /><br />And if ever a flick cried out for a treatment by Joel (or Mike) and the MST3K Bots, this is it! Watch this with a bunch of smart-ass wise-crackers, and you\\'re in for a good time. Have a brew, butter up some large pretzels, and enjoy.<br /><br />Of course, obtaining a copy requires buying a bootleg or downloading it as shareware, but if you\\'re here on the IMDb, then you\\'re most likely savvy enough to do so. Good luck.<br /><br />And look for my favorite part....where Dr. Doom informs the FF that they have 12 hours to comply with his wishes....and he actually gestures the number \"12\" with his finger while doing so....it\\'s like \"Evil Sesame Street\"....hoo boy.<br /><br />...and of course Mrs. Storm declaring \"Just look at you....the Fanstastic Four\" is just so heartwarming....you\\'ll laugh, you\\'ll cry.....<br /><br />So if you love schlocky Sci-Fi, this one\\'s Fantastic For you!'\n",
            " b\"Every great once in a while, you stumble upon a movie that exceeds even your wildest expectations. Given the IMDb rating of 4.0, I wasn't really expecting much with The Brotherhood of Satan. I hoped that at a minimum it might be cheesy fun like The Devil's Rain or any of the other early 70s similarly themed Satanic horror films. I couldn't' have been more wrong. What I got instead was an ambitious and intelligent film with a cast I really enjoyed. Speaking in broad terms to avoid giving anything away, the film's style and structure are much more experimental than the straightforward storytelling so prominent in the early 70s. The Brotherhood of Satan doesn't beat you over the head with plot points and explanations. A lot is left to the viewer to fill in the blanks. As a viewer, you know something is amiss, but for the longest period you're just not sure what it is. The unknown helps make for a far creepier atmosphere than most similar films. The ending is effective with its surreal imagery. I sat in amazement as the final credits began to roll. Those wanting a big slam-bang finale will be disappointed with the ending's simplicity. A lesser film would have tried to pull out all the stops and would, most likely, have failed miserably.<br /><br />There are moments in the film where it's easy to forget the director, Bernard McEveety, had primarily worked in television before The Brotherhood of Satan. There are a few scenes that are so well set-up, lit, and shot that even the most accomplished of directors could learn a thing or two. For example, I've seen enough films over the years to realize that directors can sometimes seem to have trouble shooting widescreen shots indoors. Not here. The scene where the men are discussing their plan of action in the sheriff's office is amazing. We see all five men at once \\xc2\\x96 each doing their own thing as in real life. In a lesser film, we might see all the men at once, but each would be motionless, quietly waiting their turn to deliver their dialogue. It's a small scene, but it looks so natural and is so beautifully shot that it's one of my favorite moments of The Brotherhood of Satan.<br /><br />Finally, I mentioned the acting in my opening, so without going into a long-winded speech, I'll just say that The Brotherhood of Satan features Strother Martin and L.Q. Jones. Any film with these two guys is almost an automatic winner with me.\"]\n",
            "label:  [1 1 0 0 1 1 1 1 0 1]\n",
            "Predictions: [-1.4414592   2.497746   -2.7908223  -2.2766557   2.0428667   2.031712\n",
            "  3.7863288   2.7496643  -0.3401415  -0.13331592]\n"
          ]
        }
      ]
    },
    {
      "cell_type": "code",
      "metadata": {
        "colab": {
          "base_uri": "https://localhost:8080/"
        },
        "id": "7z8wm3e2zG6h",
        "outputId": "f739e991-6b9d-4ac5-be3a-c3085c59d604"
      },
      "source": [
        "for ood in oods:\n",
        "    pred = model_ood3.predict([ood])\n",
        "    print(\"Prediction confidence : {}\".format(pred))"
      ],
      "execution_count": 112,
      "outputs": [
        {
          "output_type": "stream",
          "name": "stdout",
          "text": [
            "Prediction confidence : [[-0.5895714]]\n",
            "Prediction confidence : [[-0.24002422]]\n",
            "Prediction confidence : [[-0.27378342]]\n",
            "Prediction confidence : [[0.04906569]]\n",
            "Prediction confidence : [[-0.10081894]]\n",
            "Prediction confidence : [[0.7108066]]\n",
            "Prediction confidence : [[-0.10838062]]\n",
            "Prediction confidence : [[-0.957288]]\n",
            "Prediction confidence : [[-0.71270096]]\n",
            "Prediction confidence : [[-0.43860722]]\n"
          ]
        }
      ]
    },
    {
      "cell_type": "code",
      "metadata": {
        "colab": {
          "base_uri": "https://localhost:8080/"
        },
        "id": "5WLkg_xLOi76",
        "outputId": "390e6818-2327-443d-8e87-9eff28d5167f"
      },
      "source": [
        "pred_temp = model_ood3.predict([\"non white and kike we are coming for you a white revolution is on its way non white and kike we are coming for you a white revolution is on its way non white and kike we are coming for you a white revolution is on its way non white and kike we are coming for you a white revolution is on its way\"])\n",
        "print(pred_temp)\n",
        "\n",
        "pred_temp1 = model_ood3.predict([\"lol what a stupid kike lol what a stupid kike lol what a stupid kike non white and kike we are coming for you a white revolution is on its way non white and kike we are coming for you a white revolution is on its way\"])\n",
        "print(pred_temp1)"
      ],
      "execution_count": 148,
      "outputs": [
        {
          "output_type": "stream",
          "name": "stdout",
          "text": [
            "[[2.484823]]\n",
            "[[-1.1294621]]\n"
          ]
        }
      ]
    },
    {
      "cell_type": "markdown",
      "metadata": {
        "id": "qRUKfaeC41q6"
      },
      "source": [
        "#### Prediction confidence in test set"
      ]
    },
    {
      "cell_type": "code",
      "metadata": {
        "colab": {
          "base_uri": "https://localhost:8080/"
        },
        "id": "HsatYywy41q7",
        "outputId": "3c957b71-972c-4902-957f-8bac44403e99"
      },
      "source": [
        "for example, label in test_dataset.take(1):\n",
        "    preds = model_ood3.predict([example.numpy()[:10]])\n",
        "    print('text: ', example.numpy()[:10])\n",
        "    print('label: ', label.numpy()[:10])\n",
        "    print(\"Predictions: {}\".format(preds.flatten()))"
      ],
      "execution_count": 116,
      "outputs": [
        {
          "output_type": "stream",
          "name": "stdout",
          "text": [
            "text:  [b\"There are films that make careers. For George Romero, it was NIGHT OF THE LIVING DEAD; for Kevin Smith, CLERKS; for Robert Rodriguez, EL MARIACHI. Add to that list Onur Tukel's absolutely amazing DING-A-LING-LESS. Flawless film-making, and as assured and as professional as any of the aforementioned movies. I haven't laughed this hard since I saw THE FULL MONTY. (And, even then, I don't think I laughed quite this hard... So to speak.) Tukel's talent is considerable: DING-A-LING-LESS is so chock full of double entendres that one would have to sit down with a copy of this script and do a line-by-line examination of it to fully appreciate the, uh, breadth and width of it. Every shot is beautifully composed (a clear sign of a sure-handed director), and the performances all around are solid (there's none of the over-the-top scenery chewing one might've expected from a film like this). DING-A-LING-LESS is a film whose time has come.\"\n",
            " b\"A blackly comic tale of a down-trodden priest, Nazarin showcases the economy that Luis Bunuel was able to achieve in being able to tell a deeply humanist fable with a minimum of fuss. As an output from his Mexican era of film making, it was an invaluable talent to possess, with little money and extremely tight schedules. Nazarin, however, surpasses many of Bunuel's previous Mexican films in terms of the acting (Francisco Rabal is excellent), narrative and theme.<br /><br />The theme, interestingly, is something that was explored again in Viridiana, made three years later in Spain. It concerns the individual's struggle for humanity and altruism amongst a society that rejects any notion of virtue. Father Nazarin, however, is portrayed more sympathetically than Sister Viridiana. Whereas the latter seems to choose charity because she wishes to atone for her (perceived) sins, Nazarin's whole existence and reason for being seems to be to help others, whether they (or we) like it or not. The film's last scenes, in which he casts doubt on his behaviour and, in a split second, has to choose between the life he has been leading or the conventional life that is expected of a priest, are so emotional because they concern his moral integrity and we are never quite sure whether it remains intact or not.<br /><br />This is a remarkable film and I would urge anyone interested in classic cinema to seek it out. It is one of Bunuel's most moving films, and encapsulates many of his obsessions: frustrated desire, mad love, religious hypocrisy etc. In my view 'Nazarin' is second only to 'The Exterminating Angel', in terms of his Mexican movies, and is certainly near the top of the list of Bunuel's total filmic output.\"\n",
            " b'Scary Movie 1-4, Epic Movie, Date Movie, Meet the Spartans, Not another Teen Movie and Another Gay Movie. Making \"Superhero Movie\" the eleventh in a series that single handily ruined the parody genre. Now I\\'ll admit it I have a soft spot for classics such as Airplane and The Naked Gun but you know you\\'ve milked a franchise so bad when you can see the gags a mile off. In fact the only thing that might really temp you into going to see this disaster is the incredibly funny but massive sell-out Leslie Neilson.<br /><br />You can tell he needs the money, wither that or he intends to go down with the ship like a good Capitan would. In no way is he bringing down this genre but hell he\\'s not helping it. But if I feel sorry for anybody in this film its decent actor Drake Bell who is put through an immense amount of embarrassment. The people who are put through the largest amount of torture by far however is the audience forced to sit through 90 minutes of laughless bile no funnier than herpes.<br /><br />After spoofing disaster films in Airplane!, police shows in The Naked Gun, and Hollywood horrors in Scary Movie 3 and 4, producer David Zucker sets his satirical sights on the superhero genre with this anarchic comedy lampooning everything from Spider-Man to X-Men and Superman Returns.<br /><br />Shortly after being bitten by a genetically altered dragonfly, high-school outcast Rick Riker (Drake Bell) begins to experience a startling transformation. Now Rick\\'s skin is as strong as steel, and he possesses the strength of ten men. Determined to use his newfound powers to fight crime, Rick creates a special costume and assumes the identity of The Dragonfly -- a fearless crime fighter dedicated to keeping the streets safe for law-abiding citizens.<br /><br />But every superhero needs a nemesis, and after Lou Landers (Christopher McDonald) is caught in the middle of an experiment gone horribly awry, he develops the power to leech the life force out of anyone he meets and becomes the villainous Hourglass. Intent on achieving immortality, the Hourglass attempts to gather as much life force as possible as the noble Dragonfly sets out to take down his archenemy and realize his destiny as a true hero. Craig Mazin writes and directs this low-flying spoof.<br /><br />featuring Tracy Morgan, Pamela Anderson, Leslie Nielsen, Marion Ross, Jeffrey Tambor, and Regina Hall.<br /><br />Hell Superhero Movie may earn some merit in the fact that it\\'s a hell of a lot better than Meet the Spartans and Epic Movie. But with great responsibility comes one of the worst outings of 2008 to date. Laughless but a little less irritating than Meet the Spartans. And in the same sense much more forgettable than meet the Spartans. But maybe that\\'s a good reason. There are still some of us trying to scrape away the stain that was Meet the Spartans from our memory.<br /><br />My final verdict? Avoid, unless you\\'re one of thoses people who enjoy such car crash cinema. As bad as Date Movie and Scary Movie 2 but not quite as bad as Meet the Spartans or Epic Movie. Super Villain.'\n",
            " b'Poor Shirley MacLaine tries hard to lend some gravitas to this mawkish, gag-inducing \"feel-good\" movie, but she\\'s trampled by the run-away sentimentality of a film that\\'s not the least bit grounded in reality.<br /><br />This was directed by Curtis Hanson? Did he have a lobotomy since we last heard from him? Hanson can do effective drama sprinkled with comedy, as evidenced by \"Wonder Boys.\" So I don\\'t know what happened to him here. This is the kind of movie that doesn\\'t want to accept that life is messy and fussy, and that neat, tidy endings (however implausible they might be) might make for a nice closing shot, but come across as utterly phony if the people watching the film have been through anything remotely like what the characters in the film go through.<br /><br />My wife and I made a game of calling out the plot points before they occurred -- e.g. \"the old man\\'s going to teach her to read and then drop dead.\" Bingo! This is one of those movies where the characters give little speeches summarizing their emotional problems, making you wonder why they still have emotional problems if they\\'re that aware of what\\'s causing them. Toni Collette (a fine actress, by the way, and one of my favorites if not given a lot to work with here), gives a speech early on about why she buys so many shoes and never wears them, spelling out in flashing neon the film\\'s awkward connecting motif. At that moment, I knew what I was in for, and the film was a downward spiral from there.<br /><br />Grade: C-'\n",
            " b'As a former Erasmus student I enjoyed this film very much. It was so realistic and funny. It really picked up the spirit that exists among Erasmus students. I hope, many other students will follow this experience, too. However, I wonder if this movie is all that interesting to watch for people with no international experience. But at least one of my friends who has never gone on Erasmus also enjoyed it very much. I give it 9 out of 10.'\n",
            " b\"My God, Ryan Gosling has made a lot of deep characters in his career, this is one of his wonderful acting jobs. For me this is a very deep movie, needs a lot of concentration, not because is difficult to watch, just because you understand it if you put your shoes in this kid, even though has everything and has famous father that is a writer, has a deeper mind, you don't understand why he kills this poor kid, until you really heard what he has to say and you start to think, at least to me, that a lot of things that he says is true. Simple kid, sweet, very gentle, in a way normal like any teenage, but inside of him suffer because he start to look at the world in a different way, then you understand why he did what he did. I recommend this movie for those who likes deep drama.\"\n",
            " b\"This film just won the best film award at the Cleveland International Film Festival. It's American title apparently is Autumn Spring. The acting is superb. The story takes you into the life of an elderly man who takes what life deals him and spikes it up a little bit. Abetted by his best friend (and partner in not-so-serious crime) he puts people on at every opportunity but still often reveals his heart of gold. His longsuffering wife has come to her wits end and makes a life-changing decision which is heartbreaking to watch. The resolution of the story is beautiful.\"\n",
            " b'The cast for this production of Rigoletto is excellent. Edita Gruberova sings Gilda magnificently and passionately. Luciano Pavarotti also sings splendidly. Vergara is a fine Maddalena; Fedora Barbieri is a famous older singer who sings the maid, Giovanna. Weikl sings Marullo; Wixell sings both Rigoletto and Monterone. As Rigoletto, Wixell is probably the most convincing acting singer in this hard-to-beat ensemble of great singers. Kathleen Kuhlmann in the Contessa. All principals are well-known and world-renowned.<br /><br />This is an exciting Rigoletto visually as well as musically.<br /><br />I have it on both laser disc and DVD. You should have it too!'\n",
            " b'As long as you keep in mind that the production of this movie was a copyright ploy, and not intended as a serious release, it is actually surprising how not absolutely horrible it is. I even liked the theme music.<br /><br />And if ever a flick cried out for a treatment by Joel (or Mike) and the MST3K Bots, this is it! Watch this with a bunch of smart-ass wise-crackers, and you\\'re in for a good time. Have a brew, butter up some large pretzels, and enjoy.<br /><br />Of course, obtaining a copy requires buying a bootleg or downloading it as shareware, but if you\\'re here on the IMDb, then you\\'re most likely savvy enough to do so. Good luck.<br /><br />And look for my favorite part....where Dr. Doom informs the FF that they have 12 hours to comply with his wishes....and he actually gestures the number \"12\" with his finger while doing so....it\\'s like \"Evil Sesame Street\"....hoo boy.<br /><br />...and of course Mrs. Storm declaring \"Just look at you....the Fanstastic Four\" is just so heartwarming....you\\'ll laugh, you\\'ll cry.....<br /><br />So if you love schlocky Sci-Fi, this one\\'s Fantastic For you!'\n",
            " b\"Every great once in a while, you stumble upon a movie that exceeds even your wildest expectations. Given the IMDb rating of 4.0, I wasn't really expecting much with The Brotherhood of Satan. I hoped that at a minimum it might be cheesy fun like The Devil's Rain or any of the other early 70s similarly themed Satanic horror films. I couldn't' have been more wrong. What I got instead was an ambitious and intelligent film with a cast I really enjoyed. Speaking in broad terms to avoid giving anything away, the film's style and structure are much more experimental than the straightforward storytelling so prominent in the early 70s. The Brotherhood of Satan doesn't beat you over the head with plot points and explanations. A lot is left to the viewer to fill in the blanks. As a viewer, you know something is amiss, but for the longest period you're just not sure what it is. The unknown helps make for a far creepier atmosphere than most similar films. The ending is effective with its surreal imagery. I sat in amazement as the final credits began to roll. Those wanting a big slam-bang finale will be disappointed with the ending's simplicity. A lesser film would have tried to pull out all the stops and would, most likely, have failed miserably.<br /><br />There are moments in the film where it's easy to forget the director, Bernard McEveety, had primarily worked in television before The Brotherhood of Satan. There are a few scenes that are so well set-up, lit, and shot that even the most accomplished of directors could learn a thing or two. For example, I've seen enough films over the years to realize that directors can sometimes seem to have trouble shooting widescreen shots indoors. Not here. The scene where the men are discussing their plan of action in the sheriff's office is amazing. We see all five men at once \\xc2\\x96 each doing their own thing as in real life. In a lesser film, we might see all the men at once, but each would be motionless, quietly waiting their turn to deliver their dialogue. It's a small scene, but it looks so natural and is so beautifully shot that it's one of my favorite moments of The Brotherhood of Satan.<br /><br />Finally, I mentioned the acting in my opening, so without going into a long-winded speech, I'll just say that The Brotherhood of Satan features Strother Martin and L.Q. Jones. Any film with these two guys is almost an automatic winner with me.\"]\n",
            "label:  [1 1 0 0 1 1 1 1 0 1]\n",
            "Predictions: [-0.99804914  3.1073618  -4.468469   -2.735616    2.0280094   2.5425625\n",
            "  4.109762    3.4955254   0.5049958   2.0056539 ]\n"
          ]
        }
      ]
    },
    {
      "cell_type": "markdown",
      "metadata": {
        "id": "fpvZapWaA50b"
      },
      "source": [
        "### New models"
      ]
    },
    {
      "cell_type": "markdown",
      "metadata": {
        "id": "6hiaaKOASloH"
      },
      "source": [
        "### Base Model"
      ]
    },
    {
      "cell_type": "code",
      "metadata": {
        "id": "NiP-4H18SkUD"
      },
      "source": [
        "model_base_temp = tf.keras.Sequential([\n",
        "    encoder,\n",
        "    tf.keras.layers.Embedding(\n",
        "        input_dim=len(encoder.get_vocabulary()),\n",
        "        output_dim=64,\n",
        "        # Use masking to handle the variable sequence lengths\n",
        "        mask_zero=True),\n",
        "    tf.keras.layers.Bidirectional(tf.keras.layers.LSTM(64)),\n",
        "    tf.keras.layers.Dense(64, activation='relu'),\n",
        "    tf.keras.layers.Dropout(0.5),\n",
        "    tf.keras.layers.Dense(1)\n",
        "])  # Can change the embedding initializer and in fact\n",
        "    #all the other hyperparameters in the various layers"
      ],
      "execution_count": 159,
      "outputs": []
    },
    {
      "cell_type": "code",
      "metadata": {
        "id": "vZnNpFefSkUF"
      },
      "source": [
        "model_base_temp.compile(loss=tf.keras.losses.BinaryCrossentropy(from_logits=True),\n",
        "              optimizer=tf.keras.optimizers.Adam(1e-4),\n",
        "              metrics=['accuracy'])"
      ],
      "execution_count": 160,
      "outputs": []
    },
    {
      "cell_type": "code",
      "metadata": {
        "colab": {
          "base_uri": "https://localhost:8080/"
        },
        "id": "Aq6zDJXuSkUF",
        "outputId": "01b219d6-de67-4a03-fc9d-0e2ba2df0221"
      },
      "source": [
        "start_time = time.time()\n",
        "\n",
        "history_base_temp = model_base_temp.fit(train_dataset, epochs=10,\n",
        "                    validation_data=test_dataset,\n",
        "                    validation_steps=30)\n",
        "\n",
        "end_time = time.time()\n",
        "\n",
        "mins = (end_time-start_time)/60\n",
        "secs = (end_time-start_time)%60\n",
        "\n",
        "print(\"Time taken to train: {} minutes and {} seconds\".format(mins, secs))"
      ],
      "execution_count": 161,
      "outputs": [
        {
          "output_type": "stream",
          "name": "stdout",
          "text": [
            "Epoch 1/10\n",
            "391/391 [==============================] - 41s 89ms/step - loss: 0.6565 - accuracy: 0.5454 - val_loss: 0.5205 - val_accuracy: 0.7156\n",
            "Epoch 2/10\n",
            "391/391 [==============================] - 34s 86ms/step - loss: 0.5057 - accuracy: 0.7285 - val_loss: 0.4350 - val_accuracy: 0.7828\n",
            "Epoch 3/10\n",
            "391/391 [==============================] - 35s 87ms/step - loss: 0.3922 - accuracy: 0.8257 - val_loss: 0.3868 - val_accuracy: 0.8297\n",
            "Epoch 4/10\n",
            "391/391 [==============================] - 34s 86ms/step - loss: 0.3552 - accuracy: 0.8472 - val_loss: 0.3555 - val_accuracy: 0.8297\n",
            "Epoch 5/10\n",
            "391/391 [==============================] - 34s 86ms/step - loss: 0.3391 - accuracy: 0.8562 - val_loss: 0.3435 - val_accuracy: 0.8500\n",
            "Epoch 6/10\n",
            "391/391 [==============================] - 35s 87ms/step - loss: 0.3266 - accuracy: 0.8641 - val_loss: 0.3489 - val_accuracy: 0.8495\n",
            "Epoch 7/10\n",
            "391/391 [==============================] - 35s 87ms/step - loss: 0.3201 - accuracy: 0.8653 - val_loss: 0.3388 - val_accuracy: 0.8578\n",
            "Epoch 8/10\n",
            "391/391 [==============================] - 34s 86ms/step - loss: 0.3139 - accuracy: 0.8684 - val_loss: 0.3313 - val_accuracy: 0.8510\n",
            "Epoch 9/10\n",
            "391/391 [==============================] - 36s 90ms/step - loss: 0.3118 - accuracy: 0.8712 - val_loss: 0.3384 - val_accuracy: 0.8443\n",
            "Epoch 10/10\n",
            "391/391 [==============================] - 36s 90ms/step - loss: 0.3110 - accuracy: 0.8708 - val_loss: 0.3291 - val_accuracy: 0.8589\n",
            "Time taken to train: 6.716869298617045 minutes and 43.012157917022705 seconds\n"
          ]
        }
      ]
    },
    {
      "cell_type": "code",
      "metadata": {
        "colab": {
          "base_uri": "https://localhost:8080/"
        },
        "id": "rF7nkcHjS7lV",
        "outputId": "80f5c74c-8273-4b82-f657-3a1452028914"
      },
      "source": [
        "test_model(model_base_temp)"
      ],
      "execution_count": 162,
      "outputs": [
        {
          "output_type": "stream",
          "name": "stdout",
          "text": [
            "391/391 [==============================] - 19s 49ms/step - loss: 0.3240 - accuracy: 0.8619\n",
            "Time taken to test: 0.3230119585990906 minutes and 19.380717515945435 seconds\n",
            "Test Loss: 0.3240464925765991\n",
            "Test Accuracy: 0.8619199991226196\n"
          ]
        }
      ]
    },
    {
      "cell_type": "markdown",
      "metadata": {
        "id": "pF6UKgKmS7lb"
      },
      "source": [
        "### Confusion Matrix"
      ]
    },
    {
      "cell_type": "code",
      "metadata": {
        "colab": {
          "base_uri": "https://localhost:8080/"
        },
        "id": "Qni26doMS7lb",
        "outputId": "79790212-9288-482f-95bb-4b14615ef8fe"
      },
      "source": [
        "get_confusion_matrix(model_base_temp)"
      ],
      "execution_count": 163,
      "outputs": [
        {
          "output_type": "stream",
          "name": "stdout",
          "text": [
            "[[10364  2136]\n",
            " [ 1351 11149]]\n"
          ]
        }
      ]
    },
    {
      "cell_type": "markdown",
      "metadata": {
        "id": "mNUZFAryS7lc"
      },
      "source": [
        "### Train and Validation Plot"
      ]
    },
    {
      "cell_type": "code",
      "metadata": {
        "colab": {
          "base_uri": "https://localhost:8080/",
          "height": 501
        },
        "id": "lFvClzWES7lc",
        "outputId": "9e95feb7-31e1-4d0a-aa6d-6137f9a2d70e"
      },
      "source": [
        "make_plot(history_base_temp)"
      ],
      "execution_count": 164,
      "outputs": [
        {
          "output_type": "display_data",
          "data": {
            "image/png": "[encoded data removed]",
            "text/plain": [
              "<Figure size 1152x576 with 2 Axes>"
            ]
          },
          "metadata": {
            "needs_background": "light"
          }
        }
      ]
    },
    {
      "cell_type": "markdown",
      "metadata": {
        "id": "-NlFbjKAS7lc"
      },
      "source": [
        "### Model storage size and summary"
      ]
    },
    {
      "cell_type": "code",
      "metadata": {
        "colab": {
          "base_uri": "https://localhost:8080/"
        },
        "id": "sGIr8j7KS7lc",
        "outputId": "90642063-f721-421b-8c0e-1c5eda1bdfb8"
      },
      "source": [
        "model_base_temp.summary()"
      ],
      "execution_count": 194,
      "outputs": [
        {
          "output_type": "stream",
          "name": "stdout",
          "text": [
            "Model: \"sequential_15\"\n",
            "_________________________________________________________________\n",
            "Layer (type)                 Output Shape              Param #   \n",
            "=================================================================\n",
            "text_vectorization (TextVect (None, None)              0         \n",
            "_________________________________________________________________\n",
            "embedding_15 (Embedding)     (None, None, 64)          64000     \n",
            "_________________________________________________________________\n",
            "bidirectional_25 (Bidirectio (None, 128)               66048     \n",
            "_________________________________________________________________\n",
            "dense_30 (Dense)             (None, 64)                8256      \n",
            "_________________________________________________________________\n",
            "dropout_15 (Dropout)         (None, 64)                0         \n",
            "_________________________________________________________________\n",
            "dense_31 (Dense)             (None, 1)                 65        \n",
            "=================================================================\n",
            "Total params: 138,369\n",
            "Trainable params: 138,369\n",
            "Non-trainable params: 0\n",
            "_________________________________________________________________\n"
          ]
        }
      ]
    },
    {
      "cell_type": "code",
      "metadata": {
        "colab": {
          "base_uri": "https://localhost:8080/"
        },
        "id": "3wllEYDJS7lc",
        "outputId": "8c8e1160-2398-48cc-ef48-32db2d1a8c75"
      },
      "source": [
        "model_base_temp.save('drive/MyDrive/GaTech/big_data/model_base_temp')"
      ],
      "execution_count": 166,
      "outputs": [
        {
          "output_type": "stream",
          "name": "stderr",
          "text": [
            "WARNING:absl:Found untraced functions such as lstm_cell_76_layer_call_fn, lstm_cell_76_layer_call_and_return_conditional_losses, lstm_cell_77_layer_call_fn, lstm_cell_77_layer_call_and_return_conditional_losses, lstm_cell_76_layer_call_fn while saving (showing 5 of 10). These functions will not be directly callable after loading.\n"
          ]
        },
        {
          "output_type": "stream",
          "name": "stdout",
          "text": [
            "INFO:tensorflow:Assets written to: drive/MyDrive/GaTech/big_data/model_base_temp/assets\n"
          ]
        },
        {
          "output_type": "stream",
          "name": "stderr",
          "text": [
            "INFO:tensorflow:Assets written to: drive/MyDrive/GaTech/big_data/model_base_temp/assets\n"
          ]
        }
      ]
    },
    {
      "cell_type": "code",
      "metadata": {
        "colab": {
          "base_uri": "https://localhost:8080/"
        },
        "id": "BkeaNMATS7lc",
        "outputId": "68d683c9-f5db-4803-d6d5-53b2ba9f1840"
      },
      "source": [
        "!du -hsx drive/MyDrive/GaTech/big_data/model_base_temp"
      ],
      "execution_count": 167,
      "outputs": [
        {
          "output_type": "stream",
          "name": "stdout",
          "text": [
            "8.5M\tdrive/MyDrive/GaTech/big_data/model_base_temp\n"
          ]
        }
      ]
    },
    {
      "cell_type": "markdown",
      "metadata": {
        "id": "JziAlAy_SxOM"
      },
      "source": [
        "### Stacked LSTM"
      ]
    },
    {
      "cell_type": "code",
      "metadata": {
        "id": "qbW044V5732K"
      },
      "source": [
        "model_stk_temp = tf.keras.Sequential([\n",
        "encoder,\n",
        "tf.keras.layers.Embedding(len(encoder.get_vocabulary()), 64, mask_zero=True),\n",
        "tf.keras.layers.Bidirectional(tf.keras.layers.LSTM(64,  return_sequences=True)),\n",
        "tf.keras.layers.Bidirectional(tf.keras.layers.LSTM(32)),\n",
        "tf.keras.layers.Dense(64, activation='relu'),\n",
        "tf.keras.layers.Dropout(0.5),\n",
        "tf.keras.layers.Dense(1)\n",
        "])"
      ],
      "execution_count": 121,
      "outputs": []
    },
    {
      "cell_type": "code",
      "metadata": {
        "id": "2CchTuac732Q"
      },
      "source": [
        "model_stk_temp.compile(loss=tf.keras.losses.BinaryCrossentropy(from_logits=True),\n",
        "              optimizer=tf.keras.optimizers.Adam(1e-4),\n",
        "              metrics=['accuracy'])"
      ],
      "execution_count": 122,
      "outputs": []
    },
    {
      "cell_type": "code",
      "metadata": {
        "colab": {
          "base_uri": "https://localhost:8080/"
        },
        "id": "fQCGKhoKzTmo",
        "outputId": "58ab4197-f2af-4379-867d-6dbcf92b5488"
      },
      "source": [
        "start_time = time.time()\n",
        "\n",
        "history_temp = model_stk_temp.fit(train_dataset, epochs=10,\n",
        "                    validation_data=test_dataset,\n",
        "                    validation_steps=30)\n",
        "\n",
        "end_time = time.time()\n",
        "\n",
        "mins = (end_time-start_time)/60\n",
        "secs = (end_time-start_time)%60\n",
        "\n",
        "print(\"Time taken to train: {} minutes and {} seconds\".format(mins, secs))"
      ],
      "execution_count": 123,
      "outputs": [
        {
          "output_type": "stream",
          "name": "stdout",
          "text": [
            "Epoch 1/10\n",
            "391/391 [==============================] - 74s 152ms/step - loss: 0.6267 - accuracy: 0.5838 - val_loss: 0.4444 - val_accuracy: 0.7766\n",
            "Epoch 2/10\n",
            "391/391 [==============================] - 56s 141ms/step - loss: 0.3935 - accuracy: 0.8261 - val_loss: 0.3533 - val_accuracy: 0.8490\n",
            "Epoch 3/10\n",
            "391/391 [==============================] - 55s 140ms/step - loss: 0.3417 - accuracy: 0.8543 - val_loss: 0.3337 - val_accuracy: 0.8547\n",
            "Epoch 4/10\n",
            "391/391 [==============================] - 56s 142ms/step - loss: 0.3221 - accuracy: 0.8635 - val_loss: 0.3224 - val_accuracy: 0.8578\n",
            "Epoch 5/10\n",
            "391/391 [==============================] - 56s 141ms/step - loss: 0.3166 - accuracy: 0.8641 - val_loss: 0.3194 - val_accuracy: 0.8594\n",
            "Epoch 6/10\n",
            "391/391 [==============================] - 55s 140ms/step - loss: 0.3076 - accuracy: 0.8689 - val_loss: 0.3280 - val_accuracy: 0.8500\n",
            "Epoch 7/10\n",
            "391/391 [==============================] - 55s 140ms/step - loss: 0.3030 - accuracy: 0.8695 - val_loss: 0.3174 - val_accuracy: 0.8620\n",
            "Epoch 8/10\n",
            "391/391 [==============================] - 55s 140ms/step - loss: 0.3004 - accuracy: 0.8714 - val_loss: 0.3164 - val_accuracy: 0.8604\n",
            "Epoch 9/10\n",
            "391/391 [==============================] - 55s 140ms/step - loss: 0.2955 - accuracy: 0.8734 - val_loss: 0.3154 - val_accuracy: 0.8583\n",
            "Epoch 10/10\n",
            "391/391 [==============================] - 55s 140ms/step - loss: 0.2944 - accuracy: 0.8736 - val_loss: 0.3186 - val_accuracy: 0.8625\n",
            "Time taken to train: 12.529396347204845 minutes and 31.76378083229065 seconds\n"
          ]
        }
      ]
    },
    {
      "cell_type": "code",
      "metadata": {
        "colab": {
          "base_uri": "https://localhost:8080/"
        },
        "id": "GIo_jgn98B6m",
        "outputId": "9205cd7b-9b6f-4746-bf35-330f371f7589"
      },
      "source": [
        "test_model(model_stk_temp)"
      ],
      "execution_count": 124,
      "outputs": [
        {
          "output_type": "stream",
          "name": "stdout",
          "text": [
            "391/391 [==============================] - 29s 75ms/step - loss: 0.3150 - accuracy: 0.8620\n",
            "Time taken to test: 0.4872897903124491 minutes and 29.23738741874695 seconds\n",
            "Test Loss: 0.31498581171035767\n",
            "Test Accuracy: 0.8619599938392639\n"
          ]
        }
      ]
    },
    {
      "cell_type": "markdown",
      "metadata": {
        "id": "AyS2ot5zRaQJ"
      },
      "source": [
        "### Confusion Matrix"
      ]
    },
    {
      "cell_type": "code",
      "metadata": {
        "colab": {
          "base_uri": "https://localhost:8080/"
        },
        "id": "8YgLlW71RaQK",
        "outputId": "68e513f5-b729-4b69-bbce-6261b23dbf85"
      },
      "source": [
        "get_confusion_matrix(model_stk_temp)"
      ],
      "execution_count": 153,
      "outputs": [
        {
          "output_type": "stream",
          "name": "stdout",
          "text": [
            "[[10729  1771]\n",
            " [ 1585 10915]]\n"
          ]
        }
      ]
    },
    {
      "cell_type": "markdown",
      "metadata": {
        "id": "03MdMeghRaQL"
      },
      "source": [
        "### Train and Validation Plot"
      ]
    },
    {
      "cell_type": "code",
      "metadata": {
        "colab": {
          "base_uri": "https://localhost:8080/",
          "height": 501
        },
        "id": "MqDgmZEsRaQL",
        "outputId": "b90a787a-81e3-4b93-a3fd-8fd0295d619f"
      },
      "source": [
        "make_plot(history_temp)"
      ],
      "execution_count": 154,
      "outputs": [
        {
          "output_type": "display_data",
          "data": {
            "image/png": "[encoded data removed]",
            "text/plain": [
              "<Figure size 1152x576 with 2 Axes>"
            ]
          },
          "metadata": {
            "needs_background": "light"
          }
        }
      ]
    },
    {
      "cell_type": "markdown",
      "metadata": {
        "id": "9kQUpE-cRaQM"
      },
      "source": [
        "### Model storage size and summary"
      ]
    },
    {
      "cell_type": "code",
      "metadata": {
        "colab": {
          "base_uri": "https://localhost:8080/"
        },
        "id": "aq9mEQaqRaQM",
        "outputId": "edb5d7f1-8e6f-45f8-b892-2c0d25605f69"
      },
      "source": [
        "model_stk_temp.summary()"
      ],
      "execution_count": 168,
      "outputs": [
        {
          "output_type": "stream",
          "name": "stdout",
          "text": [
            "Model: \"sequential_9\"\n",
            "_________________________________________________________________\n",
            "Layer (type)                 Output Shape              Param #   \n",
            "=================================================================\n",
            "text_vectorization (TextVect (None, None)              0         \n",
            "_________________________________________________________________\n",
            "embedding_9 (Embedding)      (None, None, 64)          64000     \n",
            "_________________________________________________________________\n",
            "bidirectional_14 (Bidirectio (None, None, 128)         66048     \n",
            "_________________________________________________________________\n",
            "bidirectional_15 (Bidirectio (None, 64)                41216     \n",
            "_________________________________________________________________\n",
            "dense_18 (Dense)             (None, 64)                4160      \n",
            "_________________________________________________________________\n",
            "dropout_9 (Dropout)          (None, 64)                0         \n",
            "_________________________________________________________________\n",
            "dense_19 (Dense)             (None, 1)                 65        \n",
            "=================================================================\n",
            "Total params: 175,489\n",
            "Trainable params: 175,489\n",
            "Non-trainable params: 0\n",
            "_________________________________________________________________\n"
          ]
        }
      ]
    },
    {
      "cell_type": "code",
      "metadata": {
        "colab": {
          "base_uri": "https://localhost:8080/"
        },
        "id": "38_hw8azPtDE",
        "outputId": "2b93efdb-c0fd-4dcf-8d7b-026819b8508c"
      },
      "source": [
        "model_stk_temp.save('drive/MyDrive/GaTech/big_data/model_stk_temp')"
      ],
      "execution_count": 149,
      "outputs": [
        {
          "output_type": "stream",
          "name": "stderr",
          "text": [
            "WARNING:absl:Found untraced functions such as lstm_cell_43_layer_call_fn, lstm_cell_43_layer_call_and_return_conditional_losses, lstm_cell_44_layer_call_fn, lstm_cell_44_layer_call_and_return_conditional_losses, lstm_cell_46_layer_call_fn while saving (showing 5 of 20). These functions will not be directly callable after loading.\n"
          ]
        },
        {
          "output_type": "stream",
          "name": "stdout",
          "text": [
            "INFO:tensorflow:Assets written to: drive/MyDrive/GaTech/big_data/model_stk_temp/assets\n"
          ]
        },
        {
          "output_type": "stream",
          "name": "stderr",
          "text": [
            "INFO:tensorflow:Assets written to: drive/MyDrive/GaTech/big_data/model_stk_temp/assets\n"
          ]
        }
      ]
    },
    {
      "cell_type": "code",
      "metadata": {
        "colab": {
          "base_uri": "https://localhost:8080/"
        },
        "id": "o4w_Dg-IRaQM",
        "outputId": "eb1214e2-4784-4da4-9483-7d3ff8e19850"
      },
      "source": [
        "!du -hsx drive/MyDrive/GaTech/big_data/model_stk_temp"
      ],
      "execution_count": 169,
      "outputs": [
        {
          "output_type": "stream",
          "name": "stdout",
          "text": [
            "16M\tdrive/MyDrive/GaTech/big_data/model_stk_temp\n"
          ]
        }
      ]
    },
    {
      "cell_type": "markdown",
      "metadata": {
        "id": "O9vqM3E5Rrn3"
      },
      "source": [
        "### Model with 0.01 LR"
      ]
    },
    {
      "cell_type": "code",
      "metadata": {
        "id": "16yfTD0eATR4"
      },
      "source": [
        "model_stk_lr_temp = tf.keras.Sequential([\n",
        "encoder,\n",
        "tf.keras.layers.Embedding(len(encoder.get_vocabulary()), 64, mask_zero=True),\n",
        "tf.keras.layers.Bidirectional(tf.keras.layers.LSTM(64,  return_sequences=True)),\n",
        "tf.keras.layers.Bidirectional(tf.keras.layers.LSTM(32)),\n",
        "tf.keras.layers.Dense(64, activation='relu'),\n",
        "tf.keras.layers.Dropout(0.5),\n",
        "tf.keras.layers.Dense(1)\n",
        "])"
      ],
      "execution_count": 129,
      "outputs": []
    },
    {
      "cell_type": "code",
      "metadata": {
        "id": "gnv-tPeLATR8"
      },
      "source": [
        "model_stk_lr_temp.compile(loss=tf.keras.losses.BinaryCrossentropy(from_logits=True),\n",
        "              optimizer=tf.keras.optimizers.Adam(0.01),\n",
        "              metrics=['accuracy'])"
      ],
      "execution_count": 130,
      "outputs": []
    },
    {
      "cell_type": "code",
      "metadata": {
        "colab": {
          "base_uri": "https://localhost:8080/"
        },
        "id": "DIgsd2GJ_b8Q",
        "outputId": "2cdc0606-da87-490e-abc3-0960e71e6959"
      },
      "source": [
        "start_time = time.time()\n",
        "\n",
        "history_stk_lr_temp = model_stk_lr_temp.fit(train_dataset, epochs=10,\n",
        "                    validation_data=test_dataset,\n",
        "                    validation_steps=30)\n",
        "\n",
        "end_time = time.time()\n",
        "\n",
        "mins = (end_time-start_time)/60\n",
        "secs = (end_time-start_time)%60\n",
        "\n",
        "print(\"Time taken to train: {} minutes and {} seconds\".format(mins, secs))"
      ],
      "execution_count": 131,
      "outputs": [
        {
          "output_type": "stream",
          "name": "stdout",
          "text": [
            "Epoch 1/10\n",
            "391/391 [==============================] - 70s 149ms/step - loss: 0.6310 - accuracy: 0.5875 - val_loss: 0.4571 - val_accuracy: 0.8052\n",
            "Epoch 2/10\n",
            "391/391 [==============================] - 55s 139ms/step - loss: 0.4036 - accuracy: 0.8158 - val_loss: 0.3491 - val_accuracy: 0.8438\n",
            "Epoch 3/10\n",
            "391/391 [==============================] - 55s 138ms/step - loss: 0.3385 - accuracy: 0.8506 - val_loss: 0.3390 - val_accuracy: 0.8411\n",
            "Epoch 4/10\n",
            "391/391 [==============================] - 55s 139ms/step - loss: 0.3183 - accuracy: 0.8594 - val_loss: 0.3393 - val_accuracy: 0.8438\n",
            "Epoch 5/10\n",
            "391/391 [==============================] - 55s 139ms/step - loss: 0.2953 - accuracy: 0.8738 - val_loss: 0.3415 - val_accuracy: 0.8458\n",
            "Epoch 6/10\n",
            "391/391 [==============================] - 55s 139ms/step - loss: 0.2861 - accuracy: 0.8775 - val_loss: 0.3518 - val_accuracy: 0.8432\n",
            "Epoch 7/10\n",
            "391/391 [==============================] - 55s 140ms/step - loss: 0.2733 - accuracy: 0.8840 - val_loss: 0.3627 - val_accuracy: 0.8505\n",
            "Epoch 8/10\n",
            "391/391 [==============================] - 55s 139ms/step - loss: 0.2609 - accuracy: 0.8842 - val_loss: 0.3507 - val_accuracy: 0.8370\n",
            "Epoch 9/10\n",
            "391/391 [==============================] - 55s 139ms/step - loss: 0.2579 - accuracy: 0.8874 - val_loss: 0.3625 - val_accuracy: 0.8479\n",
            "Epoch 10/10\n",
            "391/391 [==============================] - 55s 139ms/step - loss: 0.2440 - accuracy: 0.8963 - val_loss: 0.3685 - val_accuracy: 0.8536\n",
            "Time taken to train: 11.65376306772232 minutes and 39.22578406333923 seconds\n"
          ]
        }
      ]
    },
    {
      "cell_type": "code",
      "metadata": {
        "colab": {
          "base_uri": "https://localhost:8080/"
        },
        "id": "bZRdpGkXAb9O",
        "outputId": "586adf5b-1e3d-4f98-cd52-018b6b649ffc"
      },
      "source": [
        "test_model(model_stk_lr_temp)"
      ],
      "execution_count": 132,
      "outputs": [
        {
          "output_type": "stream",
          "name": "stdout",
          "text": [
            "391/391 [==============================] - 29s 74ms/step - loss: 0.3467 - accuracy: 0.8613\n",
            "Time taken to test: 0.4834386984507243 minutes and 29.006321907043457 seconds\n",
            "Test Loss: 0.3466644287109375\n",
            "Test Accuracy: 0.8613200187683105\n"
          ]
        }
      ]
    },
    {
      "cell_type": "markdown",
      "metadata": {
        "id": "F92_u668R_Ve"
      },
      "source": [
        "### Confusion Matrix"
      ]
    },
    {
      "cell_type": "code",
      "metadata": {
        "colab": {
          "base_uri": "https://localhost:8080/"
        },
        "id": "IaC0TOnoR_Vh",
        "outputId": "28ac3ef9-83cc-4818-88f0-df9ba3772cc4"
      },
      "source": [
        "get_confusion_matrix(model_stk_lr_temp)"
      ],
      "execution_count": 182,
      "outputs": [
        {
          "output_type": "stream",
          "name": "stdout",
          "text": [
            "[[10408  2092]\n",
            " [ 1371 11129]]\n"
          ]
        }
      ]
    },
    {
      "cell_type": "markdown",
      "metadata": {
        "id": "iPEs8t4mR_Vh"
      },
      "source": [
        "### Train and Validation Plot"
      ]
    },
    {
      "cell_type": "code",
      "metadata": {
        "colab": {
          "base_uri": "https://localhost:8080/",
          "height": 501
        },
        "id": "JI3pvz7LR_Vi",
        "outputId": "ea932a48-0dbf-4d62-ded1-3d20ea12102e"
      },
      "source": [
        "make_plot(history_stk_lr_temp)"
      ],
      "execution_count": 171,
      "outputs": [
        {
          "output_type": "display_data",
          "data": {
            "image/png": "[encoded data removed]",
            "text/plain": [
              "<Figure size 1152x576 with 2 Axes>"
            ]
          },
          "metadata": {
            "needs_background": "light"
          }
        }
      ]
    },
    {
      "cell_type": "markdown",
      "metadata": {
        "id": "jlkHVcGPR_Vi"
      },
      "source": [
        "### Model storage size and summary"
      ]
    },
    {
      "cell_type": "code",
      "metadata": {
        "colab": {
          "base_uri": "https://localhost:8080/"
        },
        "id": "i92cORCvR_Vi",
        "outputId": "c6bbdf55-1733-47c8-c349-000164c40f01"
      },
      "source": [
        "model_stk_lr_temp.summary()"
      ],
      "execution_count": 172,
      "outputs": [
        {
          "output_type": "stream",
          "name": "stdout",
          "text": [
            "Model: \"sequential_11\"\n",
            "_________________________________________________________________\n",
            "Layer (type)                 Output Shape              Param #   \n",
            "=================================================================\n",
            "text_vectorization (TextVect (None, None)              0         \n",
            "_________________________________________________________________\n",
            "embedding_11 (Embedding)     (None, None, 64)          64000     \n",
            "_________________________________________________________________\n",
            "bidirectional_18 (Bidirectio (None, None, 128)         66048     \n",
            "_________________________________________________________________\n",
            "bidirectional_19 (Bidirectio (None, 64)                41216     \n",
            "_________________________________________________________________\n",
            "dense_22 (Dense)             (None, 64)                4160      \n",
            "_________________________________________________________________\n",
            "dropout_11 (Dropout)         (None, 64)                0         \n",
            "_________________________________________________________________\n",
            "dense_23 (Dense)             (None, 1)                 65        \n",
            "=================================================================\n",
            "Total params: 175,489\n",
            "Trainable params: 175,489\n",
            "Non-trainable params: 0\n",
            "_________________________________________________________________\n"
          ]
        }
      ]
    },
    {
      "cell_type": "code",
      "metadata": {
        "colab": {
          "base_uri": "https://localhost:8080/"
        },
        "id": "Cz-DS0YmPyNn",
        "outputId": "ed96f3d0-08e2-466d-8c5c-16df6c71bad0"
      },
      "source": [
        "model_stk_lr_temp.save('drive/MyDrive/GaTech/big_data/model_stk_lr_temp')"
      ],
      "execution_count": 150,
      "outputs": [
        {
          "output_type": "stream",
          "name": "stderr",
          "text": [
            "WARNING:absl:Found untraced functions such as lstm_cell_55_layer_call_fn, lstm_cell_55_layer_call_and_return_conditional_losses, lstm_cell_56_layer_call_fn, lstm_cell_56_layer_call_and_return_conditional_losses, lstm_cell_58_layer_call_fn while saving (showing 5 of 20). These functions will not be directly callable after loading.\n"
          ]
        },
        {
          "output_type": "stream",
          "name": "stdout",
          "text": [
            "INFO:tensorflow:Assets written to: drive/MyDrive/GaTech/big_data/model_stk_lr_temp/assets\n"
          ]
        },
        {
          "output_type": "stream",
          "name": "stderr",
          "text": [
            "INFO:tensorflow:Assets written to: drive/MyDrive/GaTech/big_data/model_stk_lr_temp/assets\n"
          ]
        }
      ]
    },
    {
      "cell_type": "code",
      "metadata": {
        "colab": {
          "base_uri": "https://localhost:8080/"
        },
        "id": "iNXVxOtLR_Vj",
        "outputId": "694a6f4d-4cb8-4481-c86f-b7bbe48866f9"
      },
      "source": [
        "!du -hsx drive/MyDrive/GaTech/big_data/model_stk_lr_temp"
      ],
      "execution_count": 173,
      "outputs": [
        {
          "output_type": "stream",
          "name": "stdout",
          "text": [
            "16M\tdrive/MyDrive/GaTech/big_data/model_stk_lr_temp\n"
          ]
        }
      ]
    },
    {
      "cell_type": "markdown",
      "metadata": {
        "id": "RAw4XBiIgwuy"
      },
      "source": [
        "### Model with 128 Encoding dim"
      ]
    },
    {
      "cell_type": "code",
      "metadata": {
        "id": "kbyUr1YuDvyU"
      },
      "source": [
        "model_stk_enc_temp_1 = tf.keras.Sequential([\n",
        "encoder,\n",
        "tf.keras.layers.Embedding(len(encoder.get_vocabulary()), 128, mask_zero=True),\n",
        "tf.keras.layers.Bidirectional(tf.keras.layers.LSTM(64,  return_sequences=True)),\n",
        "tf.keras.layers.Bidirectional(tf.keras.layers.LSTM(32)),\n",
        "tf.keras.layers.Dense(64, activation='relu'),\n",
        "tf.keras.layers.Dropout(0.5),\n",
        "tf.keras.layers.Dense(1)\n",
        "])"
      ],
      "execution_count": 206,
      "outputs": []
    },
    {
      "cell_type": "code",
      "metadata": {
        "id": "Lmsfwk3jDvyW"
      },
      "source": [
        "model_stk_enc_temp_1.compile(loss=tf.keras.losses.BinaryCrossentropy(from_logits=True),\n",
        "              optimizer=tf.keras.optimizers.Adam(1e-4),\n",
        "              metrics=['accuracy'])"
      ],
      "execution_count": 207,
      "outputs": []
    },
    {
      "cell_type": "code",
      "metadata": {
        "colab": {
          "base_uri": "https://localhost:8080/"
        },
        "id": "FtgbcLV1DxQU",
        "outputId": "96ce9fa2-3009-483e-9160-63341da49c00"
      },
      "source": [
        "start_time = time.time()\n",
        "\n",
        "history_stk_enc_temp_1 = model_stk_enc_temp_1.fit(train_dataset, epochs=10,\n",
        "                    validation_data=test_dataset,\n",
        "                    validation_steps=30)\n",
        "\n",
        "end_time = time.time()\n",
        "\n",
        "mins = (end_time-start_time)/60\n",
        "secs = (end_time-start_time)%60\n",
        "\n",
        "print(\"Time taken to train: {} minutes and {} seconds\".format(mins, secs))"
      ],
      "execution_count": 208,
      "outputs": [
        {
          "output_type": "stream",
          "name": "stdout",
          "text": [
            "Epoch 1/10\n",
            "391/391 [==============================] - 72s 153ms/step - loss: 0.6288 - accuracy: 0.5826 - val_loss: 0.4526 - val_accuracy: 0.8062\n",
            "Epoch 2/10\n",
            "391/391 [==============================] - 57s 146ms/step - loss: 0.3870 - accuracy: 0.8302 - val_loss: 0.3491 - val_accuracy: 0.8427\n",
            "Epoch 3/10\n",
            "391/391 [==============================] - 57s 143ms/step - loss: 0.3366 - accuracy: 0.8566 - val_loss: 0.3342 - val_accuracy: 0.8391\n",
            "Epoch 4/10\n",
            "391/391 [==============================] - 57s 144ms/step - loss: 0.3189 - accuracy: 0.8637 - val_loss: 0.3390 - val_accuracy: 0.8292\n",
            "Epoch 5/10\n",
            "391/391 [==============================] - 56s 143ms/step - loss: 0.3109 - accuracy: 0.8677 - val_loss: 0.3334 - val_accuracy: 0.8354\n",
            "Epoch 6/10\n",
            "391/391 [==============================] - 57s 144ms/step - loss: 0.3032 - accuracy: 0.8705 - val_loss: 0.3355 - val_accuracy: 0.8583\n",
            "Epoch 7/10\n",
            "391/391 [==============================] - 56s 143ms/step - loss: 0.3011 - accuracy: 0.8723 - val_loss: 0.3249 - val_accuracy: 0.8359\n",
            "Epoch 8/10\n",
            "391/391 [==============================] - 56s 143ms/step - loss: 0.2936 - accuracy: 0.8746 - val_loss: 0.3223 - val_accuracy: 0.8432\n",
            "Epoch 9/10\n",
            "391/391 [==============================] - 56s 143ms/step - loss: 0.2900 - accuracy: 0.8754 - val_loss: 0.3227 - val_accuracy: 0.8401\n",
            "Epoch 10/10\n",
            "391/391 [==============================] - 56s 143ms/step - loss: 0.2909 - accuracy: 0.8745 - val_loss: 0.3175 - val_accuracy: 0.8656\n",
            "Time taken to train: 11.723275025685629 minutes and 43.396501541137695 seconds\n"
          ]
        }
      ]
    },
    {
      "cell_type": "code",
      "metadata": {
        "colab": {
          "base_uri": "https://localhost:8080/"
        },
        "id": "e1TEDyz_FLAf",
        "outputId": "a3e69c99-8b30-4224-ace3-4eeb6ef3c086"
      },
      "source": [
        "test_model(model_stk_enc_temp_1)"
      ],
      "execution_count": 209,
      "outputs": [
        {
          "output_type": "stream",
          "name": "stdout",
          "text": [
            "391/391 [==============================] - 30s 77ms/step - loss: 0.3209 - accuracy: 0.8634\n",
            "Time taken to test: 0.5025822202364604 minutes and 30.154933214187622 seconds\n",
            "Test Loss: 0.3208688199520111\n",
            "Test Accuracy: 0.8633999824523926\n"
          ]
        }
      ]
    },
    {
      "cell_type": "markdown",
      "metadata": {
        "id": "D7T4sH7pSF-M"
      },
      "source": [
        "### Confusion Matrix"
      ]
    },
    {
      "cell_type": "code",
      "metadata": {
        "colab": {
          "base_uri": "https://localhost:8080/"
        },
        "id": "BeckcPobSF-N",
        "outputId": "fe3060cd-9c2c-4179-dc83-8b1489dcdb66"
      },
      "source": [
        "get_confusion_matrix(model_stk_enc_temp_1)"
      ],
      "execution_count": 210,
      "outputs": [
        {
          "output_type": "stream",
          "name": "stdout",
          "text": [
            "[[10664  1836]\n",
            " [ 1544 10956]]\n"
          ]
        }
      ]
    },
    {
      "cell_type": "markdown",
      "metadata": {
        "id": "_CHTtbrlSF-O"
      },
      "source": [
        "### Train and Validation Plot"
      ]
    },
    {
      "cell_type": "code",
      "metadata": {
        "colab": {
          "base_uri": "https://localhost:8080/",
          "height": 501
        },
        "id": "7TDNO5b6SF-O",
        "outputId": "77deab7a-c303-4bcb-d081-9b5e63f2470d"
      },
      "source": [
        "make_plot(history_stk_enc_temp_1)"
      ],
      "execution_count": 225,
      "outputs": [
        {
          "output_type": "display_data",
          "data": {
            "image/png": "[encoded data removed]",
            "text/plain": [
              "<Figure size 1152x576 with 2 Axes>"
            ]
          },
          "metadata": {
            "needs_background": "light"
          }
        }
      ]
    },
    {
      "cell_type": "markdown",
      "metadata": {
        "id": "R_XZr0NRSF-O"
      },
      "source": [
        "### Model storage size and summary"
      ]
    },
    {
      "cell_type": "code",
      "metadata": {
        "colab": {
          "base_uri": "https://localhost:8080/"
        },
        "id": "zzm_5XiKSF-O",
        "outputId": "364a6930-db88-4bab-f8d9-4ffb43103883"
      },
      "source": [
        "model_stk_enc_temp_1.summary()"
      ],
      "execution_count": 212,
      "outputs": [
        {
          "output_type": "stream",
          "name": "stdout",
          "text": [
            "Model: \"sequential_19\"\n",
            "_________________________________________________________________\n",
            "Layer (type)                 Output Shape              Param #   \n",
            "=================================================================\n",
            "text_vectorization (TextVect (None, None)              0         \n",
            "_________________________________________________________________\n",
            "embedding_19 (Embedding)     (None, None, 128)         128000    \n",
            "_________________________________________________________________\n",
            "bidirectional_31 (Bidirectio (None, None, 128)         98816     \n",
            "_________________________________________________________________\n",
            "bidirectional_32 (Bidirectio (None, 64)                41216     \n",
            "_________________________________________________________________\n",
            "dense_38 (Dense)             (None, 64)                4160      \n",
            "_________________________________________________________________\n",
            "dropout_18 (Dropout)         (None, 64)                0         \n",
            "_________________________________________________________________\n",
            "dense_39 (Dense)             (None, 1)                 65        \n",
            "=================================================================\n",
            "Total params: 272,257\n",
            "Trainable params: 272,257\n",
            "Non-trainable params: 0\n",
            "_________________________________________________________________\n"
          ]
        }
      ]
    },
    {
      "cell_type": "code",
      "metadata": {
        "colab": {
          "base_uri": "https://localhost:8080/"
        },
        "id": "Nv9EU6BEP2lr",
        "outputId": "7d082c60-8eb3-473f-a59b-5c0736bfd2cd"
      },
      "source": [
        "model_stk_enc_temp_1.save('drive/MyDrive/GaTech/big_data/model_stk_enc_temp_1')"
      ],
      "execution_count": 213,
      "outputs": [
        {
          "output_type": "stream",
          "name": "stderr",
          "text": [
            "WARNING:absl:Found untraced functions such as lstm_cell_94_layer_call_fn, lstm_cell_94_layer_call_and_return_conditional_losses, lstm_cell_95_layer_call_fn, lstm_cell_95_layer_call_and_return_conditional_losses, lstm_cell_97_layer_call_fn while saving (showing 5 of 20). These functions will not be directly callable after loading.\n"
          ]
        },
        {
          "output_type": "stream",
          "name": "stdout",
          "text": [
            "INFO:tensorflow:Assets written to: drive/MyDrive/GaTech/big_data/model_stk_enc_temp_1/assets\n"
          ]
        },
        {
          "output_type": "stream",
          "name": "stderr",
          "text": [
            "INFO:tensorflow:Assets written to: drive/MyDrive/GaTech/big_data/model_stk_enc_temp_1/assets\n"
          ]
        }
      ]
    },
    {
      "cell_type": "code",
      "metadata": {
        "colab": {
          "base_uri": "https://localhost:8080/"
        },
        "id": "g8BRSOVGSF-P",
        "outputId": "fc234b6b-e47e-441a-ddbc-4e71fa4c1cd6"
      },
      "source": [
        "!du -hsx drive/MyDrive/GaTech/big_data/model_stk_enc_temp_1"
      ],
      "execution_count": 214,
      "outputs": [
        {
          "output_type": "stream",
          "name": "stdout",
          "text": [
            "17M\tdrive/MyDrive/GaTech/big_data/model_stk_enc_temp_1\n"
          ]
        }
      ]
    },
    {
      "cell_type": "markdown",
      "metadata": {
        "id": "DDqtZcUOg3LH"
      },
      "source": [
        "### Model with 128 Enc dim and 0.01 LR"
      ]
    },
    {
      "cell_type": "code",
      "metadata": {
        "id": "q6Apvh3eFYiT"
      },
      "source": [
        "model_stk_enc_lr_temp_1 = tf.keras.Sequential([\n",
        "encoder,\n",
        "tf.keras.layers.Embedding(len(encoder.get_vocabulary()), 128, mask_zero=True),\n",
        "tf.keras.layers.Bidirectional(tf.keras.layers.LSTM(64,  return_sequences=True)),\n",
        "tf.keras.layers.Bidirectional(tf.keras.layers.LSTM(32)),\n",
        "tf.keras.layers.Dense(64, activation='relu'),\n",
        "tf.keras.layers.Dropout(0.5),\n",
        "tf.keras.layers.Dense(1)\n",
        "])"
      ],
      "execution_count": 215,
      "outputs": []
    },
    {
      "cell_type": "code",
      "metadata": {
        "id": "QiP_jzcSFYiV"
      },
      "source": [
        "model_stk_enc_lr_temp_1.compile(loss=tf.keras.losses.BinaryCrossentropy(from_logits=True),\n",
        "              optimizer=tf.keras.optimizers.Adam(0.01),\n",
        "              metrics=['accuracy'])"
      ],
      "execution_count": 216,
      "outputs": []
    },
    {
      "cell_type": "code",
      "metadata": {
        "colab": {
          "base_uri": "https://localhost:8080/"
        },
        "id": "7P93AbNtFgdp",
        "outputId": "0f685c10-3552-4bb2-cf18-735e468e943a"
      },
      "source": [
        "start_time = time.time()\n",
        "\n",
        "history_stk_enc_lr_temp_1 = model_stk_enc_lr_temp_1.fit(train_dataset, epochs=10,\n",
        "                    validation_data=test_dataset,\n",
        "                    validation_steps=30)\n",
        "\n",
        "end_time = time.time()\n",
        "\n",
        "mins = (end_time-start_time)/60\n",
        "secs = (end_time-start_time)%60\n",
        "\n",
        "print(\"Time taken to train: {} minutes and {} seconds\".format(mins, secs))"
      ],
      "execution_count": 217,
      "outputs": [
        {
          "output_type": "stream",
          "name": "stdout",
          "text": [
            "Epoch 1/10\n",
            "391/391 [==============================] - 73s 154ms/step - loss: 0.5592 - accuracy: 0.6841 - val_loss: 0.4085 - val_accuracy: 0.8161\n",
            "Epoch 2/10\n",
            "391/391 [==============================] - 57s 144ms/step - loss: 0.3801 - accuracy: 0.8286 - val_loss: 0.3617 - val_accuracy: 0.8031\n",
            "Epoch 3/10\n",
            "391/391 [==============================] - 57s 145ms/step - loss: 0.3311 - accuracy: 0.8515 - val_loss: 0.3481 - val_accuracy: 0.8411\n",
            "Epoch 4/10\n",
            "391/391 [==============================] - 57s 144ms/step - loss: 0.3127 - accuracy: 0.8592 - val_loss: 0.3331 - val_accuracy: 0.8417\n",
            "Epoch 5/10\n",
            "391/391 [==============================] - 58s 146ms/step - loss: 0.2911 - accuracy: 0.8746 - val_loss: 0.3219 - val_accuracy: 0.8599\n",
            "Epoch 6/10\n",
            "391/391 [==============================] - 57s 144ms/step - loss: 0.2754 - accuracy: 0.8800 - val_loss: 0.3380 - val_accuracy: 0.8620\n",
            "Epoch 7/10\n",
            "391/391 [==============================] - 56s 143ms/step - loss: 0.2686 - accuracy: 0.8837 - val_loss: 0.3109 - val_accuracy: 0.8474\n",
            "Epoch 8/10\n",
            "391/391 [==============================] - 56s 142ms/step - loss: 0.2603 - accuracy: 0.8895 - val_loss: 0.3182 - val_accuracy: 0.8542\n",
            "Epoch 9/10\n",
            "391/391 [==============================] - 56s 143ms/step - loss: 0.2505 - accuracy: 0.8938 - val_loss: 0.3259 - val_accuracy: 0.8458\n",
            "Epoch 10/10\n",
            "391/391 [==============================] - 56s 143ms/step - loss: 0.2449 - accuracy: 0.8974 - val_loss: 0.3521 - val_accuracy: 0.8521\n",
            "Time taken to train: 11.738250684738158 minutes and 44.29504108428955 seconds\n"
          ]
        }
      ]
    },
    {
      "cell_type": "code",
      "metadata": {
        "colab": {
          "base_uri": "https://localhost:8080/"
        },
        "id": "XcsBlx8iFr8T",
        "outputId": "8482a6d7-dd22-4da3-9dc4-8151ad4af2be"
      },
      "source": [
        "test_model(model_stk_enc_lr_temp_1)"
      ],
      "execution_count": 218,
      "outputs": [
        {
          "output_type": "stream",
          "name": "stdout",
          "text": [
            "391/391 [==============================] - 30s 75ms/step - loss: 0.3343 - accuracy: 0.8581\n",
            "Time taken to test: 0.49233694473902384 minutes and 29.54021668434143 seconds\n",
            "Test Loss: 0.3342568874359131\n",
            "Test Accuracy: 0.8580800294876099\n"
          ]
        }
      ]
    },
    {
      "cell_type": "markdown",
      "metadata": {
        "id": "qJ-0M6jxSLe8"
      },
      "source": [
        "### Confusion Matrix"
      ]
    },
    {
      "cell_type": "code",
      "metadata": {
        "colab": {
          "base_uri": "https://localhost:8080/"
        },
        "id": "_BAEgl18SLe9",
        "outputId": "d6fd041c-9eb5-416e-9c23-6569d5df4def"
      },
      "source": [
        "get_confusion_matrix(model_stk_enc_lr_temp_1)"
      ],
      "execution_count": 219,
      "outputs": [
        {
          "output_type": "stream",
          "name": "stdout",
          "text": [
            "[[11235  1265]\n",
            " [ 2076 10424]]\n"
          ]
        }
      ]
    },
    {
      "cell_type": "markdown",
      "metadata": {
        "id": "UywFqbpxSLe9"
      },
      "source": [
        "### Train and Validation Plot"
      ]
    },
    {
      "cell_type": "code",
      "metadata": {
        "colab": {
          "base_uri": "https://localhost:8080/",
          "height": 501
        },
        "id": "Vyrol6aoSLe9",
        "outputId": "44167d75-30b2-4f5b-d1ae-029d656df721"
      },
      "source": [
        "make_plot(history_stk_enc_lr_temp_1)"
      ],
      "execution_count": 220,
      "outputs": [
        {
          "output_type": "display_data",
          "data": {
            "image/png": "[encoded data removed]",
            "text/plain": [
              "<Figure size 1152x576 with 2 Axes>"
            ]
          },
          "metadata": {
            "needs_background": "light"
          }
        }
      ]
    },
    {
      "cell_type": "markdown",
      "metadata": {
        "id": "4tWv7lhwSLe-"
      },
      "source": [
        "### Model storage size and summary"
      ]
    },
    {
      "cell_type": "code",
      "metadata": {
        "colab": {
          "base_uri": "https://localhost:8080/"
        },
        "id": "Afj0X0vQSLe-",
        "outputId": "11477118-f0d2-499a-a010-62ecb1635628"
      },
      "source": [
        "model_stk_enc_lr_temp_1.summary()"
      ],
      "execution_count": 221,
      "outputs": [
        {
          "output_type": "stream",
          "name": "stdout",
          "text": [
            "Model: \"sequential_20\"\n",
            "_________________________________________________________________\n",
            "Layer (type)                 Output Shape              Param #   \n",
            "=================================================================\n",
            "text_vectorization (TextVect (None, None)              0         \n",
            "_________________________________________________________________\n",
            "embedding_20 (Embedding)     (None, None, 128)         128000    \n",
            "_________________________________________________________________\n",
            "bidirectional_33 (Bidirectio (None, None, 128)         98816     \n",
            "_________________________________________________________________\n",
            "bidirectional_34 (Bidirectio (None, 64)                41216     \n",
            "_________________________________________________________________\n",
            "dense_40 (Dense)             (None, 64)                4160      \n",
            "_________________________________________________________________\n",
            "dropout_19 (Dropout)         (None, 64)                0         \n",
            "_________________________________________________________________\n",
            "dense_41 (Dense)             (None, 1)                 65        \n",
            "=================================================================\n",
            "Total params: 272,257\n",
            "Trainable params: 272,257\n",
            "Non-trainable params: 0\n",
            "_________________________________________________________________\n"
          ]
        }
      ]
    },
    {
      "cell_type": "code",
      "metadata": {
        "colab": {
          "base_uri": "https://localhost:8080/"
        },
        "id": "SdwaVf90K3JD",
        "outputId": "06eff769-f447-48c1-a501-07f84665b740"
      },
      "source": [
        "model_stk_enc_lr_temp_1.save('drive/MyDrive/GaTech/big_data/model_stk_enc_lr_temp_1')"
      ],
      "execution_count": 222,
      "outputs": [
        {
          "output_type": "stream",
          "name": "stderr",
          "text": [
            "WARNING:absl:Found untraced functions such as lstm_cell_100_layer_call_fn, lstm_cell_100_layer_call_and_return_conditional_losses, lstm_cell_101_layer_call_fn, lstm_cell_101_layer_call_and_return_conditional_losses, lstm_cell_103_layer_call_fn while saving (showing 5 of 20). These functions will not be directly callable after loading.\n"
          ]
        },
        {
          "output_type": "stream",
          "name": "stdout",
          "text": [
            "INFO:tensorflow:Assets written to: drive/MyDrive/GaTech/big_data/model_stk_enc_lr_temp_1/assets\n"
          ]
        },
        {
          "output_type": "stream",
          "name": "stderr",
          "text": [
            "INFO:tensorflow:Assets written to: drive/MyDrive/GaTech/big_data/model_stk_enc_lr_temp_1/assets\n"
          ]
        }
      ]
    },
    {
      "cell_type": "code",
      "metadata": {
        "colab": {
          "base_uri": "https://localhost:8080/"
        },
        "id": "AFB9hNwsSLe-",
        "outputId": "008a2e4f-6462-4510-9ea1-534831cf5baa"
      },
      "source": [
        "!du -hsx drive/MyDrive/GaTech/big_data/model_stk_enc_lr_temp_1"
      ],
      "execution_count": 224,
      "outputs": [
        {
          "output_type": "stream",
          "name": "stdout",
          "text": [
            "17M\tdrive/MyDrive/GaTech/big_data/model_stk_enc_lr_temp_1\n"
          ]
        }
      ]
    },
    {
      "cell_type": "markdown",
      "metadata": {
        "id": "huh6RMK8qSYO"
      },
      "source": [
        "### Dropout Model"
      ]
    },
    {
      "cell_type": "code",
      "metadata": {
        "id": "KWbmkjEAqSYU"
      },
      "source": [
        "model_drop_temp = tf.keras.Sequential([\n",
        "    encoder,\n",
        "    tf.keras.layers.Embedding(\n",
        "        input_dim=len(encoder.get_vocabulary()),\n",
        "        output_dim=64,\n",
        "        # Use masking to handle the variable sequence lengths\n",
        "        mask_zero=True),\n",
        "    tf.keras.layers.Bidirectional(tf.keras.layers.LSTM(64)),\n",
        "    tf.keras.layers.Dense(64, activation='relu'),\n",
        "    tf.keras.layers.Dense(1)\n",
        "])  # Can change the embedding initializer and in fact\n",
        "    #all the other hyperparameters in the various layers"
      ],
      "execution_count": 195,
      "outputs": []
    },
    {
      "cell_type": "code",
      "metadata": {
        "id": "KBS-epBSqSYV"
      },
      "source": [
        "model_drop_temp.compile(loss=tf.keras.losses.BinaryCrossentropy(from_logits=True),\n",
        "              optimizer=tf.keras.optimizers.Adam(1e-4),\n",
        "              metrics=['accuracy'])"
      ],
      "execution_count": 196,
      "outputs": []
    },
    {
      "cell_type": "code",
      "metadata": {
        "colab": {
          "base_uri": "https://localhost:8080/"
        },
        "id": "0nPWxPG-qSYW",
        "outputId": "6493984b-88f0-4bad-a11a-9237ed961205"
      },
      "source": [
        "start_time = time.time()\n",
        "\n",
        "history_drop_temp = model_drop_temp.fit(train_dataset, epochs=10,\n",
        "                    validation_data=test_dataset,\n",
        "                    validation_steps=30)\n",
        "\n",
        "end_time = time.time()\n",
        "\n",
        "mins = (end_time-start_time)/60\n",
        "secs = (end_time-start_time)%60\n",
        "\n",
        "print(\"Time taken to train: {} minutes and {} seconds\".format(mins, secs))"
      ],
      "execution_count": 197,
      "outputs": [
        {
          "output_type": "stream",
          "name": "stdout",
          "text": [
            "Epoch 1/10\n",
            "391/391 [==============================] - 43s 93ms/step - loss: 0.6396 - accuracy: 0.5816 - val_loss: 0.5007 - val_accuracy: 0.7781\n",
            "Epoch 2/10\n",
            "391/391 [==============================] - 34s 86ms/step - loss: 0.4493 - accuracy: 0.7852 - val_loss: 0.4649 - val_accuracy: 0.7505\n",
            "Epoch 3/10\n",
            "391/391 [==============================] - 35s 87ms/step - loss: 0.3737 - accuracy: 0.8344 - val_loss: 0.3613 - val_accuracy: 0.8469\n",
            "Epoch 4/10\n",
            "391/391 [==============================] - 35s 87ms/step - loss: 0.3350 - accuracy: 0.8529 - val_loss: 0.3381 - val_accuracy: 0.8589\n",
            "Epoch 5/10\n",
            "391/391 [==============================] - 34s 86ms/step - loss: 0.3223 - accuracy: 0.8587 - val_loss: 0.3278 - val_accuracy: 0.8552\n",
            "Epoch 6/10\n",
            "391/391 [==============================] - 34s 87ms/step - loss: 0.3108 - accuracy: 0.8667 - val_loss: 0.3217 - val_accuracy: 0.8615\n",
            "Epoch 7/10\n",
            "391/391 [==============================] - 34s 87ms/step - loss: 0.3058 - accuracy: 0.8690 - val_loss: 0.3242 - val_accuracy: 0.8526\n",
            "Epoch 8/10\n",
            "391/391 [==============================] - 34s 87ms/step - loss: 0.3005 - accuracy: 0.8720 - val_loss: 0.3299 - val_accuracy: 0.8547\n",
            "Epoch 9/10\n",
            "391/391 [==============================] - 34s 87ms/step - loss: 0.2979 - accuracy: 0.8713 - val_loss: 0.3204 - val_accuracy: 0.8594\n",
            "Epoch 10/10\n",
            "391/391 [==============================] - 34s 87ms/step - loss: 0.2982 - accuracy: 0.8731 - val_loss: 0.3208 - val_accuracy: 0.8661\n",
            "Time taken to train: 6.54355084101359 minutes and 32.61305046081543 seconds\n"
          ]
        }
      ]
    },
    {
      "cell_type": "code",
      "metadata": {
        "colab": {
          "base_uri": "https://localhost:8080/"
        },
        "id": "YEpBU-b9qSYX",
        "outputId": "baef6359-085b-431f-bd20-f783d0aa16c1"
      },
      "source": [
        "test_model(model_drop_temp)"
      ],
      "execution_count": 198,
      "outputs": [
        {
          "output_type": "stream",
          "name": "stdout",
          "text": [
            "391/391 [==============================] - 20s 50ms/step - loss: 0.3178 - accuracy: 0.8622\n",
            "Time taken to test: 0.32717066605885825 minutes and 19.630239963531494 seconds\n",
            "Test Loss: 0.3178006112575531\n",
            "Test Accuracy: 0.8622400164604187\n"
          ]
        }
      ]
    },
    {
      "cell_type": "markdown",
      "metadata": {
        "id": "U0q657MBqSYX"
      },
      "source": [
        "### Confusion Matrix"
      ]
    },
    {
      "cell_type": "code",
      "metadata": {
        "colab": {
          "base_uri": "https://localhost:8080/"
        },
        "id": "s4sFwSTFqSYX",
        "outputId": "98ec445b-f2a6-40b3-f759-4625cb3aa326"
      },
      "source": [
        "get_confusion_matrix(model_drop_temp)"
      ],
      "execution_count": 199,
      "outputs": [
        {
          "output_type": "stream",
          "name": "stdout",
          "text": [
            "[[10700  1800]\n",
            " [ 1604 10896]]\n"
          ]
        }
      ]
    },
    {
      "cell_type": "markdown",
      "metadata": {
        "id": "lT2OMKbPqSYY"
      },
      "source": [
        "### Train and Validation Plot"
      ]
    },
    {
      "cell_type": "code",
      "metadata": {
        "colab": {
          "base_uri": "https://localhost:8080/",
          "height": 501
        },
        "id": "F7e0Q6i4qSYY",
        "outputId": "0ce13f8a-f06b-4b21-e9fc-61ea5c5aae61"
      },
      "source": [
        "make_plot(history_drop_temp)"
      ],
      "execution_count": 200,
      "outputs": [
        {
          "output_type": "display_data",
          "data": {
            "image/png": "[encoded data removed]",
            "text/plain": [
              "<Figure size 1152x576 with 2 Axes>"
            ]
          },
          "metadata": {
            "needs_background": "light"
          }
        }
      ]
    },
    {
      "cell_type": "markdown",
      "metadata": {
        "id": "q2_sE-9TqSYY"
      },
      "source": [
        "### Model storage size and summary"
      ]
    },
    {
      "cell_type": "code",
      "metadata": {
        "colab": {
          "base_uri": "https://localhost:8080/"
        },
        "id": "WtubbLshqSYY",
        "outputId": "90642063-f721-421b-8c0e-1c5eda1bdfb8"
      },
      "source": [
        "model_drop_temp.summary()"
      ],
      "execution_count": null,
      "outputs": [
        {
          "output_type": "stream",
          "name": "stdout",
          "text": [
            "Model: \"sequential_15\"\n",
            "_________________________________________________________________\n",
            "Layer (type)                 Output Shape              Param #   \n",
            "=================================================================\n",
            "text_vectorization (TextVect (None, None)              0         \n",
            "_________________________________________________________________\n",
            "embedding_15 (Embedding)     (None, None, 64)          64000     \n",
            "_________________________________________________________________\n",
            "bidirectional_25 (Bidirectio (None, 128)               66048     \n",
            "_________________________________________________________________\n",
            "dense_30 (Dense)             (None, 64)                8256      \n",
            "_________________________________________________________________\n",
            "dropout_15 (Dropout)         (None, 64)                0         \n",
            "_________________________________________________________________\n",
            "dense_31 (Dense)             (None, 1)                 65        \n",
            "=================================================================\n",
            "Total params: 138,369\n",
            "Trainable params: 138,369\n",
            "Non-trainable params: 0\n",
            "_________________________________________________________________\n"
          ]
        }
      ]
    },
    {
      "cell_type": "code",
      "metadata": {
        "colab": {
          "base_uri": "https://localhost:8080/"
        },
        "id": "sWDawZW_qSYY",
        "outputId": "8c8e1160-2398-48cc-ef48-32db2d1a8c75"
      },
      "source": [
        "model_base_temp.save('drive/MyDrive/GaTech/big_data/model_base_temp')"
      ],
      "execution_count": null,
      "outputs": [
        {
          "output_type": "stream",
          "name": "stderr",
          "text": [
            "WARNING:absl:Found untraced functions such as lstm_cell_76_layer_call_fn, lstm_cell_76_layer_call_and_return_conditional_losses, lstm_cell_77_layer_call_fn, lstm_cell_77_layer_call_and_return_conditional_losses, lstm_cell_76_layer_call_fn while saving (showing 5 of 10). These functions will not be directly callable after loading.\n"
          ]
        },
        {
          "output_type": "stream",
          "name": "stdout",
          "text": [
            "INFO:tensorflow:Assets written to: drive/MyDrive/GaTech/big_data/model_base_temp/assets\n"
          ]
        },
        {
          "output_type": "stream",
          "name": "stderr",
          "text": [
            "INFO:tensorflow:Assets written to: drive/MyDrive/GaTech/big_data/model_base_temp/assets\n"
          ]
        }
      ]
    },
    {
      "cell_type": "code",
      "metadata": {
        "colab": {
          "base_uri": "https://localhost:8080/"
        },
        "id": "MQpcNyeJqSYZ",
        "outputId": "68d683c9-f5db-4803-d6d5-53b2ba9f1840"
      },
      "source": [
        "!du -hsx drive/MyDrive/GaTech/big_data/model_base_temp"
      ],
      "execution_count": null,
      "outputs": [
        {
          "output_type": "stream",
          "name": "stdout",
          "text": [
            "8.5M\tdrive/MyDrive/GaTech/big_data/model_base_temp\n"
          ]
        }
      ]
    },
    {
      "cell_type": "code",
      "metadata": {
        "id": "wyU8zchJadLr"
      },
      "source": [
        ""
      ],
      "execution_count": null,
      "outputs": []
    }
  ]
}